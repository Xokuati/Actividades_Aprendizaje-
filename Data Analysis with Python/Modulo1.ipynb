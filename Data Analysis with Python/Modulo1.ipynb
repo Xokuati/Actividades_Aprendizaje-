{
  "nbformat": 4,
  "nbformat_minor": 0,
  "metadata": {
    "colab": {
      "provenance": [],
      "collapsed_sections": [],
      "authorship_tag": "ABX9TyMWETUikpHVZeWcGHZ0/M+L",
      "include_colab_link": true
    },
    "kernelspec": {
      "name": "python3",
      "display_name": "Python 3"
    },
    "language_info": {
      "name": "python"
    }
  },
  "cells": [
    {
      "cell_type": "markdown",
      "metadata": {
        "id": "view-in-github",
        "colab_type": "text"
      },
      "source": [
        "<a href=\"https://colab.research.google.com/github/Xokuati/Actividades_Aprendizaje-/blob/main/Data%20Analysis%20with%20Python/Modulo1.ipynb\" target=\"_parent\"><img src=\"https://colab.research.google.com/assets/colab-badge.svg\" alt=\"Open In Colab\"/></a>"
      ]
    },
    {
      "cell_type": "markdown",
      "source": [
        "#Fernando Israel Correa Mendoza A01793869\n",
        "\n",
        "##Data Analysis with Python\n",
        "\n",
        "##Modulo 1"
      ],
      "metadata": {
        "id": "ef-TkKYFm6zq"
      }
    },
    {
      "cell_type": "markdown",
      "source": [
        "###Data Wrangling"
      ],
      "metadata": {
        "id": "qUv7pjX4ncvI"
      }
    },
    {
      "cell_type": "markdown",
      "source": [
        "Inmportacion de librerias para mauipilar dataset"
      ],
      "metadata": {
        "id": "ZkGmewdypPh_"
      }
    },
    {
      "cell_type": "code",
      "source": [
        "import pandas as pd\n",
        "import matplotlib.pylab as plt\n",
        "import numpy as np"
      ],
      "metadata": {
        "id": "agosU72yngcC"
      },
      "execution_count": 20,
      "outputs": []
    },
    {
      "cell_type": "markdown",
      "source": [
        "Descarga del  archivo"
      ],
      "metadata": {
        "id": "jYr5Ye-IpfLU"
      }
    },
    {
      "cell_type": "code",
      "source": [
        "! wget \"https://cf-courses-data.s3.us.cloud-object-storage.appdomain.cloud/IBMDeveloperSkillsNetwork-DA0101EN-SkillsNetwork/labs/Data%20files/auto.csv\""
      ],
      "metadata": {
        "colab": {
          "base_uri": "https://localhost:8080/"
        },
        "id": "ugmcN8v0njTl",
        "outputId": "4f3ed6e3-fbdf-45a6-ac0d-41c763466170"
      },
      "execution_count": 11,
      "outputs": [
        {
          "output_type": "stream",
          "name": "stdout",
          "text": [
            "--2022-10-12 00:39:36--  https://cf-courses-data.s3.us.cloud-object-storage.appdomain.cloud/IBMDeveloperSkillsNetwork-DA0101EN-SkillsNetwork/labs/Data%20files/auto.csv\n",
            "Resolving cf-courses-data.s3.us.cloud-object-storage.appdomain.cloud (cf-courses-data.s3.us.cloud-object-storage.appdomain.cloud)... 169.63.118.104\n",
            "Connecting to cf-courses-data.s3.us.cloud-object-storage.appdomain.cloud (cf-courses-data.s3.us.cloud-object-storage.appdomain.cloud)|169.63.118.104|:443... connected.\n",
            "HTTP request sent, awaiting response... 200 OK\n",
            "Length: 24916 (24K) [text/csv]\n",
            "Saving to: ‘auto.csv’\n",
            "\n",
            "auto.csv            100%[===================>]  24.33K  --.-KB/s    in 0.01s   \n",
            "\n",
            "2022-10-12 00:39:36 (1.95 MB/s) - ‘auto.csv’ saved [24916/24916]\n",
            "\n"
          ]
        }
      ]
    },
    {
      "cell_type": "markdown",
      "source": [
        "Declaaracion de variabel de nombre del archivo."
      ],
      "metadata": {
        "id": "cd9WNFaSpi1-"
      }
    },
    {
      "cell_type": "code",
      "source": [
        "filename = \"auto.csv\""
      ],
      "metadata": {
        "id": "yNJPwnw0orTU"
      },
      "execution_count": 257,
      "outputs": []
    },
    {
      "cell_type": "markdown",
      "source": [
        "Creacion de un arreglo con las columnas del archivo."
      ],
      "metadata": {
        "id": "wMXptQmOpVkJ"
      }
    },
    {
      "cell_type": "code",
      "source": [
        "headers = [\"symboling\",\"normalized-losses\",\"make\",\"fuel-type\",\"aspiration\", \"num-of-doors\",\"body-style\",\n",
        "         \"drive-wheels\",\"engine-location\",\"wheel-base\", \"length\",\"width\",\"height\",\"curb-weight\",\"engine-type\",\n",
        "         \"num-of-cylinders\", \"engine-size\",\"fuel-system\",\"bore\",\"stroke\",\"compression-ratio\",\"horsepower\",\n",
        "         \"peak-rpm\",\"city-mpg\",\"highway-mpg\",\"price\"]"
      ],
      "metadata": {
        "id": "ewfNYs_4ogI0"
      },
      "execution_count": 258,
      "outputs": []
    },
    {
      "cell_type": "markdown",
      "source": [
        "Creacipon de dataframe"
      ],
      "metadata": {
        "id": "FjAYaKvhpvgE"
      }
    },
    {
      "cell_type": "code",
      "source": [
        "df = pd.read_csv(filename, names = headers)"
      ],
      "metadata": {
        "id": "51DovwX9ohst"
      },
      "execution_count": 259,
      "outputs": []
    },
    {
      "cell_type": "markdown",
      "source": [
        "impresión de dataframe."
      ],
      "metadata": {
        "id": "Nm69L3Frp1AY"
      }
    },
    {
      "cell_type": "code",
      "source": [
        "df.head()"
      ],
      "metadata": {
        "colab": {
          "base_uri": "https://localhost:8080/",
          "height": 438
        },
        "id": "CLhtF9_joy7m",
        "outputId": "3729da6f-6053-4ad8-f45d-12ee9aa36136"
      },
      "execution_count": 260,
      "outputs": [
        {
          "output_type": "execute_result",
          "data": {
            "text/plain": [
              "                                                 symboling  normalized-losses  \\\n",
              "NaN   Unnamed: 0 Unnamed: 1        Unnamed: 2    symboling  normalized-losses   \n",
              "0.0   symboling  normalized-losses make         aspiration       num-of-doors   \n",
              "1.0   3          122               alfa-romero         std                two   \n",
              "2.0   3          122               alfa-romero         std                two   \n",
              "3.0   1          122               alfa-romero         std                two   \n",
              "\n",
              "                                                       make     fuel-type  \\\n",
              "NaN   Unnamed: 0 Unnamed: 1        Unnamed: 2          make     fuel-type   \n",
              "0.0   symboling  normalized-losses make          body-style  drive-wheels   \n",
              "1.0   3          122               alfa-romero  convertible           rwd   \n",
              "2.0   3          122               alfa-romero  convertible           rwd   \n",
              "3.0   1          122               alfa-romero    hatchback           rwd   \n",
              "\n",
              "                                                     aspiration  num-of-doors  \\\n",
              "NaN   Unnamed: 0 Unnamed: 1        Unnamed: 2        aspiration  num-of-doors   \n",
              "0.0   symboling  normalized-losses make         engine-location    wheel-base   \n",
              "1.0   3          122               alfa-romero            front          88.6   \n",
              "2.0   3          122               alfa-romero            front          88.6   \n",
              "3.0   1          122               alfa-romero            front          94.5   \n",
              "\n",
              "                                                        body-style  \\\n",
              "NaN   Unnamed: 0 Unnamed: 1        Unnamed: 2           body-style   \n",
              "0.0   symboling  normalized-losses make                     length   \n",
              "1.0   3          122               alfa-romero  0.8111484863046613   \n",
              "2.0   3          122               alfa-romero  0.8111484863046613   \n",
              "3.0   1          122               alfa-romero  0.8226814031715521   \n",
              "\n",
              "                                                      drive-wheels  \\\n",
              "NaN   Unnamed: 0 Unnamed: 1        Unnamed: 2         drive-wheels   \n",
              "0.0   symboling  normalized-losses make                      width   \n",
              "1.0   3          122               alfa-romero  0.8902777777777777   \n",
              "2.0   3          122               alfa-romero  0.8902777777777777   \n",
              "3.0   1          122               alfa-romero  0.9097222222222222   \n",
              "\n",
              "                                                engine-location   wheel-base  \\\n",
              "NaN   Unnamed: 0 Unnamed: 1        Unnamed: 2   engine-location   wheel-base   \n",
              "0.0   symboling  normalized-losses make                  height  curb-weight   \n",
              "1.0   3          122               alfa-romero             48.8         2548   \n",
              "2.0   3          122               alfa-romero             48.8         2548   \n",
              "3.0   1          122               alfa-romero             52.4         2823   \n",
              "\n",
              "                                                ...        engine-size  \\\n",
              "NaN   Unnamed: 0 Unnamed: 1        Unnamed: 2   ...        engine-size   \n",
              "0.0   symboling  normalized-losses make         ...  compression-ratio   \n",
              "1.0   3          122               alfa-romero  ...                9.0   \n",
              "2.0   3          122               alfa-romero  ...                9.0   \n",
              "3.0   1          122               alfa-romero  ...                9.0   \n",
              "\n",
              "                                                fuel-system      bore  \\\n",
              "NaN   Unnamed: 0 Unnamed: 1        Unnamed: 2   fuel-system      bore   \n",
              "0.0   symboling  normalized-losses make          horsepower  peak-rpm   \n",
              "1.0   3          122               alfa-romero        111.0    5000.0   \n",
              "2.0   3          122               alfa-romero        111.0    5000.0   \n",
              "3.0   1          122               alfa-romero        154.0    5000.0   \n",
              "\n",
              "                                                  stroke  compression-ratio  \\\n",
              "NaN   Unnamed: 0 Unnamed: 1        Unnamed: 2     stroke  compression-ratio   \n",
              "0.0   symboling  normalized-losses make         city-mpg        highway-mpg   \n",
              "1.0   3          122               alfa-romero        21                 27   \n",
              "2.0   3          122               alfa-romero        21                 27   \n",
              "3.0   1          122               alfa-romero        19                 26   \n",
              "\n",
              "                                                horsepower  \\\n",
              "NaN   Unnamed: 0 Unnamed: 1        Unnamed: 2   horsepower   \n",
              "0.0   symboling  normalized-losses make              price   \n",
              "1.0   3          122               alfa-romero     13495.0   \n",
              "2.0   3          122               alfa-romero     16500.0   \n",
              "3.0   1          122               alfa-romero     16500.0   \n",
              "\n",
              "                                                          peak-rpm  \\\n",
              "NaN   Unnamed: 0 Unnamed: 1        Unnamed: 2             peak-rpm   \n",
              "0.0   symboling  normalized-losses make               city-L/100km   \n",
              "1.0   3          122               alfa-romero  11.190476190476188   \n",
              "2.0   3          122               alfa-romero  11.190476190476188   \n",
              "3.0   1          122               alfa-romero   12.36842105263158   \n",
              "\n",
              "                                                         city-mpg  \\\n",
              "NaN   Unnamed: 0 Unnamed: 1        Unnamed: 2            city-mpg   \n",
              "0.0   symboling  normalized-losses make         horsepower-binned   \n",
              "1.0   3          122               alfa-romero             Medium   \n",
              "2.0   3          122               alfa-romero             Medium   \n",
              "3.0   1          122               alfa-romero             Medium   \n",
              "\n",
              "                                                highway-mpg  price  \n",
              "NaN   Unnamed: 0 Unnamed: 1        Unnamed: 2   highway-mpg  price  \n",
              "0.0   symboling  normalized-losses make              diesel    gas  \n",
              "1.0   3          122               alfa-romero            0      1  \n",
              "2.0   3          122               alfa-romero            0      1  \n",
              "3.0   1          122               alfa-romero            0      1  \n",
              "\n",
              "[5 rows x 26 columns]"
            ],
            "text/html": [
              "\n",
              "  <div id=\"df-80475674-0ee0-4538-b619-29aec572bba9\">\n",
              "    <div class=\"colab-df-container\">\n",
              "      <div>\n",
              "<style scoped>\n",
              "    .dataframe tbody tr th:only-of-type {\n",
              "        vertical-align: middle;\n",
              "    }\n",
              "\n",
              "    .dataframe tbody tr th {\n",
              "        vertical-align: top;\n",
              "    }\n",
              "\n",
              "    .dataframe thead th {\n",
              "        text-align: right;\n",
              "    }\n",
              "</style>\n",
              "<table border=\"1\" class=\"dataframe\">\n",
              "  <thead>\n",
              "    <tr style=\"text-align: right;\">\n",
              "      <th></th>\n",
              "      <th></th>\n",
              "      <th></th>\n",
              "      <th></th>\n",
              "      <th>symboling</th>\n",
              "      <th>normalized-losses</th>\n",
              "      <th>make</th>\n",
              "      <th>fuel-type</th>\n",
              "      <th>aspiration</th>\n",
              "      <th>num-of-doors</th>\n",
              "      <th>body-style</th>\n",
              "      <th>drive-wheels</th>\n",
              "      <th>engine-location</th>\n",
              "      <th>wheel-base</th>\n",
              "      <th>...</th>\n",
              "      <th>engine-size</th>\n",
              "      <th>fuel-system</th>\n",
              "      <th>bore</th>\n",
              "      <th>stroke</th>\n",
              "      <th>compression-ratio</th>\n",
              "      <th>horsepower</th>\n",
              "      <th>peak-rpm</th>\n",
              "      <th>city-mpg</th>\n",
              "      <th>highway-mpg</th>\n",
              "      <th>price</th>\n",
              "    </tr>\n",
              "  </thead>\n",
              "  <tbody>\n",
              "    <tr>\n",
              "      <th>NaN</th>\n",
              "      <th>Unnamed: 0</th>\n",
              "      <th>Unnamed: 1</th>\n",
              "      <th>Unnamed: 2</th>\n",
              "      <td>symboling</td>\n",
              "      <td>normalized-losses</td>\n",
              "      <td>make</td>\n",
              "      <td>fuel-type</td>\n",
              "      <td>aspiration</td>\n",
              "      <td>num-of-doors</td>\n",
              "      <td>body-style</td>\n",
              "      <td>drive-wheels</td>\n",
              "      <td>engine-location</td>\n",
              "      <td>wheel-base</td>\n",
              "      <td>...</td>\n",
              "      <td>engine-size</td>\n",
              "      <td>fuel-system</td>\n",
              "      <td>bore</td>\n",
              "      <td>stroke</td>\n",
              "      <td>compression-ratio</td>\n",
              "      <td>horsepower</td>\n",
              "      <td>peak-rpm</td>\n",
              "      <td>city-mpg</td>\n",
              "      <td>highway-mpg</td>\n",
              "      <td>price</td>\n",
              "    </tr>\n",
              "    <tr>\n",
              "      <th>0.0</th>\n",
              "      <th>symboling</th>\n",
              "      <th>normalized-losses</th>\n",
              "      <th>make</th>\n",
              "      <td>aspiration</td>\n",
              "      <td>num-of-doors</td>\n",
              "      <td>body-style</td>\n",
              "      <td>drive-wheels</td>\n",
              "      <td>engine-location</td>\n",
              "      <td>wheel-base</td>\n",
              "      <td>length</td>\n",
              "      <td>width</td>\n",
              "      <td>height</td>\n",
              "      <td>curb-weight</td>\n",
              "      <td>...</td>\n",
              "      <td>compression-ratio</td>\n",
              "      <td>horsepower</td>\n",
              "      <td>peak-rpm</td>\n",
              "      <td>city-mpg</td>\n",
              "      <td>highway-mpg</td>\n",
              "      <td>price</td>\n",
              "      <td>city-L/100km</td>\n",
              "      <td>horsepower-binned</td>\n",
              "      <td>diesel</td>\n",
              "      <td>gas</td>\n",
              "    </tr>\n",
              "    <tr>\n",
              "      <th>1.0</th>\n",
              "      <th>3</th>\n",
              "      <th>122</th>\n",
              "      <th>alfa-romero</th>\n",
              "      <td>std</td>\n",
              "      <td>two</td>\n",
              "      <td>convertible</td>\n",
              "      <td>rwd</td>\n",
              "      <td>front</td>\n",
              "      <td>88.6</td>\n",
              "      <td>0.8111484863046613</td>\n",
              "      <td>0.8902777777777777</td>\n",
              "      <td>48.8</td>\n",
              "      <td>2548</td>\n",
              "      <td>...</td>\n",
              "      <td>9.0</td>\n",
              "      <td>111.0</td>\n",
              "      <td>5000.0</td>\n",
              "      <td>21</td>\n",
              "      <td>27</td>\n",
              "      <td>13495.0</td>\n",
              "      <td>11.190476190476188</td>\n",
              "      <td>Medium</td>\n",
              "      <td>0</td>\n",
              "      <td>1</td>\n",
              "    </tr>\n",
              "    <tr>\n",
              "      <th>2.0</th>\n",
              "      <th>3</th>\n",
              "      <th>122</th>\n",
              "      <th>alfa-romero</th>\n",
              "      <td>std</td>\n",
              "      <td>two</td>\n",
              "      <td>convertible</td>\n",
              "      <td>rwd</td>\n",
              "      <td>front</td>\n",
              "      <td>88.6</td>\n",
              "      <td>0.8111484863046613</td>\n",
              "      <td>0.8902777777777777</td>\n",
              "      <td>48.8</td>\n",
              "      <td>2548</td>\n",
              "      <td>...</td>\n",
              "      <td>9.0</td>\n",
              "      <td>111.0</td>\n",
              "      <td>5000.0</td>\n",
              "      <td>21</td>\n",
              "      <td>27</td>\n",
              "      <td>16500.0</td>\n",
              "      <td>11.190476190476188</td>\n",
              "      <td>Medium</td>\n",
              "      <td>0</td>\n",
              "      <td>1</td>\n",
              "    </tr>\n",
              "    <tr>\n",
              "      <th>3.0</th>\n",
              "      <th>1</th>\n",
              "      <th>122</th>\n",
              "      <th>alfa-romero</th>\n",
              "      <td>std</td>\n",
              "      <td>two</td>\n",
              "      <td>hatchback</td>\n",
              "      <td>rwd</td>\n",
              "      <td>front</td>\n",
              "      <td>94.5</td>\n",
              "      <td>0.8226814031715521</td>\n",
              "      <td>0.9097222222222222</td>\n",
              "      <td>52.4</td>\n",
              "      <td>2823</td>\n",
              "      <td>...</td>\n",
              "      <td>9.0</td>\n",
              "      <td>154.0</td>\n",
              "      <td>5000.0</td>\n",
              "      <td>19</td>\n",
              "      <td>26</td>\n",
              "      <td>16500.0</td>\n",
              "      <td>12.36842105263158</td>\n",
              "      <td>Medium</td>\n",
              "      <td>0</td>\n",
              "      <td>1</td>\n",
              "    </tr>\n",
              "  </tbody>\n",
              "</table>\n",
              "<p>5 rows × 26 columns</p>\n",
              "</div>\n",
              "      <button class=\"colab-df-convert\" onclick=\"convertToInteractive('df-80475674-0ee0-4538-b619-29aec572bba9')\"\n",
              "              title=\"Convert this dataframe to an interactive table.\"\n",
              "              style=\"display:none;\">\n",
              "        \n",
              "  <svg xmlns=\"http://www.w3.org/2000/svg\" height=\"24px\"viewBox=\"0 0 24 24\"\n",
              "       width=\"24px\">\n",
              "    <path d=\"M0 0h24v24H0V0z\" fill=\"none\"/>\n",
              "    <path d=\"M18.56 5.44l.94 2.06.94-2.06 2.06-.94-2.06-.94-.94-2.06-.94 2.06-2.06.94zm-11 1L8.5 8.5l.94-2.06 2.06-.94-2.06-.94L8.5 2.5l-.94 2.06-2.06.94zm10 10l.94 2.06.94-2.06 2.06-.94-2.06-.94-.94-2.06-.94 2.06-2.06.94z\"/><path d=\"M17.41 7.96l-1.37-1.37c-.4-.4-.92-.59-1.43-.59-.52 0-1.04.2-1.43.59L10.3 9.45l-7.72 7.72c-.78.78-.78 2.05 0 2.83L4 21.41c.39.39.9.59 1.41.59.51 0 1.02-.2 1.41-.59l7.78-7.78 2.81-2.81c.8-.78.8-2.07 0-2.86zM5.41 20L4 18.59l7.72-7.72 1.47 1.35L5.41 20z\"/>\n",
              "  </svg>\n",
              "      </button>\n",
              "      \n",
              "  <style>\n",
              "    .colab-df-container {\n",
              "      display:flex;\n",
              "      flex-wrap:wrap;\n",
              "      gap: 12px;\n",
              "    }\n",
              "\n",
              "    .colab-df-convert {\n",
              "      background-color: #E8F0FE;\n",
              "      border: none;\n",
              "      border-radius: 50%;\n",
              "      cursor: pointer;\n",
              "      display: none;\n",
              "      fill: #1967D2;\n",
              "      height: 32px;\n",
              "      padding: 0 0 0 0;\n",
              "      width: 32px;\n",
              "    }\n",
              "\n",
              "    .colab-df-convert:hover {\n",
              "      background-color: #E2EBFA;\n",
              "      box-shadow: 0px 1px 2px rgba(60, 64, 67, 0.3), 0px 1px 3px 1px rgba(60, 64, 67, 0.15);\n",
              "      fill: #174EA6;\n",
              "    }\n",
              "\n",
              "    [theme=dark] .colab-df-convert {\n",
              "      background-color: #3B4455;\n",
              "      fill: #D2E3FC;\n",
              "    }\n",
              "\n",
              "    [theme=dark] .colab-df-convert:hover {\n",
              "      background-color: #434B5C;\n",
              "      box-shadow: 0px 1px 3px 1px rgba(0, 0, 0, 0.15);\n",
              "      filter: drop-shadow(0px 1px 2px rgba(0, 0, 0, 0.3));\n",
              "      fill: #FFFFFF;\n",
              "    }\n",
              "  </style>\n",
              "\n",
              "      <script>\n",
              "        const buttonEl =\n",
              "          document.querySelector('#df-80475674-0ee0-4538-b619-29aec572bba9 button.colab-df-convert');\n",
              "        buttonEl.style.display =\n",
              "          google.colab.kernel.accessAllowed ? 'block' : 'none';\n",
              "\n",
              "        async function convertToInteractive(key) {\n",
              "          const element = document.querySelector('#df-80475674-0ee0-4538-b619-29aec572bba9');\n",
              "          const dataTable =\n",
              "            await google.colab.kernel.invokeFunction('convertToInteractive',\n",
              "                                                     [key], {});\n",
              "          if (!dataTable) return;\n",
              "\n",
              "          const docLinkHtml = 'Like what you see? Visit the ' +\n",
              "            '<a target=\"_blank\" href=https://colab.research.google.com/notebooks/data_table.ipynb>data table notebook</a>'\n",
              "            + ' to learn more about interactive tables.';\n",
              "          element.innerHTML = '';\n",
              "          dataTable['output_type'] = 'display_data';\n",
              "          await google.colab.output.renderOutput(dataTable, element);\n",
              "          const docLink = document.createElement('div');\n",
              "          docLink.innerHTML = docLinkHtml;\n",
              "          element.appendChild(docLink);\n",
              "        }\n",
              "      </script>\n",
              "    </div>\n",
              "  </div>\n",
              "  "
            ]
          },
          "metadata": {},
          "execution_count": 260
        }
      ]
    },
    {
      "cell_type": "markdown",
      "source": [
        "Rempazar valores vacias con NaN"
      ],
      "metadata": {
        "id": "adZ8n99Wp--F"
      }
    },
    {
      "cell_type": "code",
      "source": [
        "df.replace(\"?\", np.nan, inplace = True)\n",
        "df.head(5)"
      ],
      "metadata": {
        "colab": {
          "base_uri": "https://localhost:8080/",
          "height": 438
        },
        "id": "mlWa9s70o3Dd",
        "outputId": "bd0cc9e7-db74-48f2-b34f-929241dd1246"
      },
      "execution_count": 261,
      "outputs": [
        {
          "output_type": "execute_result",
          "data": {
            "text/plain": [
              "                                                 symboling  normalized-losses  \\\n",
              "NaN   Unnamed: 0 Unnamed: 1        Unnamed: 2    symboling  normalized-losses   \n",
              "0.0   symboling  normalized-losses make         aspiration       num-of-doors   \n",
              "1.0   3          122               alfa-romero         std                two   \n",
              "2.0   3          122               alfa-romero         std                two   \n",
              "3.0   1          122               alfa-romero         std                two   \n",
              "\n",
              "                                                       make     fuel-type  \\\n",
              "NaN   Unnamed: 0 Unnamed: 1        Unnamed: 2          make     fuel-type   \n",
              "0.0   symboling  normalized-losses make          body-style  drive-wheels   \n",
              "1.0   3          122               alfa-romero  convertible           rwd   \n",
              "2.0   3          122               alfa-romero  convertible           rwd   \n",
              "3.0   1          122               alfa-romero    hatchback           rwd   \n",
              "\n",
              "                                                     aspiration  num-of-doors  \\\n",
              "NaN   Unnamed: 0 Unnamed: 1        Unnamed: 2        aspiration  num-of-doors   \n",
              "0.0   symboling  normalized-losses make         engine-location    wheel-base   \n",
              "1.0   3          122               alfa-romero            front          88.6   \n",
              "2.0   3          122               alfa-romero            front          88.6   \n",
              "3.0   1          122               alfa-romero            front          94.5   \n",
              "\n",
              "                                                        body-style  \\\n",
              "NaN   Unnamed: 0 Unnamed: 1        Unnamed: 2           body-style   \n",
              "0.0   symboling  normalized-losses make                     length   \n",
              "1.0   3          122               alfa-romero  0.8111484863046613   \n",
              "2.0   3          122               alfa-romero  0.8111484863046613   \n",
              "3.0   1          122               alfa-romero  0.8226814031715521   \n",
              "\n",
              "                                                      drive-wheels  \\\n",
              "NaN   Unnamed: 0 Unnamed: 1        Unnamed: 2         drive-wheels   \n",
              "0.0   symboling  normalized-losses make                      width   \n",
              "1.0   3          122               alfa-romero  0.8902777777777777   \n",
              "2.0   3          122               alfa-romero  0.8902777777777777   \n",
              "3.0   1          122               alfa-romero  0.9097222222222222   \n",
              "\n",
              "                                                engine-location   wheel-base  \\\n",
              "NaN   Unnamed: 0 Unnamed: 1        Unnamed: 2   engine-location   wheel-base   \n",
              "0.0   symboling  normalized-losses make                  height  curb-weight   \n",
              "1.0   3          122               alfa-romero             48.8         2548   \n",
              "2.0   3          122               alfa-romero             48.8         2548   \n",
              "3.0   1          122               alfa-romero             52.4         2823   \n",
              "\n",
              "                                                ...        engine-size  \\\n",
              "NaN   Unnamed: 0 Unnamed: 1        Unnamed: 2   ...        engine-size   \n",
              "0.0   symboling  normalized-losses make         ...  compression-ratio   \n",
              "1.0   3          122               alfa-romero  ...                9.0   \n",
              "2.0   3          122               alfa-romero  ...                9.0   \n",
              "3.0   1          122               alfa-romero  ...                9.0   \n",
              "\n",
              "                                                fuel-system      bore  \\\n",
              "NaN   Unnamed: 0 Unnamed: 1        Unnamed: 2   fuel-system      bore   \n",
              "0.0   symboling  normalized-losses make          horsepower  peak-rpm   \n",
              "1.0   3          122               alfa-romero        111.0    5000.0   \n",
              "2.0   3          122               alfa-romero        111.0    5000.0   \n",
              "3.0   1          122               alfa-romero        154.0    5000.0   \n",
              "\n",
              "                                                  stroke  compression-ratio  \\\n",
              "NaN   Unnamed: 0 Unnamed: 1        Unnamed: 2     stroke  compression-ratio   \n",
              "0.0   symboling  normalized-losses make         city-mpg        highway-mpg   \n",
              "1.0   3          122               alfa-romero        21                 27   \n",
              "2.0   3          122               alfa-romero        21                 27   \n",
              "3.0   1          122               alfa-romero        19                 26   \n",
              "\n",
              "                                                horsepower  \\\n",
              "NaN   Unnamed: 0 Unnamed: 1        Unnamed: 2   horsepower   \n",
              "0.0   symboling  normalized-losses make              price   \n",
              "1.0   3          122               alfa-romero     13495.0   \n",
              "2.0   3          122               alfa-romero     16500.0   \n",
              "3.0   1          122               alfa-romero     16500.0   \n",
              "\n",
              "                                                          peak-rpm  \\\n",
              "NaN   Unnamed: 0 Unnamed: 1        Unnamed: 2             peak-rpm   \n",
              "0.0   symboling  normalized-losses make               city-L/100km   \n",
              "1.0   3          122               alfa-romero  11.190476190476188   \n",
              "2.0   3          122               alfa-romero  11.190476190476188   \n",
              "3.0   1          122               alfa-romero   12.36842105263158   \n",
              "\n",
              "                                                         city-mpg  \\\n",
              "NaN   Unnamed: 0 Unnamed: 1        Unnamed: 2            city-mpg   \n",
              "0.0   symboling  normalized-losses make         horsepower-binned   \n",
              "1.0   3          122               alfa-romero             Medium   \n",
              "2.0   3          122               alfa-romero             Medium   \n",
              "3.0   1          122               alfa-romero             Medium   \n",
              "\n",
              "                                                highway-mpg  price  \n",
              "NaN   Unnamed: 0 Unnamed: 1        Unnamed: 2   highway-mpg  price  \n",
              "0.0   symboling  normalized-losses make              diesel    gas  \n",
              "1.0   3          122               alfa-romero            0      1  \n",
              "2.0   3          122               alfa-romero            0      1  \n",
              "3.0   1          122               alfa-romero            0      1  \n",
              "\n",
              "[5 rows x 26 columns]"
            ],
            "text/html": [
              "\n",
              "  <div id=\"df-263888a8-42c3-41aa-ba91-303b8ef25076\">\n",
              "    <div class=\"colab-df-container\">\n",
              "      <div>\n",
              "<style scoped>\n",
              "    .dataframe tbody tr th:only-of-type {\n",
              "        vertical-align: middle;\n",
              "    }\n",
              "\n",
              "    .dataframe tbody tr th {\n",
              "        vertical-align: top;\n",
              "    }\n",
              "\n",
              "    .dataframe thead th {\n",
              "        text-align: right;\n",
              "    }\n",
              "</style>\n",
              "<table border=\"1\" class=\"dataframe\">\n",
              "  <thead>\n",
              "    <tr style=\"text-align: right;\">\n",
              "      <th></th>\n",
              "      <th></th>\n",
              "      <th></th>\n",
              "      <th></th>\n",
              "      <th>symboling</th>\n",
              "      <th>normalized-losses</th>\n",
              "      <th>make</th>\n",
              "      <th>fuel-type</th>\n",
              "      <th>aspiration</th>\n",
              "      <th>num-of-doors</th>\n",
              "      <th>body-style</th>\n",
              "      <th>drive-wheels</th>\n",
              "      <th>engine-location</th>\n",
              "      <th>wheel-base</th>\n",
              "      <th>...</th>\n",
              "      <th>engine-size</th>\n",
              "      <th>fuel-system</th>\n",
              "      <th>bore</th>\n",
              "      <th>stroke</th>\n",
              "      <th>compression-ratio</th>\n",
              "      <th>horsepower</th>\n",
              "      <th>peak-rpm</th>\n",
              "      <th>city-mpg</th>\n",
              "      <th>highway-mpg</th>\n",
              "      <th>price</th>\n",
              "    </tr>\n",
              "  </thead>\n",
              "  <tbody>\n",
              "    <tr>\n",
              "      <th>NaN</th>\n",
              "      <th>Unnamed: 0</th>\n",
              "      <th>Unnamed: 1</th>\n",
              "      <th>Unnamed: 2</th>\n",
              "      <td>symboling</td>\n",
              "      <td>normalized-losses</td>\n",
              "      <td>make</td>\n",
              "      <td>fuel-type</td>\n",
              "      <td>aspiration</td>\n",
              "      <td>num-of-doors</td>\n",
              "      <td>body-style</td>\n",
              "      <td>drive-wheels</td>\n",
              "      <td>engine-location</td>\n",
              "      <td>wheel-base</td>\n",
              "      <td>...</td>\n",
              "      <td>engine-size</td>\n",
              "      <td>fuel-system</td>\n",
              "      <td>bore</td>\n",
              "      <td>stroke</td>\n",
              "      <td>compression-ratio</td>\n",
              "      <td>horsepower</td>\n",
              "      <td>peak-rpm</td>\n",
              "      <td>city-mpg</td>\n",
              "      <td>highway-mpg</td>\n",
              "      <td>price</td>\n",
              "    </tr>\n",
              "    <tr>\n",
              "      <th>0.0</th>\n",
              "      <th>symboling</th>\n",
              "      <th>normalized-losses</th>\n",
              "      <th>make</th>\n",
              "      <td>aspiration</td>\n",
              "      <td>num-of-doors</td>\n",
              "      <td>body-style</td>\n",
              "      <td>drive-wheels</td>\n",
              "      <td>engine-location</td>\n",
              "      <td>wheel-base</td>\n",
              "      <td>length</td>\n",
              "      <td>width</td>\n",
              "      <td>height</td>\n",
              "      <td>curb-weight</td>\n",
              "      <td>...</td>\n",
              "      <td>compression-ratio</td>\n",
              "      <td>horsepower</td>\n",
              "      <td>peak-rpm</td>\n",
              "      <td>city-mpg</td>\n",
              "      <td>highway-mpg</td>\n",
              "      <td>price</td>\n",
              "      <td>city-L/100km</td>\n",
              "      <td>horsepower-binned</td>\n",
              "      <td>diesel</td>\n",
              "      <td>gas</td>\n",
              "    </tr>\n",
              "    <tr>\n",
              "      <th>1.0</th>\n",
              "      <th>3</th>\n",
              "      <th>122</th>\n",
              "      <th>alfa-romero</th>\n",
              "      <td>std</td>\n",
              "      <td>two</td>\n",
              "      <td>convertible</td>\n",
              "      <td>rwd</td>\n",
              "      <td>front</td>\n",
              "      <td>88.6</td>\n",
              "      <td>0.8111484863046613</td>\n",
              "      <td>0.8902777777777777</td>\n",
              "      <td>48.8</td>\n",
              "      <td>2548</td>\n",
              "      <td>...</td>\n",
              "      <td>9.0</td>\n",
              "      <td>111.0</td>\n",
              "      <td>5000.0</td>\n",
              "      <td>21</td>\n",
              "      <td>27</td>\n",
              "      <td>13495.0</td>\n",
              "      <td>11.190476190476188</td>\n",
              "      <td>Medium</td>\n",
              "      <td>0</td>\n",
              "      <td>1</td>\n",
              "    </tr>\n",
              "    <tr>\n",
              "      <th>2.0</th>\n",
              "      <th>3</th>\n",
              "      <th>122</th>\n",
              "      <th>alfa-romero</th>\n",
              "      <td>std</td>\n",
              "      <td>two</td>\n",
              "      <td>convertible</td>\n",
              "      <td>rwd</td>\n",
              "      <td>front</td>\n",
              "      <td>88.6</td>\n",
              "      <td>0.8111484863046613</td>\n",
              "      <td>0.8902777777777777</td>\n",
              "      <td>48.8</td>\n",
              "      <td>2548</td>\n",
              "      <td>...</td>\n",
              "      <td>9.0</td>\n",
              "      <td>111.0</td>\n",
              "      <td>5000.0</td>\n",
              "      <td>21</td>\n",
              "      <td>27</td>\n",
              "      <td>16500.0</td>\n",
              "      <td>11.190476190476188</td>\n",
              "      <td>Medium</td>\n",
              "      <td>0</td>\n",
              "      <td>1</td>\n",
              "    </tr>\n",
              "    <tr>\n",
              "      <th>3.0</th>\n",
              "      <th>1</th>\n",
              "      <th>122</th>\n",
              "      <th>alfa-romero</th>\n",
              "      <td>std</td>\n",
              "      <td>two</td>\n",
              "      <td>hatchback</td>\n",
              "      <td>rwd</td>\n",
              "      <td>front</td>\n",
              "      <td>94.5</td>\n",
              "      <td>0.8226814031715521</td>\n",
              "      <td>0.9097222222222222</td>\n",
              "      <td>52.4</td>\n",
              "      <td>2823</td>\n",
              "      <td>...</td>\n",
              "      <td>9.0</td>\n",
              "      <td>154.0</td>\n",
              "      <td>5000.0</td>\n",
              "      <td>19</td>\n",
              "      <td>26</td>\n",
              "      <td>16500.0</td>\n",
              "      <td>12.36842105263158</td>\n",
              "      <td>Medium</td>\n",
              "      <td>0</td>\n",
              "      <td>1</td>\n",
              "    </tr>\n",
              "  </tbody>\n",
              "</table>\n",
              "<p>5 rows × 26 columns</p>\n",
              "</div>\n",
              "      <button class=\"colab-df-convert\" onclick=\"convertToInteractive('df-263888a8-42c3-41aa-ba91-303b8ef25076')\"\n",
              "              title=\"Convert this dataframe to an interactive table.\"\n",
              "              style=\"display:none;\">\n",
              "        \n",
              "  <svg xmlns=\"http://www.w3.org/2000/svg\" height=\"24px\"viewBox=\"0 0 24 24\"\n",
              "       width=\"24px\">\n",
              "    <path d=\"M0 0h24v24H0V0z\" fill=\"none\"/>\n",
              "    <path d=\"M18.56 5.44l.94 2.06.94-2.06 2.06-.94-2.06-.94-.94-2.06-.94 2.06-2.06.94zm-11 1L8.5 8.5l.94-2.06 2.06-.94-2.06-.94L8.5 2.5l-.94 2.06-2.06.94zm10 10l.94 2.06.94-2.06 2.06-.94-2.06-.94-.94-2.06-.94 2.06-2.06.94z\"/><path d=\"M17.41 7.96l-1.37-1.37c-.4-.4-.92-.59-1.43-.59-.52 0-1.04.2-1.43.59L10.3 9.45l-7.72 7.72c-.78.78-.78 2.05 0 2.83L4 21.41c.39.39.9.59 1.41.59.51 0 1.02-.2 1.41-.59l7.78-7.78 2.81-2.81c.8-.78.8-2.07 0-2.86zM5.41 20L4 18.59l7.72-7.72 1.47 1.35L5.41 20z\"/>\n",
              "  </svg>\n",
              "      </button>\n",
              "      \n",
              "  <style>\n",
              "    .colab-df-container {\n",
              "      display:flex;\n",
              "      flex-wrap:wrap;\n",
              "      gap: 12px;\n",
              "    }\n",
              "\n",
              "    .colab-df-convert {\n",
              "      background-color: #E8F0FE;\n",
              "      border: none;\n",
              "      border-radius: 50%;\n",
              "      cursor: pointer;\n",
              "      display: none;\n",
              "      fill: #1967D2;\n",
              "      height: 32px;\n",
              "      padding: 0 0 0 0;\n",
              "      width: 32px;\n",
              "    }\n",
              "\n",
              "    .colab-df-convert:hover {\n",
              "      background-color: #E2EBFA;\n",
              "      box-shadow: 0px 1px 2px rgba(60, 64, 67, 0.3), 0px 1px 3px 1px rgba(60, 64, 67, 0.15);\n",
              "      fill: #174EA6;\n",
              "    }\n",
              "\n",
              "    [theme=dark] .colab-df-convert {\n",
              "      background-color: #3B4455;\n",
              "      fill: #D2E3FC;\n",
              "    }\n",
              "\n",
              "    [theme=dark] .colab-df-convert:hover {\n",
              "      background-color: #434B5C;\n",
              "      box-shadow: 0px 1px 3px 1px rgba(0, 0, 0, 0.15);\n",
              "      filter: drop-shadow(0px 1px 2px rgba(0, 0, 0, 0.3));\n",
              "      fill: #FFFFFF;\n",
              "    }\n",
              "  </style>\n",
              "\n",
              "      <script>\n",
              "        const buttonEl =\n",
              "          document.querySelector('#df-263888a8-42c3-41aa-ba91-303b8ef25076 button.colab-df-convert');\n",
              "        buttonEl.style.display =\n",
              "          google.colab.kernel.accessAllowed ? 'block' : 'none';\n",
              "\n",
              "        async function convertToInteractive(key) {\n",
              "          const element = document.querySelector('#df-263888a8-42c3-41aa-ba91-303b8ef25076');\n",
              "          const dataTable =\n",
              "            await google.colab.kernel.invokeFunction('convertToInteractive',\n",
              "                                                     [key], {});\n",
              "          if (!dataTable) return;\n",
              "\n",
              "          const docLinkHtml = 'Like what you see? Visit the ' +\n",
              "            '<a target=\"_blank\" href=https://colab.research.google.com/notebooks/data_table.ipynb>data table notebook</a>'\n",
              "            + ' to learn more about interactive tables.';\n",
              "          element.innerHTML = '';\n",
              "          dataTable['output_type'] = 'display_data';\n",
              "          await google.colab.output.renderOutput(dataTable, element);\n",
              "          const docLink = document.createElement('div');\n",
              "          docLink.innerHTML = docLinkHtml;\n",
              "          element.appendChild(docLink);\n",
              "        }\n",
              "      </script>\n",
              "    </div>\n",
              "  </div>\n",
              "  "
            ]
          },
          "metadata": {},
          "execution_count": 261
        }
      ]
    },
    {
      "cell_type": "code",
      "source": [
        "missing_data = df.isnull()\n",
        "missing_data.head(5)"
      ],
      "metadata": {
        "colab": {
          "base_uri": "https://localhost:8080/",
          "height": 334
        },
        "id": "3l0HuDl-pAYu",
        "outputId": "2b3eb865-4b10-471f-a982-9b2bde7deefa"
      },
      "execution_count": 22,
      "outputs": [
        {
          "output_type": "execute_result",
          "data": {
            "text/plain": [
              "   symboling  normalized-losses   make  fuel-type  aspiration  num-of-doors  \\\n",
              "0      False               True  False      False       False         False   \n",
              "1      False               True  False      False       False         False   \n",
              "2      False               True  False      False       False         False   \n",
              "3      False              False  False      False       False         False   \n",
              "4      False              False  False      False       False         False   \n",
              "\n",
              "   body-style  drive-wheels  engine-location  wheel-base  ...  engine-size  \\\n",
              "0       False         False            False       False  ...        False   \n",
              "1       False         False            False       False  ...        False   \n",
              "2       False         False            False       False  ...        False   \n",
              "3       False         False            False       False  ...        False   \n",
              "4       False         False            False       False  ...        False   \n",
              "\n",
              "   fuel-system   bore  stroke  compression-ratio  horsepower  peak-rpm  \\\n",
              "0        False  False   False              False       False     False   \n",
              "1        False  False   False              False       False     False   \n",
              "2        False  False   False              False       False     False   \n",
              "3        False  False   False              False       False     False   \n",
              "4        False  False   False              False       False     False   \n",
              "\n",
              "   city-mpg  highway-mpg  price  \n",
              "0     False        False  False  \n",
              "1     False        False  False  \n",
              "2     False        False  False  \n",
              "3     False        False  False  \n",
              "4     False        False  False  \n",
              "\n",
              "[5 rows x 26 columns]"
            ],
            "text/html": [
              "\n",
              "  <div id=\"df-abf43233-c324-42e3-9c05-b18d34b30ea2\">\n",
              "    <div class=\"colab-df-container\">\n",
              "      <div>\n",
              "<style scoped>\n",
              "    .dataframe tbody tr th:only-of-type {\n",
              "        vertical-align: middle;\n",
              "    }\n",
              "\n",
              "    .dataframe tbody tr th {\n",
              "        vertical-align: top;\n",
              "    }\n",
              "\n",
              "    .dataframe thead th {\n",
              "        text-align: right;\n",
              "    }\n",
              "</style>\n",
              "<table border=\"1\" class=\"dataframe\">\n",
              "  <thead>\n",
              "    <tr style=\"text-align: right;\">\n",
              "      <th></th>\n",
              "      <th>symboling</th>\n",
              "      <th>normalized-losses</th>\n",
              "      <th>make</th>\n",
              "      <th>fuel-type</th>\n",
              "      <th>aspiration</th>\n",
              "      <th>num-of-doors</th>\n",
              "      <th>body-style</th>\n",
              "      <th>drive-wheels</th>\n",
              "      <th>engine-location</th>\n",
              "      <th>wheel-base</th>\n",
              "      <th>...</th>\n",
              "      <th>engine-size</th>\n",
              "      <th>fuel-system</th>\n",
              "      <th>bore</th>\n",
              "      <th>stroke</th>\n",
              "      <th>compression-ratio</th>\n",
              "      <th>horsepower</th>\n",
              "      <th>peak-rpm</th>\n",
              "      <th>city-mpg</th>\n",
              "      <th>highway-mpg</th>\n",
              "      <th>price</th>\n",
              "    </tr>\n",
              "  </thead>\n",
              "  <tbody>\n",
              "    <tr>\n",
              "      <th>0</th>\n",
              "      <td>False</td>\n",
              "      <td>True</td>\n",
              "      <td>False</td>\n",
              "      <td>False</td>\n",
              "      <td>False</td>\n",
              "      <td>False</td>\n",
              "      <td>False</td>\n",
              "      <td>False</td>\n",
              "      <td>False</td>\n",
              "      <td>False</td>\n",
              "      <td>...</td>\n",
              "      <td>False</td>\n",
              "      <td>False</td>\n",
              "      <td>False</td>\n",
              "      <td>False</td>\n",
              "      <td>False</td>\n",
              "      <td>False</td>\n",
              "      <td>False</td>\n",
              "      <td>False</td>\n",
              "      <td>False</td>\n",
              "      <td>False</td>\n",
              "    </tr>\n",
              "    <tr>\n",
              "      <th>1</th>\n",
              "      <td>False</td>\n",
              "      <td>True</td>\n",
              "      <td>False</td>\n",
              "      <td>False</td>\n",
              "      <td>False</td>\n",
              "      <td>False</td>\n",
              "      <td>False</td>\n",
              "      <td>False</td>\n",
              "      <td>False</td>\n",
              "      <td>False</td>\n",
              "      <td>...</td>\n",
              "      <td>False</td>\n",
              "      <td>False</td>\n",
              "      <td>False</td>\n",
              "      <td>False</td>\n",
              "      <td>False</td>\n",
              "      <td>False</td>\n",
              "      <td>False</td>\n",
              "      <td>False</td>\n",
              "      <td>False</td>\n",
              "      <td>False</td>\n",
              "    </tr>\n",
              "    <tr>\n",
              "      <th>2</th>\n",
              "      <td>False</td>\n",
              "      <td>True</td>\n",
              "      <td>False</td>\n",
              "      <td>False</td>\n",
              "      <td>False</td>\n",
              "      <td>False</td>\n",
              "      <td>False</td>\n",
              "      <td>False</td>\n",
              "      <td>False</td>\n",
              "      <td>False</td>\n",
              "      <td>...</td>\n",
              "      <td>False</td>\n",
              "      <td>False</td>\n",
              "      <td>False</td>\n",
              "      <td>False</td>\n",
              "      <td>False</td>\n",
              "      <td>False</td>\n",
              "      <td>False</td>\n",
              "      <td>False</td>\n",
              "      <td>False</td>\n",
              "      <td>False</td>\n",
              "    </tr>\n",
              "    <tr>\n",
              "      <th>3</th>\n",
              "      <td>False</td>\n",
              "      <td>False</td>\n",
              "      <td>False</td>\n",
              "      <td>False</td>\n",
              "      <td>False</td>\n",
              "      <td>False</td>\n",
              "      <td>False</td>\n",
              "      <td>False</td>\n",
              "      <td>False</td>\n",
              "      <td>False</td>\n",
              "      <td>...</td>\n",
              "      <td>False</td>\n",
              "      <td>False</td>\n",
              "      <td>False</td>\n",
              "      <td>False</td>\n",
              "      <td>False</td>\n",
              "      <td>False</td>\n",
              "      <td>False</td>\n",
              "      <td>False</td>\n",
              "      <td>False</td>\n",
              "      <td>False</td>\n",
              "    </tr>\n",
              "    <tr>\n",
              "      <th>4</th>\n",
              "      <td>False</td>\n",
              "      <td>False</td>\n",
              "      <td>False</td>\n",
              "      <td>False</td>\n",
              "      <td>False</td>\n",
              "      <td>False</td>\n",
              "      <td>False</td>\n",
              "      <td>False</td>\n",
              "      <td>False</td>\n",
              "      <td>False</td>\n",
              "      <td>...</td>\n",
              "      <td>False</td>\n",
              "      <td>False</td>\n",
              "      <td>False</td>\n",
              "      <td>False</td>\n",
              "      <td>False</td>\n",
              "      <td>False</td>\n",
              "      <td>False</td>\n",
              "      <td>False</td>\n",
              "      <td>False</td>\n",
              "      <td>False</td>\n",
              "    </tr>\n",
              "  </tbody>\n",
              "</table>\n",
              "<p>5 rows × 26 columns</p>\n",
              "</div>\n",
              "      <button class=\"colab-df-convert\" onclick=\"convertToInteractive('df-abf43233-c324-42e3-9c05-b18d34b30ea2')\"\n",
              "              title=\"Convert this dataframe to an interactive table.\"\n",
              "              style=\"display:none;\">\n",
              "        \n",
              "  <svg xmlns=\"http://www.w3.org/2000/svg\" height=\"24px\"viewBox=\"0 0 24 24\"\n",
              "       width=\"24px\">\n",
              "    <path d=\"M0 0h24v24H0V0z\" fill=\"none\"/>\n",
              "    <path d=\"M18.56 5.44l.94 2.06.94-2.06 2.06-.94-2.06-.94-.94-2.06-.94 2.06-2.06.94zm-11 1L8.5 8.5l.94-2.06 2.06-.94-2.06-.94L8.5 2.5l-.94 2.06-2.06.94zm10 10l.94 2.06.94-2.06 2.06-.94-2.06-.94-.94-2.06-.94 2.06-2.06.94z\"/><path d=\"M17.41 7.96l-1.37-1.37c-.4-.4-.92-.59-1.43-.59-.52 0-1.04.2-1.43.59L10.3 9.45l-7.72 7.72c-.78.78-.78 2.05 0 2.83L4 21.41c.39.39.9.59 1.41.59.51 0 1.02-.2 1.41-.59l7.78-7.78 2.81-2.81c.8-.78.8-2.07 0-2.86zM5.41 20L4 18.59l7.72-7.72 1.47 1.35L5.41 20z\"/>\n",
              "  </svg>\n",
              "      </button>\n",
              "      \n",
              "  <style>\n",
              "    .colab-df-container {\n",
              "      display:flex;\n",
              "      flex-wrap:wrap;\n",
              "      gap: 12px;\n",
              "    }\n",
              "\n",
              "    .colab-df-convert {\n",
              "      background-color: #E8F0FE;\n",
              "      border: none;\n",
              "      border-radius: 50%;\n",
              "      cursor: pointer;\n",
              "      display: none;\n",
              "      fill: #1967D2;\n",
              "      height: 32px;\n",
              "      padding: 0 0 0 0;\n",
              "      width: 32px;\n",
              "    }\n",
              "\n",
              "    .colab-df-convert:hover {\n",
              "      background-color: #E2EBFA;\n",
              "      box-shadow: 0px 1px 2px rgba(60, 64, 67, 0.3), 0px 1px 3px 1px rgba(60, 64, 67, 0.15);\n",
              "      fill: #174EA6;\n",
              "    }\n",
              "\n",
              "    [theme=dark] .colab-df-convert {\n",
              "      background-color: #3B4455;\n",
              "      fill: #D2E3FC;\n",
              "    }\n",
              "\n",
              "    [theme=dark] .colab-df-convert:hover {\n",
              "      background-color: #434B5C;\n",
              "      box-shadow: 0px 1px 3px 1px rgba(0, 0, 0, 0.15);\n",
              "      filter: drop-shadow(0px 1px 2px rgba(0, 0, 0, 0.3));\n",
              "      fill: #FFFFFF;\n",
              "    }\n",
              "  </style>\n",
              "\n",
              "      <script>\n",
              "        const buttonEl =\n",
              "          document.querySelector('#df-abf43233-c324-42e3-9c05-b18d34b30ea2 button.colab-df-convert');\n",
              "        buttonEl.style.display =\n",
              "          google.colab.kernel.accessAllowed ? 'block' : 'none';\n",
              "\n",
              "        async function convertToInteractive(key) {\n",
              "          const element = document.querySelector('#df-abf43233-c324-42e3-9c05-b18d34b30ea2');\n",
              "          const dataTable =\n",
              "            await google.colab.kernel.invokeFunction('convertToInteractive',\n",
              "                                                     [key], {});\n",
              "          if (!dataTable) return;\n",
              "\n",
              "          const docLinkHtml = 'Like what you see? Visit the ' +\n",
              "            '<a target=\"_blank\" href=https://colab.research.google.com/notebooks/data_table.ipynb>data table notebook</a>'\n",
              "            + ' to learn more about interactive tables.';\n",
              "          element.innerHTML = '';\n",
              "          dataTable['output_type'] = 'display_data';\n",
              "          await google.colab.output.renderOutput(dataTable, element);\n",
              "          const docLink = document.createElement('div');\n",
              "          docLink.innerHTML = docLinkHtml;\n",
              "          element.appendChild(docLink);\n",
              "        }\n",
              "      </script>\n",
              "    </div>\n",
              "  </div>\n",
              "  "
            ]
          },
          "metadata": {},
          "execution_count": 22
        }
      ]
    },
    {
      "cell_type": "markdown",
      "source": [
        "Identificar valores nulos."
      ],
      "metadata": {
        "id": "x0g2Usg7qHyA"
      }
    },
    {
      "cell_type": "markdown",
      "source": [
        "Cantidad de número nulos por columna."
      ],
      "metadata": {
        "id": "KTqi_0cYpB_e"
      }
    },
    {
      "cell_type": "code",
      "source": [
        "for column in missing_data.columns.values.tolist():\n",
        "    print(column)\n",
        "    print (missing_data[column].value_counts())\n",
        "    print(\"\")"
      ],
      "metadata": {
        "colab": {
          "base_uri": "https://localhost:8080/"
        },
        "id": "g39V_UdlpCf5",
        "outputId": "ba7272d4-8996-4258-99e7-4997bef1a168"
      },
      "execution_count": 23,
      "outputs": [
        {
          "output_type": "stream",
          "name": "stdout",
          "text": [
            "symboling\n",
            "False    205\n",
            "Name: symboling, dtype: int64\n",
            "\n",
            "normalized-losses\n",
            "False    164\n",
            "True      41\n",
            "Name: normalized-losses, dtype: int64\n",
            "\n",
            "make\n",
            "False    205\n",
            "Name: make, dtype: int64\n",
            "\n",
            "fuel-type\n",
            "False    205\n",
            "Name: fuel-type, dtype: int64\n",
            "\n",
            "aspiration\n",
            "False    205\n",
            "Name: aspiration, dtype: int64\n",
            "\n",
            "num-of-doors\n",
            "False    203\n",
            "True       2\n",
            "Name: num-of-doors, dtype: int64\n",
            "\n",
            "body-style\n",
            "False    205\n",
            "Name: body-style, dtype: int64\n",
            "\n",
            "drive-wheels\n",
            "False    205\n",
            "Name: drive-wheels, dtype: int64\n",
            "\n",
            "engine-location\n",
            "False    205\n",
            "Name: engine-location, dtype: int64\n",
            "\n",
            "wheel-base\n",
            "False    205\n",
            "Name: wheel-base, dtype: int64\n",
            "\n",
            "length\n",
            "False    205\n",
            "Name: length, dtype: int64\n",
            "\n",
            "width\n",
            "False    205\n",
            "Name: width, dtype: int64\n",
            "\n",
            "height\n",
            "False    205\n",
            "Name: height, dtype: int64\n",
            "\n",
            "curb-weight\n",
            "False    205\n",
            "Name: curb-weight, dtype: int64\n",
            "\n",
            "engine-type\n",
            "False    205\n",
            "Name: engine-type, dtype: int64\n",
            "\n",
            "num-of-cylinders\n",
            "False    205\n",
            "Name: num-of-cylinders, dtype: int64\n",
            "\n",
            "engine-size\n",
            "False    205\n",
            "Name: engine-size, dtype: int64\n",
            "\n",
            "fuel-system\n",
            "False    205\n",
            "Name: fuel-system, dtype: int64\n",
            "\n",
            "bore\n",
            "False    201\n",
            "True       4\n",
            "Name: bore, dtype: int64\n",
            "\n",
            "stroke\n",
            "False    201\n",
            "True       4\n",
            "Name: stroke, dtype: int64\n",
            "\n",
            "compression-ratio\n",
            "False    205\n",
            "Name: compression-ratio, dtype: int64\n",
            "\n",
            "horsepower\n",
            "False    203\n",
            "True       2\n",
            "Name: horsepower, dtype: int64\n",
            "\n",
            "peak-rpm\n",
            "False    203\n",
            "True       2\n",
            "Name: peak-rpm, dtype: int64\n",
            "\n",
            "city-mpg\n",
            "False    205\n",
            "Name: city-mpg, dtype: int64\n",
            "\n",
            "highway-mpg\n",
            "False    205\n",
            "Name: highway-mpg, dtype: int64\n",
            "\n",
            "price\n",
            "False    201\n",
            "True       4\n",
            "Name: price, dtype: int64\n",
            "\n"
          ]
        }
      ]
    },
    {
      "cell_type": "markdown",
      "source": [
        "Cálculo de la memdia "
      ],
      "metadata": {
        "id": "BatjZzz3qdJM"
      }
    },
    {
      "cell_type": "code",
      "source": [
        "avg_norm_loss = df[\"normalized-losses\"].astype(\"float\").mean(axis=0)\n",
        "print(\"Average of normalized-losses:\", avg_norm_loss)"
      ],
      "metadata": {
        "colab": {
          "base_uri": "https://localhost:8080/"
        },
        "id": "1-x38bFxpGPD",
        "outputId": "b3b3d142-e905-436a-d0ae-14a7c2f02369"
      },
      "execution_count": 24,
      "outputs": [
        {
          "output_type": "stream",
          "name": "stdout",
          "text": [
            "Average of normalized-losses: 122.0\n"
          ]
        }
      ]
    },
    {
      "cell_type": "markdown",
      "source": [
        "Remplazar valores no numéricos con con valore normalizados."
      ],
      "metadata": {
        "id": "Vc-tVlwVqpdK"
      }
    },
    {
      "cell_type": "code",
      "source": [
        "df[\"normalized-losses\"].replace(np.nan, avg_norm_loss, inplace=True)"
      ],
      "metadata": {
        "id": "_brkaDeDpG-L"
      },
      "execution_count": 26,
      "outputs": []
    },
    {
      "cell_type": "markdown",
      "source": [
        "Calcular el valor de la media de una columna."
      ],
      "metadata": {
        "id": "YrVn7_Prqzyv"
      }
    },
    {
      "cell_type": "code",
      "source": [
        "avg_bore=df['bore'].astype('float').mean(axis=0)\n",
        "print(\"Average of bore:\", avg_bore)"
      ],
      "metadata": {
        "colab": {
          "base_uri": "https://localhost:8080/"
        },
        "id": "kKvZyOPppIEy",
        "outputId": "9ca82b63-ae57-4e90-ab08-8778cdaef287"
      },
      "execution_count": 27,
      "outputs": [
        {
          "output_type": "stream",
          "name": "stdout",
          "text": [
            "Average of bore: 3.3297512437810943\n"
          ]
        }
      ]
    },
    {
      "cell_type": "markdown",
      "source": [
        "Remplazar el valor de los no numéricos con el promedio de una columna."
      ],
      "metadata": {
        "id": "KCd4d7gbrQuk"
      }
    },
    {
      "cell_type": "code",
      "source": [
        "df[\"bore\"].replace(np.nan, avg_bore, inplace=True)"
      ],
      "metadata": {
        "id": "6TTDvHVxpKB8"
      },
      "execution_count": 28,
      "outputs": []
    },
    {
      "cell_type": "markdown",
      "source": [
        "###Exploratory Data"
      ],
      "metadata": {
        "id": "73ext_nOrw1S"
      }
    },
    {
      "cell_type": "markdown",
      "source": [
        "Importación de librerías."
      ],
      "metadata": {
        "id": "6zDGtLSFr2PN"
      }
    },
    {
      "cell_type": "code",
      "source": [
        "import pandas as pd\n",
        "import numpy as np\n",
        "import matplotlib.pyplot as plt\n",
        "import seaborn as sns\n",
        "%matplotlib inline "
      ],
      "metadata": {
        "id": "w5akSse9r62Q"
      },
      "execution_count": 35,
      "outputs": []
    },
    {
      "cell_type": "markdown",
      "source": [
        "Descarga de archivo."
      ],
      "metadata": {
        "id": "vsuAdvBVuicA"
      }
    },
    {
      "cell_type": "code",
      "source": [
        "! wget 'https://cf-courses-data.s3.us.cloud-object-storage.appdomain.cloud/IBMDeveloperSkillsNetwork-DA0101EN-SkillsNetwork/labs/Data%20files/automobileEDA.csv'"
      ],
      "metadata": {
        "colab": {
          "base_uri": "https://localhost:8080/"
        },
        "id": "6Assj9A9r-RZ",
        "outputId": "f8234925-9cd7-4aab-acd8-6209b20ee498"
      },
      "execution_count": 32,
      "outputs": [
        {
          "output_type": "stream",
          "name": "stdout",
          "text": [
            "--2022-10-12 00:55:25--  https://cf-courses-data.s3.us.cloud-object-storage.appdomain.cloud/IBMDeveloperSkillsNetwork-DA0101EN-SkillsNetwork/labs/Data%20files/automobileEDA.csv\n",
            "Resolving cf-courses-data.s3.us.cloud-object-storage.appdomain.cloud (cf-courses-data.s3.us.cloud-object-storage.appdomain.cloud)... 169.63.118.104\n",
            "Connecting to cf-courses-data.s3.us.cloud-object-storage.appdomain.cloud (cf-courses-data.s3.us.cloud-object-storage.appdomain.cloud)|169.63.118.104|:443... connected.\n",
            "HTTP request sent, awaiting response... 200 OK\n",
            "Length: 35648 (35K) [text/csv]\n",
            "Saving to: ‘automobileEDA.csv’\n",
            "\n",
            "automobileEDA.csv   100%[===================>]  34.81K  --.-KB/s    in 0.01s   \n",
            "\n",
            "2022-10-12 00:55:25 (2.74 MB/s) - ‘automobileEDA.csv’ saved [35648/35648]\n",
            "\n"
          ]
        }
      ]
    },
    {
      "cell_type": "markdown",
      "source": [
        "Asignación de archivos a variable."
      ],
      "metadata": {
        "id": "tiY8P7Jquk2K"
      }
    },
    {
      "cell_type": "code",
      "source": [
        "filename=\"automobileEDA.csv\""
      ],
      "metadata": {
        "id": "cdFt8e-Fr_jZ"
      },
      "execution_count": 38,
      "outputs": []
    },
    {
      "cell_type": "markdown",
      "source": [
        "Creación de dataframe."
      ],
      "metadata": {
        "id": "_rkgqzOAvJXt"
      }
    },
    {
      "cell_type": "code",
      "source": [
        "df = pd.read_csv(filename)\n",
        "df.head()"
      ],
      "metadata": {
        "colab": {
          "base_uri": "https://localhost:8080/",
          "height": 386
        },
        "id": "e-0BoHIasAUz",
        "outputId": "2fa9996d-44e3-4bed-b760-b78400765d6c"
      },
      "execution_count": 40,
      "outputs": [
        {
          "output_type": "execute_result",
          "data": {
            "text/plain": [
              "   symboling  normalized-losses         make aspiration num-of-doors  \\\n",
              "0          3                122  alfa-romero        std          two   \n",
              "1          3                122  alfa-romero        std          two   \n",
              "2          1                122  alfa-romero        std          two   \n",
              "3          2                164         audi        std         four   \n",
              "4          2                164         audi        std         four   \n",
              "\n",
              "    body-style drive-wheels engine-location  wheel-base    length  ...  \\\n",
              "0  convertible          rwd           front        88.6  0.811148  ...   \n",
              "1  convertible          rwd           front        88.6  0.811148  ...   \n",
              "2    hatchback          rwd           front        94.5  0.822681  ...   \n",
              "3        sedan          fwd           front        99.8  0.848630  ...   \n",
              "4        sedan          4wd           front        99.4  0.848630  ...   \n",
              "\n",
              "   compression-ratio  horsepower  peak-rpm city-mpg highway-mpg    price  \\\n",
              "0                9.0       111.0    5000.0       21          27  13495.0   \n",
              "1                9.0       111.0    5000.0       21          27  16500.0   \n",
              "2                9.0       154.0    5000.0       19          26  16500.0   \n",
              "3               10.0       102.0    5500.0       24          30  13950.0   \n",
              "4                8.0       115.0    5500.0       18          22  17450.0   \n",
              "\n",
              "  city-L/100km  horsepower-binned  diesel  gas  \n",
              "0    11.190476             Medium       0    1  \n",
              "1    11.190476             Medium       0    1  \n",
              "2    12.368421             Medium       0    1  \n",
              "3     9.791667             Medium       0    1  \n",
              "4    13.055556             Medium       0    1  \n",
              "\n",
              "[5 rows x 29 columns]"
            ],
            "text/html": [
              "\n",
              "  <div id=\"df-c75d4830-fa3c-432b-9109-1f8ee6fcada8\">\n",
              "    <div class=\"colab-df-container\">\n",
              "      <div>\n",
              "<style scoped>\n",
              "    .dataframe tbody tr th:only-of-type {\n",
              "        vertical-align: middle;\n",
              "    }\n",
              "\n",
              "    .dataframe tbody tr th {\n",
              "        vertical-align: top;\n",
              "    }\n",
              "\n",
              "    .dataframe thead th {\n",
              "        text-align: right;\n",
              "    }\n",
              "</style>\n",
              "<table border=\"1\" class=\"dataframe\">\n",
              "  <thead>\n",
              "    <tr style=\"text-align: right;\">\n",
              "      <th></th>\n",
              "      <th>symboling</th>\n",
              "      <th>normalized-losses</th>\n",
              "      <th>make</th>\n",
              "      <th>aspiration</th>\n",
              "      <th>num-of-doors</th>\n",
              "      <th>body-style</th>\n",
              "      <th>drive-wheels</th>\n",
              "      <th>engine-location</th>\n",
              "      <th>wheel-base</th>\n",
              "      <th>length</th>\n",
              "      <th>...</th>\n",
              "      <th>compression-ratio</th>\n",
              "      <th>horsepower</th>\n",
              "      <th>peak-rpm</th>\n",
              "      <th>city-mpg</th>\n",
              "      <th>highway-mpg</th>\n",
              "      <th>price</th>\n",
              "      <th>city-L/100km</th>\n",
              "      <th>horsepower-binned</th>\n",
              "      <th>diesel</th>\n",
              "      <th>gas</th>\n",
              "    </tr>\n",
              "  </thead>\n",
              "  <tbody>\n",
              "    <tr>\n",
              "      <th>0</th>\n",
              "      <td>3</td>\n",
              "      <td>122</td>\n",
              "      <td>alfa-romero</td>\n",
              "      <td>std</td>\n",
              "      <td>two</td>\n",
              "      <td>convertible</td>\n",
              "      <td>rwd</td>\n",
              "      <td>front</td>\n",
              "      <td>88.6</td>\n",
              "      <td>0.811148</td>\n",
              "      <td>...</td>\n",
              "      <td>9.0</td>\n",
              "      <td>111.0</td>\n",
              "      <td>5000.0</td>\n",
              "      <td>21</td>\n",
              "      <td>27</td>\n",
              "      <td>13495.0</td>\n",
              "      <td>11.190476</td>\n",
              "      <td>Medium</td>\n",
              "      <td>0</td>\n",
              "      <td>1</td>\n",
              "    </tr>\n",
              "    <tr>\n",
              "      <th>1</th>\n",
              "      <td>3</td>\n",
              "      <td>122</td>\n",
              "      <td>alfa-romero</td>\n",
              "      <td>std</td>\n",
              "      <td>two</td>\n",
              "      <td>convertible</td>\n",
              "      <td>rwd</td>\n",
              "      <td>front</td>\n",
              "      <td>88.6</td>\n",
              "      <td>0.811148</td>\n",
              "      <td>...</td>\n",
              "      <td>9.0</td>\n",
              "      <td>111.0</td>\n",
              "      <td>5000.0</td>\n",
              "      <td>21</td>\n",
              "      <td>27</td>\n",
              "      <td>16500.0</td>\n",
              "      <td>11.190476</td>\n",
              "      <td>Medium</td>\n",
              "      <td>0</td>\n",
              "      <td>1</td>\n",
              "    </tr>\n",
              "    <tr>\n",
              "      <th>2</th>\n",
              "      <td>1</td>\n",
              "      <td>122</td>\n",
              "      <td>alfa-romero</td>\n",
              "      <td>std</td>\n",
              "      <td>two</td>\n",
              "      <td>hatchback</td>\n",
              "      <td>rwd</td>\n",
              "      <td>front</td>\n",
              "      <td>94.5</td>\n",
              "      <td>0.822681</td>\n",
              "      <td>...</td>\n",
              "      <td>9.0</td>\n",
              "      <td>154.0</td>\n",
              "      <td>5000.0</td>\n",
              "      <td>19</td>\n",
              "      <td>26</td>\n",
              "      <td>16500.0</td>\n",
              "      <td>12.368421</td>\n",
              "      <td>Medium</td>\n",
              "      <td>0</td>\n",
              "      <td>1</td>\n",
              "    </tr>\n",
              "    <tr>\n",
              "      <th>3</th>\n",
              "      <td>2</td>\n",
              "      <td>164</td>\n",
              "      <td>audi</td>\n",
              "      <td>std</td>\n",
              "      <td>four</td>\n",
              "      <td>sedan</td>\n",
              "      <td>fwd</td>\n",
              "      <td>front</td>\n",
              "      <td>99.8</td>\n",
              "      <td>0.848630</td>\n",
              "      <td>...</td>\n",
              "      <td>10.0</td>\n",
              "      <td>102.0</td>\n",
              "      <td>5500.0</td>\n",
              "      <td>24</td>\n",
              "      <td>30</td>\n",
              "      <td>13950.0</td>\n",
              "      <td>9.791667</td>\n",
              "      <td>Medium</td>\n",
              "      <td>0</td>\n",
              "      <td>1</td>\n",
              "    </tr>\n",
              "    <tr>\n",
              "      <th>4</th>\n",
              "      <td>2</td>\n",
              "      <td>164</td>\n",
              "      <td>audi</td>\n",
              "      <td>std</td>\n",
              "      <td>four</td>\n",
              "      <td>sedan</td>\n",
              "      <td>4wd</td>\n",
              "      <td>front</td>\n",
              "      <td>99.4</td>\n",
              "      <td>0.848630</td>\n",
              "      <td>...</td>\n",
              "      <td>8.0</td>\n",
              "      <td>115.0</td>\n",
              "      <td>5500.0</td>\n",
              "      <td>18</td>\n",
              "      <td>22</td>\n",
              "      <td>17450.0</td>\n",
              "      <td>13.055556</td>\n",
              "      <td>Medium</td>\n",
              "      <td>0</td>\n",
              "      <td>1</td>\n",
              "    </tr>\n",
              "  </tbody>\n",
              "</table>\n",
              "<p>5 rows × 29 columns</p>\n",
              "</div>\n",
              "      <button class=\"colab-df-convert\" onclick=\"convertToInteractive('df-c75d4830-fa3c-432b-9109-1f8ee6fcada8')\"\n",
              "              title=\"Convert this dataframe to an interactive table.\"\n",
              "              style=\"display:none;\">\n",
              "        \n",
              "  <svg xmlns=\"http://www.w3.org/2000/svg\" height=\"24px\"viewBox=\"0 0 24 24\"\n",
              "       width=\"24px\">\n",
              "    <path d=\"M0 0h24v24H0V0z\" fill=\"none\"/>\n",
              "    <path d=\"M18.56 5.44l.94 2.06.94-2.06 2.06-.94-2.06-.94-.94-2.06-.94 2.06-2.06.94zm-11 1L8.5 8.5l.94-2.06 2.06-.94-2.06-.94L8.5 2.5l-.94 2.06-2.06.94zm10 10l.94 2.06.94-2.06 2.06-.94-2.06-.94-.94-2.06-.94 2.06-2.06.94z\"/><path d=\"M17.41 7.96l-1.37-1.37c-.4-.4-.92-.59-1.43-.59-.52 0-1.04.2-1.43.59L10.3 9.45l-7.72 7.72c-.78.78-.78 2.05 0 2.83L4 21.41c.39.39.9.59 1.41.59.51 0 1.02-.2 1.41-.59l7.78-7.78 2.81-2.81c.8-.78.8-2.07 0-2.86zM5.41 20L4 18.59l7.72-7.72 1.47 1.35L5.41 20z\"/>\n",
              "  </svg>\n",
              "      </button>\n",
              "      \n",
              "  <style>\n",
              "    .colab-df-container {\n",
              "      display:flex;\n",
              "      flex-wrap:wrap;\n",
              "      gap: 12px;\n",
              "    }\n",
              "\n",
              "    .colab-df-convert {\n",
              "      background-color: #E8F0FE;\n",
              "      border: none;\n",
              "      border-radius: 50%;\n",
              "      cursor: pointer;\n",
              "      display: none;\n",
              "      fill: #1967D2;\n",
              "      height: 32px;\n",
              "      padding: 0 0 0 0;\n",
              "      width: 32px;\n",
              "    }\n",
              "\n",
              "    .colab-df-convert:hover {\n",
              "      background-color: #E2EBFA;\n",
              "      box-shadow: 0px 1px 2px rgba(60, 64, 67, 0.3), 0px 1px 3px 1px rgba(60, 64, 67, 0.15);\n",
              "      fill: #174EA6;\n",
              "    }\n",
              "\n",
              "    [theme=dark] .colab-df-convert {\n",
              "      background-color: #3B4455;\n",
              "      fill: #D2E3FC;\n",
              "    }\n",
              "\n",
              "    [theme=dark] .colab-df-convert:hover {\n",
              "      background-color: #434B5C;\n",
              "      box-shadow: 0px 1px 3px 1px rgba(0, 0, 0, 0.15);\n",
              "      filter: drop-shadow(0px 1px 2px rgba(0, 0, 0, 0.3));\n",
              "      fill: #FFFFFF;\n",
              "    }\n",
              "  </style>\n",
              "\n",
              "      <script>\n",
              "        const buttonEl =\n",
              "          document.querySelector('#df-c75d4830-fa3c-432b-9109-1f8ee6fcada8 button.colab-df-convert');\n",
              "        buttonEl.style.display =\n",
              "          google.colab.kernel.accessAllowed ? 'block' : 'none';\n",
              "\n",
              "        async function convertToInteractive(key) {\n",
              "          const element = document.querySelector('#df-c75d4830-fa3c-432b-9109-1f8ee6fcada8');\n",
              "          const dataTable =\n",
              "            await google.colab.kernel.invokeFunction('convertToInteractive',\n",
              "                                                     [key], {});\n",
              "          if (!dataTable) return;\n",
              "\n",
              "          const docLinkHtml = 'Like what you see? Visit the ' +\n",
              "            '<a target=\"_blank\" href=https://colab.research.google.com/notebooks/data_table.ipynb>data table notebook</a>'\n",
              "            + ' to learn more about interactive tables.';\n",
              "          element.innerHTML = '';\n",
              "          dataTable['output_type'] = 'display_data';\n",
              "          await google.colab.output.renderOutput(dataTable, element);\n",
              "          const docLink = document.createElement('div');\n",
              "          docLink.innerHTML = docLinkHtml;\n",
              "          element.appendChild(docLink);\n",
              "        }\n",
              "      </script>\n",
              "    </div>\n",
              "  </div>\n",
              "  "
            ]
          },
          "metadata": {},
          "execution_count": 40
        }
      ]
    },
    {
      "cell_type": "code",
      "source": [
        "print(df.dtypes)"
      ],
      "metadata": {
        "colab": {
          "base_uri": "https://localhost:8080/"
        },
        "id": "bUhfDoEfsKyQ",
        "outputId": "9401cb71-cb0a-400a-bd29-dbedcf906c62"
      },
      "execution_count": 41,
      "outputs": [
        {
          "output_type": "stream",
          "name": "stdout",
          "text": [
            "symboling              int64\n",
            "normalized-losses      int64\n",
            "make                  object\n",
            "aspiration            object\n",
            "num-of-doors          object\n",
            "body-style            object\n",
            "drive-wheels          object\n",
            "engine-location       object\n",
            "wheel-base           float64\n",
            "length               float64\n",
            "width                float64\n",
            "height               float64\n",
            "curb-weight            int64\n",
            "engine-type           object\n",
            "num-of-cylinders      object\n",
            "engine-size            int64\n",
            "fuel-system           object\n",
            "bore                 float64\n",
            "stroke               float64\n",
            "compression-ratio    float64\n",
            "horsepower           float64\n",
            "peak-rpm             float64\n",
            "city-mpg               int64\n",
            "highway-mpg            int64\n",
            "price                float64\n",
            "city-L/100km         float64\n",
            "horsepower-binned     object\n",
            "diesel                 int64\n",
            "gas                    int64\n",
            "dtype: object\n"
          ]
        }
      ]
    },
    {
      "cell_type": "code",
      "source": [
        "print(df.dtypes)"
      ],
      "metadata": {
        "id": "ZXqF-3XRCu8S"
      },
      "execution_count": null,
      "outputs": []
    },
    {
      "cell_type": "markdown",
      "source": [
        "Descripción de dataframe."
      ],
      "metadata": {
        "id": "FDSQr-vevOPg"
      }
    },
    {
      "cell_type": "code",
      "source": [
        "df['peak-rpm'].dtypes"
      ],
      "metadata": {
        "colab": {
          "base_uri": "https://localhost:8080/"
        },
        "id": "1tExNm0SsPeh",
        "outputId": "3242d670-750c-441e-8197-a90394e32e2a"
      },
      "execution_count": 42,
      "outputs": [
        {
          "output_type": "execute_result",
          "data": {
            "text/plain": [
              "dtype('float64')"
            ]
          },
          "metadata": {},
          "execution_count": 42
        }
      ]
    },
    {
      "cell_type": "markdown",
      "source": [
        "Listado de de dataframe."
      ],
      "metadata": {
        "id": "ihp35SOMvXI2"
      }
    },
    {
      "cell_type": "code",
      "source": [
        "df.corr()"
      ],
      "metadata": {
        "colab": {
          "base_uri": "https://localhost:8080/",
          "height": 761
        },
        "id": "IVaDlOJZsxNz",
        "outputId": "1797ac67-1afe-4e48-9bb2-f49a07fdfeb8"
      },
      "execution_count": 43,
      "outputs": [
        {
          "output_type": "execute_result",
          "data": {
            "text/plain": [
              "                   symboling  normalized-losses  wheel-base    length  \\\n",
              "symboling           1.000000           0.466264   -0.535987 -0.365404   \n",
              "normalized-losses   0.466264           1.000000   -0.056661  0.019424   \n",
              "wheel-base         -0.535987          -0.056661    1.000000  0.876024   \n",
              "length             -0.365404           0.019424    0.876024  1.000000   \n",
              "width              -0.242423           0.086802    0.814507  0.857170   \n",
              "height             -0.550160          -0.373737    0.590742  0.492063   \n",
              "curb-weight        -0.233118           0.099404    0.782097  0.880665   \n",
              "engine-size        -0.110581           0.112360    0.572027  0.685025   \n",
              "bore               -0.140019          -0.029862    0.493244  0.608971   \n",
              "stroke             -0.008245           0.055563    0.158502  0.124139   \n",
              "compression-ratio  -0.182196          -0.114713    0.250313  0.159733   \n",
              "horsepower          0.075819           0.217299    0.371147  0.579821   \n",
              "peak-rpm            0.279740           0.239543   -0.360305 -0.285970   \n",
              "city-mpg           -0.035527          -0.225016   -0.470606 -0.665192   \n",
              "highway-mpg         0.036233          -0.181877   -0.543304 -0.698142   \n",
              "price              -0.082391           0.133999    0.584642  0.690628   \n",
              "city-L/100km        0.066171           0.238567    0.476153  0.657373   \n",
              "diesel             -0.196735          -0.101546    0.307237  0.211187   \n",
              "gas                 0.196735           0.101546   -0.307237 -0.211187   \n",
              "\n",
              "                      width    height  curb-weight  engine-size      bore  \\\n",
              "symboling         -0.242423 -0.550160    -0.233118    -0.110581 -0.140019   \n",
              "normalized-losses  0.086802 -0.373737     0.099404     0.112360 -0.029862   \n",
              "wheel-base         0.814507  0.590742     0.782097     0.572027  0.493244   \n",
              "length             0.857170  0.492063     0.880665     0.685025  0.608971   \n",
              "width              1.000000  0.306002     0.866201     0.729436  0.544885   \n",
              "height             0.306002  1.000000     0.307581     0.074694  0.180449   \n",
              "curb-weight        0.866201  0.307581     1.000000     0.849072  0.644060   \n",
              "engine-size        0.729436  0.074694     0.849072     1.000000  0.572609   \n",
              "bore               0.544885  0.180449     0.644060     0.572609  1.000000   \n",
              "stroke             0.188829 -0.062704     0.167562     0.209523 -0.055390   \n",
              "compression-ratio  0.189867  0.259737     0.156433     0.028889  0.001263   \n",
              "horsepower         0.615077 -0.087027     0.757976     0.822676  0.566936   \n",
              "peak-rpm          -0.245800 -0.309974    -0.279361    -0.256733 -0.267392   \n",
              "city-mpg          -0.633531 -0.049800    -0.749543    -0.650546 -0.582027   \n",
              "highway-mpg       -0.680635 -0.104812    -0.794889    -0.679571 -0.591309   \n",
              "price              0.751265  0.135486     0.834415     0.872335  0.543155   \n",
              "city-L/100km       0.673363  0.003811     0.785353     0.745059  0.554610   \n",
              "diesel             0.244356  0.281578     0.221046     0.070779  0.054458   \n",
              "gas               -0.244356 -0.281578    -0.221046    -0.070779 -0.054458   \n",
              "\n",
              "                     stroke  compression-ratio  horsepower  peak-rpm  \\\n",
              "symboling         -0.008245          -0.182196    0.075819  0.279740   \n",
              "normalized-losses  0.055563          -0.114713    0.217299  0.239543   \n",
              "wheel-base         0.158502           0.250313    0.371147 -0.360305   \n",
              "length             0.124139           0.159733    0.579821 -0.285970   \n",
              "width              0.188829           0.189867    0.615077 -0.245800   \n",
              "height            -0.062704           0.259737   -0.087027 -0.309974   \n",
              "curb-weight        0.167562           0.156433    0.757976 -0.279361   \n",
              "engine-size        0.209523           0.028889    0.822676 -0.256733   \n",
              "bore              -0.055390           0.001263    0.566936 -0.267392   \n",
              "stroke             1.000000           0.187923    0.098462 -0.065713   \n",
              "compression-ratio  0.187923           1.000000   -0.214514 -0.435780   \n",
              "horsepower         0.098462          -0.214514    1.000000  0.107885   \n",
              "peak-rpm          -0.065713          -0.435780    0.107885  1.000000   \n",
              "city-mpg          -0.034696           0.331425   -0.822214 -0.115413   \n",
              "highway-mpg       -0.035201           0.268465   -0.804575 -0.058598   \n",
              "price              0.082310           0.071107    0.809575 -0.101616   \n",
              "city-L/100km       0.037300          -0.299372    0.889488  0.115830   \n",
              "diesel             0.241303           0.985231   -0.169053 -0.475812   \n",
              "gas               -0.241303          -0.985231    0.169053  0.475812   \n",
              "\n",
              "                   city-mpg  highway-mpg     price  city-L/100km    diesel  \\\n",
              "symboling         -0.035527     0.036233 -0.082391      0.066171 -0.196735   \n",
              "normalized-losses -0.225016    -0.181877  0.133999      0.238567 -0.101546   \n",
              "wheel-base        -0.470606    -0.543304  0.584642      0.476153  0.307237   \n",
              "length            -0.665192    -0.698142  0.690628      0.657373  0.211187   \n",
              "width             -0.633531    -0.680635  0.751265      0.673363  0.244356   \n",
              "height            -0.049800    -0.104812  0.135486      0.003811  0.281578   \n",
              "curb-weight       -0.749543    -0.794889  0.834415      0.785353  0.221046   \n",
              "engine-size       -0.650546    -0.679571  0.872335      0.745059  0.070779   \n",
              "bore              -0.582027    -0.591309  0.543155      0.554610  0.054458   \n",
              "stroke            -0.034696    -0.035201  0.082310      0.037300  0.241303   \n",
              "compression-ratio  0.331425     0.268465  0.071107     -0.299372  0.985231   \n",
              "horsepower        -0.822214    -0.804575  0.809575      0.889488 -0.169053   \n",
              "peak-rpm          -0.115413    -0.058598 -0.101616      0.115830 -0.475812   \n",
              "city-mpg           1.000000     0.972044 -0.686571     -0.949713  0.265676   \n",
              "highway-mpg        0.972044     1.000000 -0.704692     -0.930028  0.198690   \n",
              "price             -0.686571    -0.704692  1.000000      0.789898  0.110326   \n",
              "city-L/100km      -0.949713    -0.930028  0.789898      1.000000 -0.241282   \n",
              "diesel             0.265676     0.198690  0.110326     -0.241282  1.000000   \n",
              "gas               -0.265676    -0.198690 -0.110326      0.241282 -1.000000   \n",
              "\n",
              "                        gas  \n",
              "symboling          0.196735  \n",
              "normalized-losses  0.101546  \n",
              "wheel-base        -0.307237  \n",
              "length            -0.211187  \n",
              "width             -0.244356  \n",
              "height            -0.281578  \n",
              "curb-weight       -0.221046  \n",
              "engine-size       -0.070779  \n",
              "bore              -0.054458  \n",
              "stroke            -0.241303  \n",
              "compression-ratio -0.985231  \n",
              "horsepower         0.169053  \n",
              "peak-rpm           0.475812  \n",
              "city-mpg          -0.265676  \n",
              "highway-mpg       -0.198690  \n",
              "price             -0.110326  \n",
              "city-L/100km       0.241282  \n",
              "diesel            -1.000000  \n",
              "gas                1.000000  "
            ],
            "text/html": [
              "\n",
              "  <div id=\"df-6306db47-0260-4ff2-95ac-a42cddb3e1a8\">\n",
              "    <div class=\"colab-df-container\">\n",
              "      <div>\n",
              "<style scoped>\n",
              "    .dataframe tbody tr th:only-of-type {\n",
              "        vertical-align: middle;\n",
              "    }\n",
              "\n",
              "    .dataframe tbody tr th {\n",
              "        vertical-align: top;\n",
              "    }\n",
              "\n",
              "    .dataframe thead th {\n",
              "        text-align: right;\n",
              "    }\n",
              "</style>\n",
              "<table border=\"1\" class=\"dataframe\">\n",
              "  <thead>\n",
              "    <tr style=\"text-align: right;\">\n",
              "      <th></th>\n",
              "      <th>symboling</th>\n",
              "      <th>normalized-losses</th>\n",
              "      <th>wheel-base</th>\n",
              "      <th>length</th>\n",
              "      <th>width</th>\n",
              "      <th>height</th>\n",
              "      <th>curb-weight</th>\n",
              "      <th>engine-size</th>\n",
              "      <th>bore</th>\n",
              "      <th>stroke</th>\n",
              "      <th>compression-ratio</th>\n",
              "      <th>horsepower</th>\n",
              "      <th>peak-rpm</th>\n",
              "      <th>city-mpg</th>\n",
              "      <th>highway-mpg</th>\n",
              "      <th>price</th>\n",
              "      <th>city-L/100km</th>\n",
              "      <th>diesel</th>\n",
              "      <th>gas</th>\n",
              "    </tr>\n",
              "  </thead>\n",
              "  <tbody>\n",
              "    <tr>\n",
              "      <th>symboling</th>\n",
              "      <td>1.000000</td>\n",
              "      <td>0.466264</td>\n",
              "      <td>-0.535987</td>\n",
              "      <td>-0.365404</td>\n",
              "      <td>-0.242423</td>\n",
              "      <td>-0.550160</td>\n",
              "      <td>-0.233118</td>\n",
              "      <td>-0.110581</td>\n",
              "      <td>-0.140019</td>\n",
              "      <td>-0.008245</td>\n",
              "      <td>-0.182196</td>\n",
              "      <td>0.075819</td>\n",
              "      <td>0.279740</td>\n",
              "      <td>-0.035527</td>\n",
              "      <td>0.036233</td>\n",
              "      <td>-0.082391</td>\n",
              "      <td>0.066171</td>\n",
              "      <td>-0.196735</td>\n",
              "      <td>0.196735</td>\n",
              "    </tr>\n",
              "    <tr>\n",
              "      <th>normalized-losses</th>\n",
              "      <td>0.466264</td>\n",
              "      <td>1.000000</td>\n",
              "      <td>-0.056661</td>\n",
              "      <td>0.019424</td>\n",
              "      <td>0.086802</td>\n",
              "      <td>-0.373737</td>\n",
              "      <td>0.099404</td>\n",
              "      <td>0.112360</td>\n",
              "      <td>-0.029862</td>\n",
              "      <td>0.055563</td>\n",
              "      <td>-0.114713</td>\n",
              "      <td>0.217299</td>\n",
              "      <td>0.239543</td>\n",
              "      <td>-0.225016</td>\n",
              "      <td>-0.181877</td>\n",
              "      <td>0.133999</td>\n",
              "      <td>0.238567</td>\n",
              "      <td>-0.101546</td>\n",
              "      <td>0.101546</td>\n",
              "    </tr>\n",
              "    <tr>\n",
              "      <th>wheel-base</th>\n",
              "      <td>-0.535987</td>\n",
              "      <td>-0.056661</td>\n",
              "      <td>1.000000</td>\n",
              "      <td>0.876024</td>\n",
              "      <td>0.814507</td>\n",
              "      <td>0.590742</td>\n",
              "      <td>0.782097</td>\n",
              "      <td>0.572027</td>\n",
              "      <td>0.493244</td>\n",
              "      <td>0.158502</td>\n",
              "      <td>0.250313</td>\n",
              "      <td>0.371147</td>\n",
              "      <td>-0.360305</td>\n",
              "      <td>-0.470606</td>\n",
              "      <td>-0.543304</td>\n",
              "      <td>0.584642</td>\n",
              "      <td>0.476153</td>\n",
              "      <td>0.307237</td>\n",
              "      <td>-0.307237</td>\n",
              "    </tr>\n",
              "    <tr>\n",
              "      <th>length</th>\n",
              "      <td>-0.365404</td>\n",
              "      <td>0.019424</td>\n",
              "      <td>0.876024</td>\n",
              "      <td>1.000000</td>\n",
              "      <td>0.857170</td>\n",
              "      <td>0.492063</td>\n",
              "      <td>0.880665</td>\n",
              "      <td>0.685025</td>\n",
              "      <td>0.608971</td>\n",
              "      <td>0.124139</td>\n",
              "      <td>0.159733</td>\n",
              "      <td>0.579821</td>\n",
              "      <td>-0.285970</td>\n",
              "      <td>-0.665192</td>\n",
              "      <td>-0.698142</td>\n",
              "      <td>0.690628</td>\n",
              "      <td>0.657373</td>\n",
              "      <td>0.211187</td>\n",
              "      <td>-0.211187</td>\n",
              "    </tr>\n",
              "    <tr>\n",
              "      <th>width</th>\n",
              "      <td>-0.242423</td>\n",
              "      <td>0.086802</td>\n",
              "      <td>0.814507</td>\n",
              "      <td>0.857170</td>\n",
              "      <td>1.000000</td>\n",
              "      <td>0.306002</td>\n",
              "      <td>0.866201</td>\n",
              "      <td>0.729436</td>\n",
              "      <td>0.544885</td>\n",
              "      <td>0.188829</td>\n",
              "      <td>0.189867</td>\n",
              "      <td>0.615077</td>\n",
              "      <td>-0.245800</td>\n",
              "      <td>-0.633531</td>\n",
              "      <td>-0.680635</td>\n",
              "      <td>0.751265</td>\n",
              "      <td>0.673363</td>\n",
              "      <td>0.244356</td>\n",
              "      <td>-0.244356</td>\n",
              "    </tr>\n",
              "    <tr>\n",
              "      <th>height</th>\n",
              "      <td>-0.550160</td>\n",
              "      <td>-0.373737</td>\n",
              "      <td>0.590742</td>\n",
              "      <td>0.492063</td>\n",
              "      <td>0.306002</td>\n",
              "      <td>1.000000</td>\n",
              "      <td>0.307581</td>\n",
              "      <td>0.074694</td>\n",
              "      <td>0.180449</td>\n",
              "      <td>-0.062704</td>\n",
              "      <td>0.259737</td>\n",
              "      <td>-0.087027</td>\n",
              "      <td>-0.309974</td>\n",
              "      <td>-0.049800</td>\n",
              "      <td>-0.104812</td>\n",
              "      <td>0.135486</td>\n",
              "      <td>0.003811</td>\n",
              "      <td>0.281578</td>\n",
              "      <td>-0.281578</td>\n",
              "    </tr>\n",
              "    <tr>\n",
              "      <th>curb-weight</th>\n",
              "      <td>-0.233118</td>\n",
              "      <td>0.099404</td>\n",
              "      <td>0.782097</td>\n",
              "      <td>0.880665</td>\n",
              "      <td>0.866201</td>\n",
              "      <td>0.307581</td>\n",
              "      <td>1.000000</td>\n",
              "      <td>0.849072</td>\n",
              "      <td>0.644060</td>\n",
              "      <td>0.167562</td>\n",
              "      <td>0.156433</td>\n",
              "      <td>0.757976</td>\n",
              "      <td>-0.279361</td>\n",
              "      <td>-0.749543</td>\n",
              "      <td>-0.794889</td>\n",
              "      <td>0.834415</td>\n",
              "      <td>0.785353</td>\n",
              "      <td>0.221046</td>\n",
              "      <td>-0.221046</td>\n",
              "    </tr>\n",
              "    <tr>\n",
              "      <th>engine-size</th>\n",
              "      <td>-0.110581</td>\n",
              "      <td>0.112360</td>\n",
              "      <td>0.572027</td>\n",
              "      <td>0.685025</td>\n",
              "      <td>0.729436</td>\n",
              "      <td>0.074694</td>\n",
              "      <td>0.849072</td>\n",
              "      <td>1.000000</td>\n",
              "      <td>0.572609</td>\n",
              "      <td>0.209523</td>\n",
              "      <td>0.028889</td>\n",
              "      <td>0.822676</td>\n",
              "      <td>-0.256733</td>\n",
              "      <td>-0.650546</td>\n",
              "      <td>-0.679571</td>\n",
              "      <td>0.872335</td>\n",
              "      <td>0.745059</td>\n",
              "      <td>0.070779</td>\n",
              "      <td>-0.070779</td>\n",
              "    </tr>\n",
              "    <tr>\n",
              "      <th>bore</th>\n",
              "      <td>-0.140019</td>\n",
              "      <td>-0.029862</td>\n",
              "      <td>0.493244</td>\n",
              "      <td>0.608971</td>\n",
              "      <td>0.544885</td>\n",
              "      <td>0.180449</td>\n",
              "      <td>0.644060</td>\n",
              "      <td>0.572609</td>\n",
              "      <td>1.000000</td>\n",
              "      <td>-0.055390</td>\n",
              "      <td>0.001263</td>\n",
              "      <td>0.566936</td>\n",
              "      <td>-0.267392</td>\n",
              "      <td>-0.582027</td>\n",
              "      <td>-0.591309</td>\n",
              "      <td>0.543155</td>\n",
              "      <td>0.554610</td>\n",
              "      <td>0.054458</td>\n",
              "      <td>-0.054458</td>\n",
              "    </tr>\n",
              "    <tr>\n",
              "      <th>stroke</th>\n",
              "      <td>-0.008245</td>\n",
              "      <td>0.055563</td>\n",
              "      <td>0.158502</td>\n",
              "      <td>0.124139</td>\n",
              "      <td>0.188829</td>\n",
              "      <td>-0.062704</td>\n",
              "      <td>0.167562</td>\n",
              "      <td>0.209523</td>\n",
              "      <td>-0.055390</td>\n",
              "      <td>1.000000</td>\n",
              "      <td>0.187923</td>\n",
              "      <td>0.098462</td>\n",
              "      <td>-0.065713</td>\n",
              "      <td>-0.034696</td>\n",
              "      <td>-0.035201</td>\n",
              "      <td>0.082310</td>\n",
              "      <td>0.037300</td>\n",
              "      <td>0.241303</td>\n",
              "      <td>-0.241303</td>\n",
              "    </tr>\n",
              "    <tr>\n",
              "      <th>compression-ratio</th>\n",
              "      <td>-0.182196</td>\n",
              "      <td>-0.114713</td>\n",
              "      <td>0.250313</td>\n",
              "      <td>0.159733</td>\n",
              "      <td>0.189867</td>\n",
              "      <td>0.259737</td>\n",
              "      <td>0.156433</td>\n",
              "      <td>0.028889</td>\n",
              "      <td>0.001263</td>\n",
              "      <td>0.187923</td>\n",
              "      <td>1.000000</td>\n",
              "      <td>-0.214514</td>\n",
              "      <td>-0.435780</td>\n",
              "      <td>0.331425</td>\n",
              "      <td>0.268465</td>\n",
              "      <td>0.071107</td>\n",
              "      <td>-0.299372</td>\n",
              "      <td>0.985231</td>\n",
              "      <td>-0.985231</td>\n",
              "    </tr>\n",
              "    <tr>\n",
              "      <th>horsepower</th>\n",
              "      <td>0.075819</td>\n",
              "      <td>0.217299</td>\n",
              "      <td>0.371147</td>\n",
              "      <td>0.579821</td>\n",
              "      <td>0.615077</td>\n",
              "      <td>-0.087027</td>\n",
              "      <td>0.757976</td>\n",
              "      <td>0.822676</td>\n",
              "      <td>0.566936</td>\n",
              "      <td>0.098462</td>\n",
              "      <td>-0.214514</td>\n",
              "      <td>1.000000</td>\n",
              "      <td>0.107885</td>\n",
              "      <td>-0.822214</td>\n",
              "      <td>-0.804575</td>\n",
              "      <td>0.809575</td>\n",
              "      <td>0.889488</td>\n",
              "      <td>-0.169053</td>\n",
              "      <td>0.169053</td>\n",
              "    </tr>\n",
              "    <tr>\n",
              "      <th>peak-rpm</th>\n",
              "      <td>0.279740</td>\n",
              "      <td>0.239543</td>\n",
              "      <td>-0.360305</td>\n",
              "      <td>-0.285970</td>\n",
              "      <td>-0.245800</td>\n",
              "      <td>-0.309974</td>\n",
              "      <td>-0.279361</td>\n",
              "      <td>-0.256733</td>\n",
              "      <td>-0.267392</td>\n",
              "      <td>-0.065713</td>\n",
              "      <td>-0.435780</td>\n",
              "      <td>0.107885</td>\n",
              "      <td>1.000000</td>\n",
              "      <td>-0.115413</td>\n",
              "      <td>-0.058598</td>\n",
              "      <td>-0.101616</td>\n",
              "      <td>0.115830</td>\n",
              "      <td>-0.475812</td>\n",
              "      <td>0.475812</td>\n",
              "    </tr>\n",
              "    <tr>\n",
              "      <th>city-mpg</th>\n",
              "      <td>-0.035527</td>\n",
              "      <td>-0.225016</td>\n",
              "      <td>-0.470606</td>\n",
              "      <td>-0.665192</td>\n",
              "      <td>-0.633531</td>\n",
              "      <td>-0.049800</td>\n",
              "      <td>-0.749543</td>\n",
              "      <td>-0.650546</td>\n",
              "      <td>-0.582027</td>\n",
              "      <td>-0.034696</td>\n",
              "      <td>0.331425</td>\n",
              "      <td>-0.822214</td>\n",
              "      <td>-0.115413</td>\n",
              "      <td>1.000000</td>\n",
              "      <td>0.972044</td>\n",
              "      <td>-0.686571</td>\n",
              "      <td>-0.949713</td>\n",
              "      <td>0.265676</td>\n",
              "      <td>-0.265676</td>\n",
              "    </tr>\n",
              "    <tr>\n",
              "      <th>highway-mpg</th>\n",
              "      <td>0.036233</td>\n",
              "      <td>-0.181877</td>\n",
              "      <td>-0.543304</td>\n",
              "      <td>-0.698142</td>\n",
              "      <td>-0.680635</td>\n",
              "      <td>-0.104812</td>\n",
              "      <td>-0.794889</td>\n",
              "      <td>-0.679571</td>\n",
              "      <td>-0.591309</td>\n",
              "      <td>-0.035201</td>\n",
              "      <td>0.268465</td>\n",
              "      <td>-0.804575</td>\n",
              "      <td>-0.058598</td>\n",
              "      <td>0.972044</td>\n",
              "      <td>1.000000</td>\n",
              "      <td>-0.704692</td>\n",
              "      <td>-0.930028</td>\n",
              "      <td>0.198690</td>\n",
              "      <td>-0.198690</td>\n",
              "    </tr>\n",
              "    <tr>\n",
              "      <th>price</th>\n",
              "      <td>-0.082391</td>\n",
              "      <td>0.133999</td>\n",
              "      <td>0.584642</td>\n",
              "      <td>0.690628</td>\n",
              "      <td>0.751265</td>\n",
              "      <td>0.135486</td>\n",
              "      <td>0.834415</td>\n",
              "      <td>0.872335</td>\n",
              "      <td>0.543155</td>\n",
              "      <td>0.082310</td>\n",
              "      <td>0.071107</td>\n",
              "      <td>0.809575</td>\n",
              "      <td>-0.101616</td>\n",
              "      <td>-0.686571</td>\n",
              "      <td>-0.704692</td>\n",
              "      <td>1.000000</td>\n",
              "      <td>0.789898</td>\n",
              "      <td>0.110326</td>\n",
              "      <td>-0.110326</td>\n",
              "    </tr>\n",
              "    <tr>\n",
              "      <th>city-L/100km</th>\n",
              "      <td>0.066171</td>\n",
              "      <td>0.238567</td>\n",
              "      <td>0.476153</td>\n",
              "      <td>0.657373</td>\n",
              "      <td>0.673363</td>\n",
              "      <td>0.003811</td>\n",
              "      <td>0.785353</td>\n",
              "      <td>0.745059</td>\n",
              "      <td>0.554610</td>\n",
              "      <td>0.037300</td>\n",
              "      <td>-0.299372</td>\n",
              "      <td>0.889488</td>\n",
              "      <td>0.115830</td>\n",
              "      <td>-0.949713</td>\n",
              "      <td>-0.930028</td>\n",
              "      <td>0.789898</td>\n",
              "      <td>1.000000</td>\n",
              "      <td>-0.241282</td>\n",
              "      <td>0.241282</td>\n",
              "    </tr>\n",
              "    <tr>\n",
              "      <th>diesel</th>\n",
              "      <td>-0.196735</td>\n",
              "      <td>-0.101546</td>\n",
              "      <td>0.307237</td>\n",
              "      <td>0.211187</td>\n",
              "      <td>0.244356</td>\n",
              "      <td>0.281578</td>\n",
              "      <td>0.221046</td>\n",
              "      <td>0.070779</td>\n",
              "      <td>0.054458</td>\n",
              "      <td>0.241303</td>\n",
              "      <td>0.985231</td>\n",
              "      <td>-0.169053</td>\n",
              "      <td>-0.475812</td>\n",
              "      <td>0.265676</td>\n",
              "      <td>0.198690</td>\n",
              "      <td>0.110326</td>\n",
              "      <td>-0.241282</td>\n",
              "      <td>1.000000</td>\n",
              "      <td>-1.000000</td>\n",
              "    </tr>\n",
              "    <tr>\n",
              "      <th>gas</th>\n",
              "      <td>0.196735</td>\n",
              "      <td>0.101546</td>\n",
              "      <td>-0.307237</td>\n",
              "      <td>-0.211187</td>\n",
              "      <td>-0.244356</td>\n",
              "      <td>-0.281578</td>\n",
              "      <td>-0.221046</td>\n",
              "      <td>-0.070779</td>\n",
              "      <td>-0.054458</td>\n",
              "      <td>-0.241303</td>\n",
              "      <td>-0.985231</td>\n",
              "      <td>0.169053</td>\n",
              "      <td>0.475812</td>\n",
              "      <td>-0.265676</td>\n",
              "      <td>-0.198690</td>\n",
              "      <td>-0.110326</td>\n",
              "      <td>0.241282</td>\n",
              "      <td>-1.000000</td>\n",
              "      <td>1.000000</td>\n",
              "    </tr>\n",
              "  </tbody>\n",
              "</table>\n",
              "</div>\n",
              "      <button class=\"colab-df-convert\" onclick=\"convertToInteractive('df-6306db47-0260-4ff2-95ac-a42cddb3e1a8')\"\n",
              "              title=\"Convert this dataframe to an interactive table.\"\n",
              "              style=\"display:none;\">\n",
              "        \n",
              "  <svg xmlns=\"http://www.w3.org/2000/svg\" height=\"24px\"viewBox=\"0 0 24 24\"\n",
              "       width=\"24px\">\n",
              "    <path d=\"M0 0h24v24H0V0z\" fill=\"none\"/>\n",
              "    <path d=\"M18.56 5.44l.94 2.06.94-2.06 2.06-.94-2.06-.94-.94-2.06-.94 2.06-2.06.94zm-11 1L8.5 8.5l.94-2.06 2.06-.94-2.06-.94L8.5 2.5l-.94 2.06-2.06.94zm10 10l.94 2.06.94-2.06 2.06-.94-2.06-.94-.94-2.06-.94 2.06-2.06.94z\"/><path d=\"M17.41 7.96l-1.37-1.37c-.4-.4-.92-.59-1.43-.59-.52 0-1.04.2-1.43.59L10.3 9.45l-7.72 7.72c-.78.78-.78 2.05 0 2.83L4 21.41c.39.39.9.59 1.41.59.51 0 1.02-.2 1.41-.59l7.78-7.78 2.81-2.81c.8-.78.8-2.07 0-2.86zM5.41 20L4 18.59l7.72-7.72 1.47 1.35L5.41 20z\"/>\n",
              "  </svg>\n",
              "      </button>\n",
              "      \n",
              "  <style>\n",
              "    .colab-df-container {\n",
              "      display:flex;\n",
              "      flex-wrap:wrap;\n",
              "      gap: 12px;\n",
              "    }\n",
              "\n",
              "    .colab-df-convert {\n",
              "      background-color: #E8F0FE;\n",
              "      border: none;\n",
              "      border-radius: 50%;\n",
              "      cursor: pointer;\n",
              "      display: none;\n",
              "      fill: #1967D2;\n",
              "      height: 32px;\n",
              "      padding: 0 0 0 0;\n",
              "      width: 32px;\n",
              "    }\n",
              "\n",
              "    .colab-df-convert:hover {\n",
              "      background-color: #E2EBFA;\n",
              "      box-shadow: 0px 1px 2px rgba(60, 64, 67, 0.3), 0px 1px 3px 1px rgba(60, 64, 67, 0.15);\n",
              "      fill: #174EA6;\n",
              "    }\n",
              "\n",
              "    [theme=dark] .colab-df-convert {\n",
              "      background-color: #3B4455;\n",
              "      fill: #D2E3FC;\n",
              "    }\n",
              "\n",
              "    [theme=dark] .colab-df-convert:hover {\n",
              "      background-color: #434B5C;\n",
              "      box-shadow: 0px 1px 3px 1px rgba(0, 0, 0, 0.15);\n",
              "      filter: drop-shadow(0px 1px 2px rgba(0, 0, 0, 0.3));\n",
              "      fill: #FFFFFF;\n",
              "    }\n",
              "  </style>\n",
              "\n",
              "      <script>\n",
              "        const buttonEl =\n",
              "          document.querySelector('#df-6306db47-0260-4ff2-95ac-a42cddb3e1a8 button.colab-df-convert');\n",
              "        buttonEl.style.display =\n",
              "          google.colab.kernel.accessAllowed ? 'block' : 'none';\n",
              "\n",
              "        async function convertToInteractive(key) {\n",
              "          const element = document.querySelector('#df-6306db47-0260-4ff2-95ac-a42cddb3e1a8');\n",
              "          const dataTable =\n",
              "            await google.colab.kernel.invokeFunction('convertToInteractive',\n",
              "                                                     [key], {});\n",
              "          if (!dataTable) return;\n",
              "\n",
              "          const docLinkHtml = 'Like what you see? Visit the ' +\n",
              "            '<a target=\"_blank\" href=https://colab.research.google.com/notebooks/data_table.ipynb>data table notebook</a>'\n",
              "            + ' to learn more about interactive tables.';\n",
              "          element.innerHTML = '';\n",
              "          dataTable['output_type'] = 'display_data';\n",
              "          await google.colab.output.renderOutput(dataTable, element);\n",
              "          const docLink = document.createElement('div');\n",
              "          docLink.innerHTML = docLinkHtml;\n",
              "          element.appendChild(docLink);\n",
              "        }\n",
              "      </script>\n",
              "    </div>\n",
              "  </div>\n",
              "  "
            ]
          },
          "metadata": {},
          "execution_count": 43
        }
      ]
    },
    {
      "cell_type": "markdown",
      "source": [
        "Correlacion de las columnas seleccionadas en el dataframe"
      ],
      "metadata": {
        "id": "QcGSsEVmvan5"
      }
    },
    {
      "cell_type": "code",
      "source": [
        "df[['bore', 'stroke', 'compression-ratio', 'horsepower']].corr()"
      ],
      "metadata": {
        "colab": {
          "base_uri": "https://localhost:8080/",
          "height": 175
        },
        "id": "FunrIJ07svjD",
        "outputId": "74805fe2-060b-49cf-8a44-1d2c5bd0fad8"
      },
      "execution_count": 66,
      "outputs": [
        {
          "output_type": "execute_result",
          "data": {
            "text/plain": [
              "                       bore    stroke  compression-ratio  horsepower\n",
              "bore               1.000000 -0.055390           0.001263    0.566936\n",
              "stroke            -0.055390  1.000000           0.187923    0.098462\n",
              "compression-ratio  0.001263  0.187923           1.000000   -0.214514\n",
              "horsepower         0.566936  0.098462          -0.214514    1.000000"
            ],
            "text/html": [
              "\n",
              "  <div id=\"df-0dbaea01-7f34-425c-a4b8-21fd5f64d2bd\">\n",
              "    <div class=\"colab-df-container\">\n",
              "      <div>\n",
              "<style scoped>\n",
              "    .dataframe tbody tr th:only-of-type {\n",
              "        vertical-align: middle;\n",
              "    }\n",
              "\n",
              "    .dataframe tbody tr th {\n",
              "        vertical-align: top;\n",
              "    }\n",
              "\n",
              "    .dataframe thead th {\n",
              "        text-align: right;\n",
              "    }\n",
              "</style>\n",
              "<table border=\"1\" class=\"dataframe\">\n",
              "  <thead>\n",
              "    <tr style=\"text-align: right;\">\n",
              "      <th></th>\n",
              "      <th>bore</th>\n",
              "      <th>stroke</th>\n",
              "      <th>compression-ratio</th>\n",
              "      <th>horsepower</th>\n",
              "    </tr>\n",
              "  </thead>\n",
              "  <tbody>\n",
              "    <tr>\n",
              "      <th>bore</th>\n",
              "      <td>1.000000</td>\n",
              "      <td>-0.055390</td>\n",
              "      <td>0.001263</td>\n",
              "      <td>0.566936</td>\n",
              "    </tr>\n",
              "    <tr>\n",
              "      <th>stroke</th>\n",
              "      <td>-0.055390</td>\n",
              "      <td>1.000000</td>\n",
              "      <td>0.187923</td>\n",
              "      <td>0.098462</td>\n",
              "    </tr>\n",
              "    <tr>\n",
              "      <th>compression-ratio</th>\n",
              "      <td>0.001263</td>\n",
              "      <td>0.187923</td>\n",
              "      <td>1.000000</td>\n",
              "      <td>-0.214514</td>\n",
              "    </tr>\n",
              "    <tr>\n",
              "      <th>horsepower</th>\n",
              "      <td>0.566936</td>\n",
              "      <td>0.098462</td>\n",
              "      <td>-0.214514</td>\n",
              "      <td>1.000000</td>\n",
              "    </tr>\n",
              "  </tbody>\n",
              "</table>\n",
              "</div>\n",
              "      <button class=\"colab-df-convert\" onclick=\"convertToInteractive('df-0dbaea01-7f34-425c-a4b8-21fd5f64d2bd')\"\n",
              "              title=\"Convert this dataframe to an interactive table.\"\n",
              "              style=\"display:none;\">\n",
              "        \n",
              "  <svg xmlns=\"http://www.w3.org/2000/svg\" height=\"24px\"viewBox=\"0 0 24 24\"\n",
              "       width=\"24px\">\n",
              "    <path d=\"M0 0h24v24H0V0z\" fill=\"none\"/>\n",
              "    <path d=\"M18.56 5.44l.94 2.06.94-2.06 2.06-.94-2.06-.94-.94-2.06-.94 2.06-2.06.94zm-11 1L8.5 8.5l.94-2.06 2.06-.94-2.06-.94L8.5 2.5l-.94 2.06-2.06.94zm10 10l.94 2.06.94-2.06 2.06-.94-2.06-.94-.94-2.06-.94 2.06-2.06.94z\"/><path d=\"M17.41 7.96l-1.37-1.37c-.4-.4-.92-.59-1.43-.59-.52 0-1.04.2-1.43.59L10.3 9.45l-7.72 7.72c-.78.78-.78 2.05 0 2.83L4 21.41c.39.39.9.59 1.41.59.51 0 1.02-.2 1.41-.59l7.78-7.78 2.81-2.81c.8-.78.8-2.07 0-2.86zM5.41 20L4 18.59l7.72-7.72 1.47 1.35L5.41 20z\"/>\n",
              "  </svg>\n",
              "      </button>\n",
              "      \n",
              "  <style>\n",
              "    .colab-df-container {\n",
              "      display:flex;\n",
              "      flex-wrap:wrap;\n",
              "      gap: 12px;\n",
              "    }\n",
              "\n",
              "    .colab-df-convert {\n",
              "      background-color: #E8F0FE;\n",
              "      border: none;\n",
              "      border-radius: 50%;\n",
              "      cursor: pointer;\n",
              "      display: none;\n",
              "      fill: #1967D2;\n",
              "      height: 32px;\n",
              "      padding: 0 0 0 0;\n",
              "      width: 32px;\n",
              "    }\n",
              "\n",
              "    .colab-df-convert:hover {\n",
              "      background-color: #E2EBFA;\n",
              "      box-shadow: 0px 1px 2px rgba(60, 64, 67, 0.3), 0px 1px 3px 1px rgba(60, 64, 67, 0.15);\n",
              "      fill: #174EA6;\n",
              "    }\n",
              "\n",
              "    [theme=dark] .colab-df-convert {\n",
              "      background-color: #3B4455;\n",
              "      fill: #D2E3FC;\n",
              "    }\n",
              "\n",
              "    [theme=dark] .colab-df-convert:hover {\n",
              "      background-color: #434B5C;\n",
              "      box-shadow: 0px 1px 3px 1px rgba(0, 0, 0, 0.15);\n",
              "      filter: drop-shadow(0px 1px 2px rgba(0, 0, 0, 0.3));\n",
              "      fill: #FFFFFF;\n",
              "    }\n",
              "  </style>\n",
              "\n",
              "      <script>\n",
              "        const buttonEl =\n",
              "          document.querySelector('#df-0dbaea01-7f34-425c-a4b8-21fd5f64d2bd button.colab-df-convert');\n",
              "        buttonEl.style.display =\n",
              "          google.colab.kernel.accessAllowed ? 'block' : 'none';\n",
              "\n",
              "        async function convertToInteractive(key) {\n",
              "          const element = document.querySelector('#df-0dbaea01-7f34-425c-a4b8-21fd5f64d2bd');\n",
              "          const dataTable =\n",
              "            await google.colab.kernel.invokeFunction('convertToInteractive',\n",
              "                                                     [key], {});\n",
              "          if (!dataTable) return;\n",
              "\n",
              "          const docLinkHtml = 'Like what you see? Visit the ' +\n",
              "            '<a target=\"_blank\" href=https://colab.research.google.com/notebooks/data_table.ipynb>data table notebook</a>'\n",
              "            + ' to learn more about interactive tables.';\n",
              "          element.innerHTML = '';\n",
              "          dataTable['output_type'] = 'display_data';\n",
              "          await google.colab.output.renderOutput(dataTable, element);\n",
              "          const docLink = document.createElement('div');\n",
              "          docLink.innerHTML = docLinkHtml;\n",
              "          element.appendChild(docLink);\n",
              "        }\n",
              "      </script>\n",
              "    </div>\n",
              "  </div>\n",
              "  "
            ]
          },
          "metadata": {},
          "execution_count": 66
        }
      ]
    },
    {
      "cell_type": "markdown",
      "source": [
        "#####Positive Linear Relationship"
      ],
      "metadata": {
        "id": "Klud0raas0_A"
      }
    },
    {
      "cell_type": "markdown",
      "source": [
        "Generación de gráfica  comparando precio tamaño del motor."
      ],
      "metadata": {
        "id": "89Ax5B2nwLQU"
      }
    },
    {
      "cell_type": "code",
      "source": [
        "sns.regplot(x=\"engine-size\", y=\"price\", data=df)\n",
        "plt.ylim(0,)"
      ],
      "metadata": {
        "colab": {
          "base_uri": "https://localhost:8080/",
          "height": 296
        },
        "id": "F9G9mtFTs0O-",
        "outputId": "376483b2-1332-4957-c528-ef6f6461a51e"
      },
      "execution_count": 67,
      "outputs": [
        {
          "output_type": "execute_result",
          "data": {
            "text/plain": [
              "(0.0, 53131.86809445105)"
            ]
          },
          "metadata": {},
          "execution_count": 67
        },
        {
          "output_type": "display_data",
          "data": {
            "text/plain": [
              "<Figure size 432x288 with 1 Axes>"
            ],
            "image/png": "[encoded data removed]"
          },
          "metadata": {
            "needs_background": "light"
          }
        }
      ]
    },
    {
      "cell_type": "markdown",
      "source": [
        "Generación de correlacion de las columas seleccionadas."
      ],
      "metadata": {
        "id": "dqsjJ0bDvswJ"
      }
    },
    {
      "cell_type": "code",
      "source": [
        "df[[\"engine-size\", \"price\"]].corr()"
      ],
      "metadata": {
        "colab": {
          "base_uri": "https://localhost:8080/",
          "height": 112
        },
        "id": "HSqi3N4js9hD",
        "outputId": "91f32207-dd94-4e29-d743-1ef68689010a"
      },
      "execution_count": 68,
      "outputs": [
        {
          "output_type": "execute_result",
          "data": {
            "text/plain": [
              "             engine-size     price\n",
              "engine-size     1.000000  0.872335\n",
              "price           0.872335  1.000000"
            ],
            "text/html": [
              "\n",
              "  <div id=\"df-5d5836c9-8d0e-40f7-939d-95cbfb51bb32\">\n",
              "    <div class=\"colab-df-container\">\n",
              "      <div>\n",
              "<style scoped>\n",
              "    .dataframe tbody tr th:only-of-type {\n",
              "        vertical-align: middle;\n",
              "    }\n",
              "\n",
              "    .dataframe tbody tr th {\n",
              "        vertical-align: top;\n",
              "    }\n",
              "\n",
              "    .dataframe thead th {\n",
              "        text-align: right;\n",
              "    }\n",
              "</style>\n",
              "<table border=\"1\" class=\"dataframe\">\n",
              "  <thead>\n",
              "    <tr style=\"text-align: right;\">\n",
              "      <th></th>\n",
              "      <th>engine-size</th>\n",
              "      <th>price</th>\n",
              "    </tr>\n",
              "  </thead>\n",
              "  <tbody>\n",
              "    <tr>\n",
              "      <th>engine-size</th>\n",
              "      <td>1.000000</td>\n",
              "      <td>0.872335</td>\n",
              "    </tr>\n",
              "    <tr>\n",
              "      <th>price</th>\n",
              "      <td>0.872335</td>\n",
              "      <td>1.000000</td>\n",
              "    </tr>\n",
              "  </tbody>\n",
              "</table>\n",
              "</div>\n",
              "      <button class=\"colab-df-convert\" onclick=\"convertToInteractive('df-5d5836c9-8d0e-40f7-939d-95cbfb51bb32')\"\n",
              "              title=\"Convert this dataframe to an interactive table.\"\n",
              "              style=\"display:none;\">\n",
              "        \n",
              "  <svg xmlns=\"http://www.w3.org/2000/svg\" height=\"24px\"viewBox=\"0 0 24 24\"\n",
              "       width=\"24px\">\n",
              "    <path d=\"M0 0h24v24H0V0z\" fill=\"none\"/>\n",
              "    <path d=\"M18.56 5.44l.94 2.06.94-2.06 2.06-.94-2.06-.94-.94-2.06-.94 2.06-2.06.94zm-11 1L8.5 8.5l.94-2.06 2.06-.94-2.06-.94L8.5 2.5l-.94 2.06-2.06.94zm10 10l.94 2.06.94-2.06 2.06-.94-2.06-.94-.94-2.06-.94 2.06-2.06.94z\"/><path d=\"M17.41 7.96l-1.37-1.37c-.4-.4-.92-.59-1.43-.59-.52 0-1.04.2-1.43.59L10.3 9.45l-7.72 7.72c-.78.78-.78 2.05 0 2.83L4 21.41c.39.39.9.59 1.41.59.51 0 1.02-.2 1.41-.59l7.78-7.78 2.81-2.81c.8-.78.8-2.07 0-2.86zM5.41 20L4 18.59l7.72-7.72 1.47 1.35L5.41 20z\"/>\n",
              "  </svg>\n",
              "      </button>\n",
              "      \n",
              "  <style>\n",
              "    .colab-df-container {\n",
              "      display:flex;\n",
              "      flex-wrap:wrap;\n",
              "      gap: 12px;\n",
              "    }\n",
              "\n",
              "    .colab-df-convert {\n",
              "      background-color: #E8F0FE;\n",
              "      border: none;\n",
              "      border-radius: 50%;\n",
              "      cursor: pointer;\n",
              "      display: none;\n",
              "      fill: #1967D2;\n",
              "      height: 32px;\n",
              "      padding: 0 0 0 0;\n",
              "      width: 32px;\n",
              "    }\n",
              "\n",
              "    .colab-df-convert:hover {\n",
              "      background-color: #E2EBFA;\n",
              "      box-shadow: 0px 1px 2px rgba(60, 64, 67, 0.3), 0px 1px 3px 1px rgba(60, 64, 67, 0.15);\n",
              "      fill: #174EA6;\n",
              "    }\n",
              "\n",
              "    [theme=dark] .colab-df-convert {\n",
              "      background-color: #3B4455;\n",
              "      fill: #D2E3FC;\n",
              "    }\n",
              "\n",
              "    [theme=dark] .colab-df-convert:hover {\n",
              "      background-color: #434B5C;\n",
              "      box-shadow: 0px 1px 3px 1px rgba(0, 0, 0, 0.15);\n",
              "      filter: drop-shadow(0px 1px 2px rgba(0, 0, 0, 0.3));\n",
              "      fill: #FFFFFF;\n",
              "    }\n",
              "  </style>\n",
              "\n",
              "      <script>\n",
              "        const buttonEl =\n",
              "          document.querySelector('#df-5d5836c9-8d0e-40f7-939d-95cbfb51bb32 button.colab-df-convert');\n",
              "        buttonEl.style.display =\n",
              "          google.colab.kernel.accessAllowed ? 'block' : 'none';\n",
              "\n",
              "        async function convertToInteractive(key) {\n",
              "          const element = document.querySelector('#df-5d5836c9-8d0e-40f7-939d-95cbfb51bb32');\n",
              "          const dataTable =\n",
              "            await google.colab.kernel.invokeFunction('convertToInteractive',\n",
              "                                                     [key], {});\n",
              "          if (!dataTable) return;\n",
              "\n",
              "          const docLinkHtml = 'Like what you see? Visit the ' +\n",
              "            '<a target=\"_blank\" href=https://colab.research.google.com/notebooks/data_table.ipynb>data table notebook</a>'\n",
              "            + ' to learn more about interactive tables.';\n",
              "          element.innerHTML = '';\n",
              "          dataTable['output_type'] = 'display_data';\n",
              "          await google.colab.output.renderOutput(dataTable, element);\n",
              "          const docLink = document.createElement('div');\n",
              "          docLink.innerHTML = docLinkHtml;\n",
              "          element.appendChild(docLink);\n",
              "        }\n",
              "      </script>\n",
              "    </div>\n",
              "  </div>\n",
              "  "
            ]
          },
          "metadata": {},
          "execution_count": 68
        }
      ]
    },
    {
      "cell_type": "code",
      "source": [
        "sns.regplot(x=\"highway-mpg\", y=\"price\", data=df)"
      ],
      "metadata": {
        "colab": {
          "base_uri": "https://localhost:8080/",
          "height": 296
        },
        "id": "2T6gIxpOs-fu",
        "outputId": "473e6f89-ca4b-4797-8770-570f24e886fe"
      },
      "execution_count": 44,
      "outputs": [
        {
          "output_type": "execute_result",
          "data": {
            "text/plain": [
              "<matplotlib.axes._subplots.AxesSubplot at 0x7f48bfd6af50>"
            ]
          },
          "metadata": {},
          "execution_count": 44
        },
        {
          "output_type": "display_data",
          "data": {
            "text/plain": [
              "<Figure size 432x288 with 1 Axes>"
            ],
            "image/png": "[encoded data removed]"
          },
          "metadata": {
            "needs_background": "light"
          }
        }
      ]
    },
    {
      "cell_type": "markdown",
      "source": [
        "Generación de gráfica comparando precio consumo."
      ],
      "metadata": {
        "id": "q9gA3sEnw0-P"
      }
    },
    {
      "cell_type": "code",
      "source": [
        "df[['highway-mpg', 'price']].corr()"
      ],
      "metadata": {
        "id": "KsHioo71s_mC"
      },
      "execution_count": null,
      "outputs": []
    },
    {
      "cell_type": "code",
      "source": [
        "sns.regplot(x=\"peak-rpm\", y=\"price\", data=df)"
      ],
      "metadata": {
        "colab": {
          "base_uri": "https://localhost:8080/",
          "height": 296
        },
        "id": "5DIEVGLxtA1p",
        "outputId": "959407b4-d616-4f4d-e4ef-6e93cf76b5d7"
      },
      "execution_count": 45,
      "outputs": [
        {
          "output_type": "execute_result",
          "data": {
            "text/plain": [
              "<matplotlib.axes._subplots.AxesSubplot at 0x7f48bfc2c8d0>"
            ]
          },
          "metadata": {},
          "execution_count": 45
        },
        {
          "output_type": "display_data",
          "data": {
            "text/plain": [
              "<Figure size 432x288 with 1 Axes>"
            ],
            "image/png": "[encoded data removed]"
          },
          "metadata": {
            "needs_background": "light"
          }
        }
      ]
    },
    {
      "cell_type": "code",
      "source": [
        "df[['peak-rpm','price']].corr()"
      ],
      "metadata": {
        "colab": {
          "base_uri": "https://localhost:8080/",
          "height": 112
        },
        "id": "ogRfYgcAtCIT",
        "outputId": "25833ec3-98ca-4052-9e5f-9f0082999253"
      },
      "execution_count": 46,
      "outputs": [
        {
          "output_type": "execute_result",
          "data": {
            "text/plain": [
              "          peak-rpm     price\n",
              "peak-rpm  1.000000 -0.101616\n",
              "price    -0.101616  1.000000"
            ],
            "text/html": [
              "\n",
              "  <div id=\"df-3082eadd-2f48-49a5-aabe-d7206721d0c7\">\n",
              "    <div class=\"colab-df-container\">\n",
              "      <div>\n",
              "<style scoped>\n",
              "    .dataframe tbody tr th:only-of-type {\n",
              "        vertical-align: middle;\n",
              "    }\n",
              "\n",
              "    .dataframe tbody tr th {\n",
              "        vertical-align: top;\n",
              "    }\n",
              "\n",
              "    .dataframe thead th {\n",
              "        text-align: right;\n",
              "    }\n",
              "</style>\n",
              "<table border=\"1\" class=\"dataframe\">\n",
              "  <thead>\n",
              "    <tr style=\"text-align: right;\">\n",
              "      <th></th>\n",
              "      <th>peak-rpm</th>\n",
              "      <th>price</th>\n",
              "    </tr>\n",
              "  </thead>\n",
              "  <tbody>\n",
              "    <tr>\n",
              "      <th>peak-rpm</th>\n",
              "      <td>1.000000</td>\n",
              "      <td>-0.101616</td>\n",
              "    </tr>\n",
              "    <tr>\n",
              "      <th>price</th>\n",
              "      <td>-0.101616</td>\n",
              "      <td>1.000000</td>\n",
              "    </tr>\n",
              "  </tbody>\n",
              "</table>\n",
              "</div>\n",
              "      <button class=\"colab-df-convert\" onclick=\"convertToInteractive('df-3082eadd-2f48-49a5-aabe-d7206721d0c7')\"\n",
              "              title=\"Convert this dataframe to an interactive table.\"\n",
              "              style=\"display:none;\">\n",
              "        \n",
              "  <svg xmlns=\"http://www.w3.org/2000/svg\" height=\"24px\"viewBox=\"0 0 24 24\"\n",
              "       width=\"24px\">\n",
              "    <path d=\"M0 0h24v24H0V0z\" fill=\"none\"/>\n",
              "    <path d=\"M18.56 5.44l.94 2.06.94-2.06 2.06-.94-2.06-.94-.94-2.06-.94 2.06-2.06.94zm-11 1L8.5 8.5l.94-2.06 2.06-.94-2.06-.94L8.5 2.5l-.94 2.06-2.06.94zm10 10l.94 2.06.94-2.06 2.06-.94-2.06-.94-.94-2.06-.94 2.06-2.06.94z\"/><path d=\"M17.41 7.96l-1.37-1.37c-.4-.4-.92-.59-1.43-.59-.52 0-1.04.2-1.43.59L10.3 9.45l-7.72 7.72c-.78.78-.78 2.05 0 2.83L4 21.41c.39.39.9.59 1.41.59.51 0 1.02-.2 1.41-.59l7.78-7.78 2.81-2.81c.8-.78.8-2.07 0-2.86zM5.41 20L4 18.59l7.72-7.72 1.47 1.35L5.41 20z\"/>\n",
              "  </svg>\n",
              "      </button>\n",
              "      \n",
              "  <style>\n",
              "    .colab-df-container {\n",
              "      display:flex;\n",
              "      flex-wrap:wrap;\n",
              "      gap: 12px;\n",
              "    }\n",
              "\n",
              "    .colab-df-convert {\n",
              "      background-color: #E8F0FE;\n",
              "      border: none;\n",
              "      border-radius: 50%;\n",
              "      cursor: pointer;\n",
              "      display: none;\n",
              "      fill: #1967D2;\n",
              "      height: 32px;\n",
              "      padding: 0 0 0 0;\n",
              "      width: 32px;\n",
              "    }\n",
              "\n",
              "    .colab-df-convert:hover {\n",
              "      background-color: #E2EBFA;\n",
              "      box-shadow: 0px 1px 2px rgba(60, 64, 67, 0.3), 0px 1px 3px 1px rgba(60, 64, 67, 0.15);\n",
              "      fill: #174EA6;\n",
              "    }\n",
              "\n",
              "    [theme=dark] .colab-df-convert {\n",
              "      background-color: #3B4455;\n",
              "      fill: #D2E3FC;\n",
              "    }\n",
              "\n",
              "    [theme=dark] .colab-df-convert:hover {\n",
              "      background-color: #434B5C;\n",
              "      box-shadow: 0px 1px 3px 1px rgba(0, 0, 0, 0.15);\n",
              "      filter: drop-shadow(0px 1px 2px rgba(0, 0, 0, 0.3));\n",
              "      fill: #FFFFFF;\n",
              "    }\n",
              "  </style>\n",
              "\n",
              "      <script>\n",
              "        const buttonEl =\n",
              "          document.querySelector('#df-3082eadd-2f48-49a5-aabe-d7206721d0c7 button.colab-df-convert');\n",
              "        buttonEl.style.display =\n",
              "          google.colab.kernel.accessAllowed ? 'block' : 'none';\n",
              "\n",
              "        async function convertToInteractive(key) {\n",
              "          const element = document.querySelector('#df-3082eadd-2f48-49a5-aabe-d7206721d0c7');\n",
              "          const dataTable =\n",
              "            await google.colab.kernel.invokeFunction('convertToInteractive',\n",
              "                                                     [key], {});\n",
              "          if (!dataTable) return;\n",
              "\n",
              "          const docLinkHtml = 'Like what you see? Visit the ' +\n",
              "            '<a target=\"_blank\" href=https://colab.research.google.com/notebooks/data_table.ipynb>data table notebook</a>'\n",
              "            + ' to learn more about interactive tables.';\n",
              "          element.innerHTML = '';\n",
              "          dataTable['output_type'] = 'display_data';\n",
              "          await google.colab.output.renderOutput(dataTable, element);\n",
              "          const docLink = document.createElement('div');\n",
              "          docLink.innerHTML = docLinkHtml;\n",
              "          element.appendChild(docLink);\n",
              "        }\n",
              "      </script>\n",
              "    </div>\n",
              "  </div>\n",
              "  "
            ]
          },
          "metadata": {},
          "execution_count": 46
        }
      ]
    },
    {
      "cell_type": "markdown",
      "source": [
        "#####Categorical Variables"
      ],
      "metadata": {
        "id": "YMa_Jr5JtKqA"
      }
    },
    {
      "cell_type": "markdown",
      "source": [
        "Generacón del diagrama de Caja y bigotes "
      ],
      "metadata": {
        "id": "PX_pdJ14xX1Y"
      }
    },
    {
      "cell_type": "code",
      "source": [
        "sns.boxplot(x=\"body-style\", y=\"price\", data=df)"
      ],
      "metadata": {
        "colab": {
          "base_uri": "https://localhost:8080/",
          "height": 279
        },
        "id": "zmBLMBvytQTU",
        "outputId": "ff0c6f60-9dbf-40db-a1ec-11eb5ebd12f3"
      },
      "execution_count": 48,
      "outputs": [
        {
          "output_type": "display_data",
          "data": {
            "text/plain": [
              "<Figure size 432x288 with 1 Axes>"
            ],
            "image/png": "[encoded data removed]"
          },
          "metadata": {
            "needs_background": "light"
          }
        }
      ]
    },
    {
      "cell_type": "code",
      "source": [
        "sns.boxplot(x=\"engine-location\", y=\"price\", data=df)"
      ],
      "metadata": {
        "colab": {
          "base_uri": "https://localhost:8080/",
          "height": 296
        },
        "id": "teyfwRh2tRSM",
        "outputId": "947f193f-cab0-4346-8f00-8d53f96eaeb8"
      },
      "execution_count": 49,
      "outputs": [
        {
          "output_type": "execute_result",
          "data": {
            "text/plain": [
              "<matplotlib.axes._subplots.AxesSubplot at 0x7f48bf5f3650>"
            ]
          },
          "metadata": {},
          "execution_count": 49
        },
        {
          "output_type": "display_data",
          "data": {
            "text/plain": [
              "<Figure size 432x288 with 1 Axes>"
            ],
            "image/png": "[encoded data removed]"
          },
          "metadata": {
            "needs_background": "light"
          }
        }
      ]
    },
    {
      "cell_type": "code",
      "source": [
        "sns.boxplot(x=\"drive-wheels\", y=\"price\", data=df)"
      ],
      "metadata": {
        "colab": {
          "base_uri": "https://localhost:8080/",
          "height": 296
        },
        "id": "5fK9T3p_tSOU",
        "outputId": "4b8b21c2-2321-4e80-867e-908b65a28170"
      },
      "execution_count": 50,
      "outputs": [
        {
          "output_type": "execute_result",
          "data": {
            "text/plain": [
              "<matplotlib.axes._subplots.AxesSubplot at 0x7f48bf573fd0>"
            ]
          },
          "metadata": {},
          "execution_count": 50
        },
        {
          "output_type": "display_data",
          "data": {
            "text/plain": [
              "<Figure size 432x288 with 1 Axes>"
            ],
            "image/png": "[encoded data removed]"
          },
          "metadata": {
            "needs_background": "light"
          }
        }
      ]
    },
    {
      "cell_type": "markdown",
      "source": [
        "#####Descriptive Statistical Analysis"
      ],
      "metadata": {
        "id": "idxyHX6vtUJk"
      }
    },
    {
      "cell_type": "code",
      "source": [
        "df.describe()"
      ],
      "metadata": {
        "id": "h71Uq7aCtWF_"
      },
      "execution_count": null,
      "outputs": []
    },
    {
      "cell_type": "markdown",
      "source": [
        "Descripcion de los tipos de datos del dataframe."
      ],
      "metadata": {
        "id": "DfPBnX9Ox5AR"
      }
    },
    {
      "cell_type": "code",
      "source": [
        "df.describe(include=['object'])"
      ],
      "metadata": {
        "colab": {
          "base_uri": "https://localhost:8080/",
          "height": 273
        },
        "id": "Qf_ks9V1tXKu",
        "outputId": "c32279c8-a8bf-43bd-8e36-1d6d8fb32ebc"
      },
      "execution_count": 52,
      "outputs": [
        {
          "output_type": "execute_result",
          "data": {
            "text/plain": [
              "          make aspiration num-of-doors body-style drive-wheels  \\\n",
              "count      201        201          201        201          201   \n",
              "unique      22          2            2          5            3   \n",
              "top     toyota        std         four      sedan          fwd   \n",
              "freq        32        165          115         94          118   \n",
              "\n",
              "       engine-location engine-type num-of-cylinders fuel-system  \\\n",
              "count              201         201              201         201   \n",
              "unique               2           6                7           8   \n",
              "top              front         ohc             four        mpfi   \n",
              "freq               198         145              157          92   \n",
              "\n",
              "       horsepower-binned  \n",
              "count                200  \n",
              "unique                 3  \n",
              "top                  Low  \n",
              "freq                 115  "
            ],
            "text/html": [
              "\n",
              "  <div id=\"df-478975ae-8d86-4c1a-a249-9cf18a841da6\">\n",
              "    <div class=\"colab-df-container\">\n",
              "      <div>\n",
              "<style scoped>\n",
              "    .dataframe tbody tr th:only-of-type {\n",
              "        vertical-align: middle;\n",
              "    }\n",
              "\n",
              "    .dataframe tbody tr th {\n",
              "        vertical-align: top;\n",
              "    }\n",
              "\n",
              "    .dataframe thead th {\n",
              "        text-align: right;\n",
              "    }\n",
              "</style>\n",
              "<table border=\"1\" class=\"dataframe\">\n",
              "  <thead>\n",
              "    <tr style=\"text-align: right;\">\n",
              "      <th></th>\n",
              "      <th>make</th>\n",
              "      <th>aspiration</th>\n",
              "      <th>num-of-doors</th>\n",
              "      <th>body-style</th>\n",
              "      <th>drive-wheels</th>\n",
              "      <th>engine-location</th>\n",
              "      <th>engine-type</th>\n",
              "      <th>num-of-cylinders</th>\n",
              "      <th>fuel-system</th>\n",
              "      <th>horsepower-binned</th>\n",
              "    </tr>\n",
              "  </thead>\n",
              "  <tbody>\n",
              "    <tr>\n",
              "      <th>count</th>\n",
              "      <td>201</td>\n",
              "      <td>201</td>\n",
              "      <td>201</td>\n",
              "      <td>201</td>\n",
              "      <td>201</td>\n",
              "      <td>201</td>\n",
              "      <td>201</td>\n",
              "      <td>201</td>\n",
              "      <td>201</td>\n",
              "      <td>200</td>\n",
              "    </tr>\n",
              "    <tr>\n",
              "      <th>unique</th>\n",
              "      <td>22</td>\n",
              "      <td>2</td>\n",
              "      <td>2</td>\n",
              "      <td>5</td>\n",
              "      <td>3</td>\n",
              "      <td>2</td>\n",
              "      <td>6</td>\n",
              "      <td>7</td>\n",
              "      <td>8</td>\n",
              "      <td>3</td>\n",
              "    </tr>\n",
              "    <tr>\n",
              "      <th>top</th>\n",
              "      <td>toyota</td>\n",
              "      <td>std</td>\n",
              "      <td>four</td>\n",
              "      <td>sedan</td>\n",
              "      <td>fwd</td>\n",
              "      <td>front</td>\n",
              "      <td>ohc</td>\n",
              "      <td>four</td>\n",
              "      <td>mpfi</td>\n",
              "      <td>Low</td>\n",
              "    </tr>\n",
              "    <tr>\n",
              "      <th>freq</th>\n",
              "      <td>32</td>\n",
              "      <td>165</td>\n",
              "      <td>115</td>\n",
              "      <td>94</td>\n",
              "      <td>118</td>\n",
              "      <td>198</td>\n",
              "      <td>145</td>\n",
              "      <td>157</td>\n",
              "      <td>92</td>\n",
              "      <td>115</td>\n",
              "    </tr>\n",
              "  </tbody>\n",
              "</table>\n",
              "</div>\n",
              "      <button class=\"colab-df-convert\" onclick=\"convertToInteractive('df-478975ae-8d86-4c1a-a249-9cf18a841da6')\"\n",
              "              title=\"Convert this dataframe to an interactive table.\"\n",
              "              style=\"display:none;\">\n",
              "        \n",
              "  <svg xmlns=\"http://www.w3.org/2000/svg\" height=\"24px\"viewBox=\"0 0 24 24\"\n",
              "       width=\"24px\">\n",
              "    <path d=\"M0 0h24v24H0V0z\" fill=\"none\"/>\n",
              "    <path d=\"M18.56 5.44l.94 2.06.94-2.06 2.06-.94-2.06-.94-.94-2.06-.94 2.06-2.06.94zm-11 1L8.5 8.5l.94-2.06 2.06-.94-2.06-.94L8.5 2.5l-.94 2.06-2.06.94zm10 10l.94 2.06.94-2.06 2.06-.94-2.06-.94-.94-2.06-.94 2.06-2.06.94z\"/><path d=\"M17.41 7.96l-1.37-1.37c-.4-.4-.92-.59-1.43-.59-.52 0-1.04.2-1.43.59L10.3 9.45l-7.72 7.72c-.78.78-.78 2.05 0 2.83L4 21.41c.39.39.9.59 1.41.59.51 0 1.02-.2 1.41-.59l7.78-7.78 2.81-2.81c.8-.78.8-2.07 0-2.86zM5.41 20L4 18.59l7.72-7.72 1.47 1.35L5.41 20z\"/>\n",
              "  </svg>\n",
              "      </button>\n",
              "      \n",
              "  <style>\n",
              "    .colab-df-container {\n",
              "      display:flex;\n",
              "      flex-wrap:wrap;\n",
              "      gap: 12px;\n",
              "    }\n",
              "\n",
              "    .colab-df-convert {\n",
              "      background-color: #E8F0FE;\n",
              "      border: none;\n",
              "      border-radius: 50%;\n",
              "      cursor: pointer;\n",
              "      display: none;\n",
              "      fill: #1967D2;\n",
              "      height: 32px;\n",
              "      padding: 0 0 0 0;\n",
              "      width: 32px;\n",
              "    }\n",
              "\n",
              "    .colab-df-convert:hover {\n",
              "      background-color: #E2EBFA;\n",
              "      box-shadow: 0px 1px 2px rgba(60, 64, 67, 0.3), 0px 1px 3px 1px rgba(60, 64, 67, 0.15);\n",
              "      fill: #174EA6;\n",
              "    }\n",
              "\n",
              "    [theme=dark] .colab-df-convert {\n",
              "      background-color: #3B4455;\n",
              "      fill: #D2E3FC;\n",
              "    }\n",
              "\n",
              "    [theme=dark] .colab-df-convert:hover {\n",
              "      background-color: #434B5C;\n",
              "      box-shadow: 0px 1px 3px 1px rgba(0, 0, 0, 0.15);\n",
              "      filter: drop-shadow(0px 1px 2px rgba(0, 0, 0, 0.3));\n",
              "      fill: #FFFFFF;\n",
              "    }\n",
              "  </style>\n",
              "\n",
              "      <script>\n",
              "        const buttonEl =\n",
              "          document.querySelector('#df-478975ae-8d86-4c1a-a249-9cf18a841da6 button.colab-df-convert');\n",
              "        buttonEl.style.display =\n",
              "          google.colab.kernel.accessAllowed ? 'block' : 'none';\n",
              "\n",
              "        async function convertToInteractive(key) {\n",
              "          const element = document.querySelector('#df-478975ae-8d86-4c1a-a249-9cf18a841da6');\n",
              "          const dataTable =\n",
              "            await google.colab.kernel.invokeFunction('convertToInteractive',\n",
              "                                                     [key], {});\n",
              "          if (!dataTable) return;\n",
              "\n",
              "          const docLinkHtml = 'Like what you see? Visit the ' +\n",
              "            '<a target=\"_blank\" href=https://colab.research.google.com/notebooks/data_table.ipynb>data table notebook</a>'\n",
              "            + ' to learn more about interactive tables.';\n",
              "          element.innerHTML = '';\n",
              "          dataTable['output_type'] = 'display_data';\n",
              "          await google.colab.output.renderOutput(dataTable, element);\n",
              "          const docLink = document.createElement('div');\n",
              "          docLink.innerHTML = docLinkHtml;\n",
              "          element.appendChild(docLink);\n",
              "        }\n",
              "      </script>\n",
              "    </div>\n",
              "  </div>\n",
              "  "
            ]
          },
          "metadata": {},
          "execution_count": 52
        }
      ]
    },
    {
      "cell_type": "markdown",
      "source": [
        "Cantidad por grupo de una columna."
      ],
      "metadata": {
        "id": "DzC1lS8hx_Tk"
      }
    },
    {
      "cell_type": "code",
      "source": [
        "df['drive-wheels'].value_counts()"
      ],
      "metadata": {
        "colab": {
          "base_uri": "https://localhost:8080/"
        },
        "id": "F1ucZQl2tYJF",
        "outputId": "0b975753-c012-4ae5-bc6f-6aaa1f86dec2"
      },
      "execution_count": 53,
      "outputs": [
        {
          "output_type": "execute_result",
          "data": {
            "text/plain": [
              "fwd    118\n",
              "rwd     75\n",
              "4wd      8\n",
              "Name: drive-wheels, dtype: int64"
            ]
          },
          "metadata": {},
          "execution_count": 53
        }
      ]
    },
    {
      "cell_type": "markdown",
      "source": [
        "Conversion a adataframe."
      ],
      "metadata": {
        "id": "RrexkPNnyTfW"
      }
    },
    {
      "cell_type": "code",
      "source": [
        "df['drive-wheels'].value_counts().to_frame()"
      ],
      "metadata": {
        "colab": {
          "base_uri": "https://localhost:8080/",
          "height": 143
        },
        "id": "LCEmmqGBtZPf",
        "outputId": "37880be9-49b7-4854-bb9f-8c651cba4b35"
      },
      "execution_count": 54,
      "outputs": [
        {
          "output_type": "execute_result",
          "data": {
            "text/plain": [
              "     drive-wheels\n",
              "fwd           118\n",
              "rwd            75\n",
              "4wd             8"
            ],
            "text/html": [
              "\n",
              "  <div id=\"df-9480428d-97b1-441e-b538-7c839753d601\">\n",
              "    <div class=\"colab-df-container\">\n",
              "      <div>\n",
              "<style scoped>\n",
              "    .dataframe tbody tr th:only-of-type {\n",
              "        vertical-align: middle;\n",
              "    }\n",
              "\n",
              "    .dataframe tbody tr th {\n",
              "        vertical-align: top;\n",
              "    }\n",
              "\n",
              "    .dataframe thead th {\n",
              "        text-align: right;\n",
              "    }\n",
              "</style>\n",
              "<table border=\"1\" class=\"dataframe\">\n",
              "  <thead>\n",
              "    <tr style=\"text-align: right;\">\n",
              "      <th></th>\n",
              "      <th>drive-wheels</th>\n",
              "    </tr>\n",
              "  </thead>\n",
              "  <tbody>\n",
              "    <tr>\n",
              "      <th>fwd</th>\n",
              "      <td>118</td>\n",
              "    </tr>\n",
              "    <tr>\n",
              "      <th>rwd</th>\n",
              "      <td>75</td>\n",
              "    </tr>\n",
              "    <tr>\n",
              "      <th>4wd</th>\n",
              "      <td>8</td>\n",
              "    </tr>\n",
              "  </tbody>\n",
              "</table>\n",
              "</div>\n",
              "      <button class=\"colab-df-convert\" onclick=\"convertToInteractive('df-9480428d-97b1-441e-b538-7c839753d601')\"\n",
              "              title=\"Convert this dataframe to an interactive table.\"\n",
              "              style=\"display:none;\">\n",
              "        \n",
              "  <svg xmlns=\"http://www.w3.org/2000/svg\" height=\"24px\"viewBox=\"0 0 24 24\"\n",
              "       width=\"24px\">\n",
              "    <path d=\"M0 0h24v24H0V0z\" fill=\"none\"/>\n",
              "    <path d=\"M18.56 5.44l.94 2.06.94-2.06 2.06-.94-2.06-.94-.94-2.06-.94 2.06-2.06.94zm-11 1L8.5 8.5l.94-2.06 2.06-.94-2.06-.94L8.5 2.5l-.94 2.06-2.06.94zm10 10l.94 2.06.94-2.06 2.06-.94-2.06-.94-.94-2.06-.94 2.06-2.06.94z\"/><path d=\"M17.41 7.96l-1.37-1.37c-.4-.4-.92-.59-1.43-.59-.52 0-1.04.2-1.43.59L10.3 9.45l-7.72 7.72c-.78.78-.78 2.05 0 2.83L4 21.41c.39.39.9.59 1.41.59.51 0 1.02-.2 1.41-.59l7.78-7.78 2.81-2.81c.8-.78.8-2.07 0-2.86zM5.41 20L4 18.59l7.72-7.72 1.47 1.35L5.41 20z\"/>\n",
              "  </svg>\n",
              "      </button>\n",
              "      \n",
              "  <style>\n",
              "    .colab-df-container {\n",
              "      display:flex;\n",
              "      flex-wrap:wrap;\n",
              "      gap: 12px;\n",
              "    }\n",
              "\n",
              "    .colab-df-convert {\n",
              "      background-color: #E8F0FE;\n",
              "      border: none;\n",
              "      border-radius: 50%;\n",
              "      cursor: pointer;\n",
              "      display: none;\n",
              "      fill: #1967D2;\n",
              "      height: 32px;\n",
              "      padding: 0 0 0 0;\n",
              "      width: 32px;\n",
              "    }\n",
              "\n",
              "    .colab-df-convert:hover {\n",
              "      background-color: #E2EBFA;\n",
              "      box-shadow: 0px 1px 2px rgba(60, 64, 67, 0.3), 0px 1px 3px 1px rgba(60, 64, 67, 0.15);\n",
              "      fill: #174EA6;\n",
              "    }\n",
              "\n",
              "    [theme=dark] .colab-df-convert {\n",
              "      background-color: #3B4455;\n",
              "      fill: #D2E3FC;\n",
              "    }\n",
              "\n",
              "    [theme=dark] .colab-df-convert:hover {\n",
              "      background-color: #434B5C;\n",
              "      box-shadow: 0px 1px 3px 1px rgba(0, 0, 0, 0.15);\n",
              "      filter: drop-shadow(0px 1px 2px rgba(0, 0, 0, 0.3));\n",
              "      fill: #FFFFFF;\n",
              "    }\n",
              "  </style>\n",
              "\n",
              "      <script>\n",
              "        const buttonEl =\n",
              "          document.querySelector('#df-9480428d-97b1-441e-b538-7c839753d601 button.colab-df-convert');\n",
              "        buttonEl.style.display =\n",
              "          google.colab.kernel.accessAllowed ? 'block' : 'none';\n",
              "\n",
              "        async function convertToInteractive(key) {\n",
              "          const element = document.querySelector('#df-9480428d-97b1-441e-b538-7c839753d601');\n",
              "          const dataTable =\n",
              "            await google.colab.kernel.invokeFunction('convertToInteractive',\n",
              "                                                     [key], {});\n",
              "          if (!dataTable) return;\n",
              "\n",
              "          const docLinkHtml = 'Like what you see? Visit the ' +\n",
              "            '<a target=\"_blank\" href=https://colab.research.google.com/notebooks/data_table.ipynb>data table notebook</a>'\n",
              "            + ' to learn more about interactive tables.';\n",
              "          element.innerHTML = '';\n",
              "          dataTable['output_type'] = 'display_data';\n",
              "          await google.colab.output.renderOutput(dataTable, element);\n",
              "          const docLink = document.createElement('div');\n",
              "          docLink.innerHTML = docLinkHtml;\n",
              "          element.appendChild(docLink);\n",
              "        }\n",
              "      </script>\n",
              "    </div>\n",
              "  </div>\n",
              "  "
            ]
          },
          "metadata": {},
          "execution_count": 54
        }
      ]
    },
    {
      "cell_type": "code",
      "source": [
        "drive_wheels_counts = df['drive-wheels'].value_counts().to_frame()\n",
        "drive_wheels_counts.rename(columns={'drive-wheels': 'value_counts'}, inplace=True)\n",
        "drive_wheels_counts"
      ],
      "metadata": {
        "colab": {
          "base_uri": "https://localhost:8080/",
          "height": 143
        },
        "id": "OswhKLM2thpc",
        "outputId": "117a69dd-def5-4465-e35e-c9240fe82550"
      },
      "execution_count": 55,
      "outputs": [
        {
          "output_type": "execute_result",
          "data": {
            "text/plain": [
              "     value_counts\n",
              "fwd           118\n",
              "rwd            75\n",
              "4wd             8"
            ],
            "text/html": [
              "\n",
              "  <div id=\"df-01b841be-3378-4f4e-b55f-e65a9376a120\">\n",
              "    <div class=\"colab-df-container\">\n",
              "      <div>\n",
              "<style scoped>\n",
              "    .dataframe tbody tr th:only-of-type {\n",
              "        vertical-align: middle;\n",
              "    }\n",
              "\n",
              "    .dataframe tbody tr th {\n",
              "        vertical-align: top;\n",
              "    }\n",
              "\n",
              "    .dataframe thead th {\n",
              "        text-align: right;\n",
              "    }\n",
              "</style>\n",
              "<table border=\"1\" class=\"dataframe\">\n",
              "  <thead>\n",
              "    <tr style=\"text-align: right;\">\n",
              "      <th></th>\n",
              "      <th>value_counts</th>\n",
              "    </tr>\n",
              "  </thead>\n",
              "  <tbody>\n",
              "    <tr>\n",
              "      <th>fwd</th>\n",
              "      <td>118</td>\n",
              "    </tr>\n",
              "    <tr>\n",
              "      <th>rwd</th>\n",
              "      <td>75</td>\n",
              "    </tr>\n",
              "    <tr>\n",
              "      <th>4wd</th>\n",
              "      <td>8</td>\n",
              "    </tr>\n",
              "  </tbody>\n",
              "</table>\n",
              "</div>\n",
              "      <button class=\"colab-df-convert\" onclick=\"convertToInteractive('df-01b841be-3378-4f4e-b55f-e65a9376a120')\"\n",
              "              title=\"Convert this dataframe to an interactive table.\"\n",
              "              style=\"display:none;\">\n",
              "        \n",
              "  <svg xmlns=\"http://www.w3.org/2000/svg\" height=\"24px\"viewBox=\"0 0 24 24\"\n",
              "       width=\"24px\">\n",
              "    <path d=\"M0 0h24v24H0V0z\" fill=\"none\"/>\n",
              "    <path d=\"M18.56 5.44l.94 2.06.94-2.06 2.06-.94-2.06-.94-.94-2.06-.94 2.06-2.06.94zm-11 1L8.5 8.5l.94-2.06 2.06-.94-2.06-.94L8.5 2.5l-.94 2.06-2.06.94zm10 10l.94 2.06.94-2.06 2.06-.94-2.06-.94-.94-2.06-.94 2.06-2.06.94z\"/><path d=\"M17.41 7.96l-1.37-1.37c-.4-.4-.92-.59-1.43-.59-.52 0-1.04.2-1.43.59L10.3 9.45l-7.72 7.72c-.78.78-.78 2.05 0 2.83L4 21.41c.39.39.9.59 1.41.59.51 0 1.02-.2 1.41-.59l7.78-7.78 2.81-2.81c.8-.78.8-2.07 0-2.86zM5.41 20L4 18.59l7.72-7.72 1.47 1.35L5.41 20z\"/>\n",
              "  </svg>\n",
              "      </button>\n",
              "      \n",
              "  <style>\n",
              "    .colab-df-container {\n",
              "      display:flex;\n",
              "      flex-wrap:wrap;\n",
              "      gap: 12px;\n",
              "    }\n",
              "\n",
              "    .colab-df-convert {\n",
              "      background-color: #E8F0FE;\n",
              "      border: none;\n",
              "      border-radius: 50%;\n",
              "      cursor: pointer;\n",
              "      display: none;\n",
              "      fill: #1967D2;\n",
              "      height: 32px;\n",
              "      padding: 0 0 0 0;\n",
              "      width: 32px;\n",
              "    }\n",
              "\n",
              "    .colab-df-convert:hover {\n",
              "      background-color: #E2EBFA;\n",
              "      box-shadow: 0px 1px 2px rgba(60, 64, 67, 0.3), 0px 1px 3px 1px rgba(60, 64, 67, 0.15);\n",
              "      fill: #174EA6;\n",
              "    }\n",
              "\n",
              "    [theme=dark] .colab-df-convert {\n",
              "      background-color: #3B4455;\n",
              "      fill: #D2E3FC;\n",
              "    }\n",
              "\n",
              "    [theme=dark] .colab-df-convert:hover {\n",
              "      background-color: #434B5C;\n",
              "      box-shadow: 0px 1px 3px 1px rgba(0, 0, 0, 0.15);\n",
              "      filter: drop-shadow(0px 1px 2px rgba(0, 0, 0, 0.3));\n",
              "      fill: #FFFFFF;\n",
              "    }\n",
              "  </style>\n",
              "\n",
              "      <script>\n",
              "        const buttonEl =\n",
              "          document.querySelector('#df-01b841be-3378-4f4e-b55f-e65a9376a120 button.colab-df-convert');\n",
              "        buttonEl.style.display =\n",
              "          google.colab.kernel.accessAllowed ? 'block' : 'none';\n",
              "\n",
              "        async function convertToInteractive(key) {\n",
              "          const element = document.querySelector('#df-01b841be-3378-4f4e-b55f-e65a9376a120');\n",
              "          const dataTable =\n",
              "            await google.colab.kernel.invokeFunction('convertToInteractive',\n",
              "                                                     [key], {});\n",
              "          if (!dataTable) return;\n",
              "\n",
              "          const docLinkHtml = 'Like what you see? Visit the ' +\n",
              "            '<a target=\"_blank\" href=https://colab.research.google.com/notebooks/data_table.ipynb>data table notebook</a>'\n",
              "            + ' to learn more about interactive tables.';\n",
              "          element.innerHTML = '';\n",
              "          dataTable['output_type'] = 'display_data';\n",
              "          await google.colab.output.renderOutput(dataTable, element);\n",
              "          const docLink = document.createElement('div');\n",
              "          docLink.innerHTML = docLinkHtml;\n",
              "          element.appendChild(docLink);\n",
              "        }\n",
              "      </script>\n",
              "    </div>\n",
              "  </div>\n",
              "  "
            ]
          },
          "metadata": {},
          "execution_count": 55
        }
      ]
    },
    {
      "cell_type": "markdown",
      "source": [
        "Renombrar la columa con la cantidad."
      ],
      "metadata": {
        "id": "evbRVIMtyWeW"
      }
    },
    {
      "cell_type": "code",
      "source": [
        "drive_wheels_counts.index.name = 'drive-wheels'\n",
        "drive_wheels_counts"
      ],
      "metadata": {
        "colab": {
          "base_uri": "https://localhost:8080/",
          "height": 175
        },
        "id": "KYAyK5imtizo",
        "outputId": "d1165695-e1ae-40e2-ad56-07db40abc06b"
      },
      "execution_count": 56,
      "outputs": [
        {
          "output_type": "execute_result",
          "data": {
            "text/plain": [
              "              value_counts\n",
              "drive-wheels              \n",
              "fwd                    118\n",
              "rwd                     75\n",
              "4wd                      8"
            ],
            "text/html": [
              "\n",
              "  <div id=\"df-0e39ddd2-12d1-45df-987b-e3409b868e0a\">\n",
              "    <div class=\"colab-df-container\">\n",
              "      <div>\n",
              "<style scoped>\n",
              "    .dataframe tbody tr th:only-of-type {\n",
              "        vertical-align: middle;\n",
              "    }\n",
              "\n",
              "    .dataframe tbody tr th {\n",
              "        vertical-align: top;\n",
              "    }\n",
              "\n",
              "    .dataframe thead th {\n",
              "        text-align: right;\n",
              "    }\n",
              "</style>\n",
              "<table border=\"1\" class=\"dataframe\">\n",
              "  <thead>\n",
              "    <tr style=\"text-align: right;\">\n",
              "      <th></th>\n",
              "      <th>value_counts</th>\n",
              "    </tr>\n",
              "    <tr>\n",
              "      <th>drive-wheels</th>\n",
              "      <th></th>\n",
              "    </tr>\n",
              "  </thead>\n",
              "  <tbody>\n",
              "    <tr>\n",
              "      <th>fwd</th>\n",
              "      <td>118</td>\n",
              "    </tr>\n",
              "    <tr>\n",
              "      <th>rwd</th>\n",
              "      <td>75</td>\n",
              "    </tr>\n",
              "    <tr>\n",
              "      <th>4wd</th>\n",
              "      <td>8</td>\n",
              "    </tr>\n",
              "  </tbody>\n",
              "</table>\n",
              "</div>\n",
              "      <button class=\"colab-df-convert\" onclick=\"convertToInteractive('df-0e39ddd2-12d1-45df-987b-e3409b868e0a')\"\n",
              "              title=\"Convert this dataframe to an interactive table.\"\n",
              "              style=\"display:none;\">\n",
              "        \n",
              "  <svg xmlns=\"http://www.w3.org/2000/svg\" height=\"24px\"viewBox=\"0 0 24 24\"\n",
              "       width=\"24px\">\n",
              "    <path d=\"M0 0h24v24H0V0z\" fill=\"none\"/>\n",
              "    <path d=\"M18.56 5.44l.94 2.06.94-2.06 2.06-.94-2.06-.94-.94-2.06-.94 2.06-2.06.94zm-11 1L8.5 8.5l.94-2.06 2.06-.94-2.06-.94L8.5 2.5l-.94 2.06-2.06.94zm10 10l.94 2.06.94-2.06 2.06-.94-2.06-.94-.94-2.06-.94 2.06-2.06.94z\"/><path d=\"M17.41 7.96l-1.37-1.37c-.4-.4-.92-.59-1.43-.59-.52 0-1.04.2-1.43.59L10.3 9.45l-7.72 7.72c-.78.78-.78 2.05 0 2.83L4 21.41c.39.39.9.59 1.41.59.51 0 1.02-.2 1.41-.59l7.78-7.78 2.81-2.81c.8-.78.8-2.07 0-2.86zM5.41 20L4 18.59l7.72-7.72 1.47 1.35L5.41 20z\"/>\n",
              "  </svg>\n",
              "      </button>\n",
              "      \n",
              "  <style>\n",
              "    .colab-df-container {\n",
              "      display:flex;\n",
              "      flex-wrap:wrap;\n",
              "      gap: 12px;\n",
              "    }\n",
              "\n",
              "    .colab-df-convert {\n",
              "      background-color: #E8F0FE;\n",
              "      border: none;\n",
              "      border-radius: 50%;\n",
              "      cursor: pointer;\n",
              "      display: none;\n",
              "      fill: #1967D2;\n",
              "      height: 32px;\n",
              "      padding: 0 0 0 0;\n",
              "      width: 32px;\n",
              "    }\n",
              "\n",
              "    .colab-df-convert:hover {\n",
              "      background-color: #E2EBFA;\n",
              "      box-shadow: 0px 1px 2px rgba(60, 64, 67, 0.3), 0px 1px 3px 1px rgba(60, 64, 67, 0.15);\n",
              "      fill: #174EA6;\n",
              "    }\n",
              "\n",
              "    [theme=dark] .colab-df-convert {\n",
              "      background-color: #3B4455;\n",
              "      fill: #D2E3FC;\n",
              "    }\n",
              "\n",
              "    [theme=dark] .colab-df-convert:hover {\n",
              "      background-color: #434B5C;\n",
              "      box-shadow: 0px 1px 3px 1px rgba(0, 0, 0, 0.15);\n",
              "      filter: drop-shadow(0px 1px 2px rgba(0, 0, 0, 0.3));\n",
              "      fill: #FFFFFF;\n",
              "    }\n",
              "  </style>\n",
              "\n",
              "      <script>\n",
              "        const buttonEl =\n",
              "          document.querySelector('#df-0e39ddd2-12d1-45df-987b-e3409b868e0a button.colab-df-convert');\n",
              "        buttonEl.style.display =\n",
              "          google.colab.kernel.accessAllowed ? 'block' : 'none';\n",
              "\n",
              "        async function convertToInteractive(key) {\n",
              "          const element = document.querySelector('#df-0e39ddd2-12d1-45df-987b-e3409b868e0a');\n",
              "          const dataTable =\n",
              "            await google.colab.kernel.invokeFunction('convertToInteractive',\n",
              "                                                     [key], {});\n",
              "          if (!dataTable) return;\n",
              "\n",
              "          const docLinkHtml = 'Like what you see? Visit the ' +\n",
              "            '<a target=\"_blank\" href=https://colab.research.google.com/notebooks/data_table.ipynb>data table notebook</a>'\n",
              "            + ' to learn more about interactive tables.';\n",
              "          element.innerHTML = '';\n",
              "          dataTable['output_type'] = 'display_data';\n",
              "          await google.colab.output.renderOutput(dataTable, element);\n",
              "          const docLink = document.createElement('div');\n",
              "          docLink.innerHTML = docLinkHtml;\n",
              "          element.appendChild(docLink);\n",
              "        }\n",
              "      </script>\n",
              "    </div>\n",
              "  </div>\n",
              "  "
            ]
          },
          "metadata": {},
          "execution_count": 56
        }
      ]
    },
    {
      "cell_type": "code",
      "source": [
        "engine_loc_counts = df['engine-location'].value_counts().to_frame()\n",
        "engine_loc_counts.rename(columns={'engine-location': 'value_counts'}, inplace=True)\n",
        "engine_loc_counts.index.name = 'engine-location'\n",
        "engine_loc_counts.head(10)"
      ],
      "metadata": {
        "colab": {
          "base_uri": "https://localhost:8080/",
          "height": 143
        },
        "id": "S1TQJVqktj1b",
        "outputId": "7451ca12-86fe-47f3-bd37-43813a870bf5"
      },
      "execution_count": 57,
      "outputs": [
        {
          "output_type": "execute_result",
          "data": {
            "text/plain": [
              "                 value_counts\n",
              "engine-location              \n",
              "front                     198\n",
              "rear                        3"
            ],
            "text/html": [
              "\n",
              "  <div id=\"df-d3ba2768-4416-483a-8d5b-b5f0c1c155db\">\n",
              "    <div class=\"colab-df-container\">\n",
              "      <div>\n",
              "<style scoped>\n",
              "    .dataframe tbody tr th:only-of-type {\n",
              "        vertical-align: middle;\n",
              "    }\n",
              "\n",
              "    .dataframe tbody tr th {\n",
              "        vertical-align: top;\n",
              "    }\n",
              "\n",
              "    .dataframe thead th {\n",
              "        text-align: right;\n",
              "    }\n",
              "</style>\n",
              "<table border=\"1\" class=\"dataframe\">\n",
              "  <thead>\n",
              "    <tr style=\"text-align: right;\">\n",
              "      <th></th>\n",
              "      <th>value_counts</th>\n",
              "    </tr>\n",
              "    <tr>\n",
              "      <th>engine-location</th>\n",
              "      <th></th>\n",
              "    </tr>\n",
              "  </thead>\n",
              "  <tbody>\n",
              "    <tr>\n",
              "      <th>front</th>\n",
              "      <td>198</td>\n",
              "    </tr>\n",
              "    <tr>\n",
              "      <th>rear</th>\n",
              "      <td>3</td>\n",
              "    </tr>\n",
              "  </tbody>\n",
              "</table>\n",
              "</div>\n",
              "      <button class=\"colab-df-convert\" onclick=\"convertToInteractive('df-d3ba2768-4416-483a-8d5b-b5f0c1c155db')\"\n",
              "              title=\"Convert this dataframe to an interactive table.\"\n",
              "              style=\"display:none;\">\n",
              "        \n",
              "  <svg xmlns=\"http://www.w3.org/2000/svg\" height=\"24px\"viewBox=\"0 0 24 24\"\n",
              "       width=\"24px\">\n",
              "    <path d=\"M0 0h24v24H0V0z\" fill=\"none\"/>\n",
              "    <path d=\"M18.56 5.44l.94 2.06.94-2.06 2.06-.94-2.06-.94-.94-2.06-.94 2.06-2.06.94zm-11 1L8.5 8.5l.94-2.06 2.06-.94-2.06-.94L8.5 2.5l-.94 2.06-2.06.94zm10 10l.94 2.06.94-2.06 2.06-.94-2.06-.94-.94-2.06-.94 2.06-2.06.94z\"/><path d=\"M17.41 7.96l-1.37-1.37c-.4-.4-.92-.59-1.43-.59-.52 0-1.04.2-1.43.59L10.3 9.45l-7.72 7.72c-.78.78-.78 2.05 0 2.83L4 21.41c.39.39.9.59 1.41.59.51 0 1.02-.2 1.41-.59l7.78-7.78 2.81-2.81c.8-.78.8-2.07 0-2.86zM5.41 20L4 18.59l7.72-7.72 1.47 1.35L5.41 20z\"/>\n",
              "  </svg>\n",
              "      </button>\n",
              "      \n",
              "  <style>\n",
              "    .colab-df-container {\n",
              "      display:flex;\n",
              "      flex-wrap:wrap;\n",
              "      gap: 12px;\n",
              "    }\n",
              "\n",
              "    .colab-df-convert {\n",
              "      background-color: #E8F0FE;\n",
              "      border: none;\n",
              "      border-radius: 50%;\n",
              "      cursor: pointer;\n",
              "      display: none;\n",
              "      fill: #1967D2;\n",
              "      height: 32px;\n",
              "      padding: 0 0 0 0;\n",
              "      width: 32px;\n",
              "    }\n",
              "\n",
              "    .colab-df-convert:hover {\n",
              "      background-color: #E2EBFA;\n",
              "      box-shadow: 0px 1px 2px rgba(60, 64, 67, 0.3), 0px 1px 3px 1px rgba(60, 64, 67, 0.15);\n",
              "      fill: #174EA6;\n",
              "    }\n",
              "\n",
              "    [theme=dark] .colab-df-convert {\n",
              "      background-color: #3B4455;\n",
              "      fill: #D2E3FC;\n",
              "    }\n",
              "\n",
              "    [theme=dark] .colab-df-convert:hover {\n",
              "      background-color: #434B5C;\n",
              "      box-shadow: 0px 1px 3px 1px rgba(0, 0, 0, 0.15);\n",
              "      filter: drop-shadow(0px 1px 2px rgba(0, 0, 0, 0.3));\n",
              "      fill: #FFFFFF;\n",
              "    }\n",
              "  </style>\n",
              "\n",
              "      <script>\n",
              "        const buttonEl =\n",
              "          document.querySelector('#df-d3ba2768-4416-483a-8d5b-b5f0c1c155db button.colab-df-convert');\n",
              "        buttonEl.style.display =\n",
              "          google.colab.kernel.accessAllowed ? 'block' : 'none';\n",
              "\n",
              "        async function convertToInteractive(key) {\n",
              "          const element = document.querySelector('#df-d3ba2768-4416-483a-8d5b-b5f0c1c155db');\n",
              "          const dataTable =\n",
              "            await google.colab.kernel.invokeFunction('convertToInteractive',\n",
              "                                                     [key], {});\n",
              "          if (!dataTable) return;\n",
              "\n",
              "          const docLinkHtml = 'Like what you see? Visit the ' +\n",
              "            '<a target=\"_blank\" href=https://colab.research.google.com/notebooks/data_table.ipynb>data table notebook</a>'\n",
              "            + ' to learn more about interactive tables.';\n",
              "          element.innerHTML = '';\n",
              "          dataTable['output_type'] = 'display_data';\n",
              "          await google.colab.output.renderOutput(dataTable, element);\n",
              "          const docLink = document.createElement('div');\n",
              "          docLink.innerHTML = docLinkHtml;\n",
              "          element.appendChild(docLink);\n",
              "        }\n",
              "      </script>\n",
              "    </div>\n",
              "  </div>\n",
              "  "
            ]
          },
          "metadata": {},
          "execution_count": 57
        }
      ]
    },
    {
      "cell_type": "markdown",
      "source": [
        "Obtener valores únicos de la columna."
      ],
      "metadata": {
        "id": "ku0_NS57zbn2"
      }
    },
    {
      "cell_type": "code",
      "source": [
        "df['drive-wheels'].unique()"
      ],
      "metadata": {
        "colab": {
          "base_uri": "https://localhost:8080/"
        },
        "id": "_CN52H0Ntl9J",
        "outputId": "6d314ad6-5241-450f-f995-d9c459ccacf1"
      },
      "execution_count": 58,
      "outputs": [
        {
          "output_type": "execute_result",
          "data": {
            "text/plain": [
              "array(['rwd', 'fwd', '4wd'], dtype=object)"
            ]
          },
          "metadata": {},
          "execution_count": 58
        }
      ]
    },
    {
      "cell_type": "markdown",
      "source": [
        "Asignacion de columnas a una variable."
      ],
      "metadata": {
        "id": "09-7eD6Lzj0I"
      }
    },
    {
      "cell_type": "code",
      "source": [
        "df_group_one = df[['drive-wheels','body-style','price']]"
      ],
      "metadata": {
        "id": "_sze1hw8tnFg"
      },
      "execution_count": 59,
      "outputs": []
    },
    {
      "cell_type": "markdown",
      "source": [
        "Promedio de una columnas seleccionadas."
      ],
      "metadata": {
        "id": "kAOx5Ztnz26W"
      }
    },
    {
      "cell_type": "code",
      "source": [
        "df_group_one = df_group_one.groupby(['drive-wheels'],as_index=False).mean()\n",
        "df_group_one"
      ],
      "metadata": {
        "colab": {
          "base_uri": "https://localhost:8080/",
          "height": 143
        },
        "id": "qBuAg6KFtoWG",
        "outputId": "c68f9fe4-b92c-4a62-eacc-10a028d891f9"
      },
      "execution_count": 60,
      "outputs": [
        {
          "output_type": "execute_result",
          "data": {
            "text/plain": [
              "  drive-wheels         price\n",
              "0          4wd  10241.000000\n",
              "1          fwd   9244.779661\n",
              "2          rwd  19757.613333"
            ],
            "text/html": [
              "\n",
              "  <div id=\"df-7071b378-2ae8-424c-9ee8-1af5f72b2be3\">\n",
              "    <div class=\"colab-df-container\">\n",
              "      <div>\n",
              "<style scoped>\n",
              "    .dataframe tbody tr th:only-of-type {\n",
              "        vertical-align: middle;\n",
              "    }\n",
              "\n",
              "    .dataframe tbody tr th {\n",
              "        vertical-align: top;\n",
              "    }\n",
              "\n",
              "    .dataframe thead th {\n",
              "        text-align: right;\n",
              "    }\n",
              "</style>\n",
              "<table border=\"1\" class=\"dataframe\">\n",
              "  <thead>\n",
              "    <tr style=\"text-align: right;\">\n",
              "      <th></th>\n",
              "      <th>drive-wheels</th>\n",
              "      <th>price</th>\n",
              "    </tr>\n",
              "  </thead>\n",
              "  <tbody>\n",
              "    <tr>\n",
              "      <th>0</th>\n",
              "      <td>4wd</td>\n",
              "      <td>10241.000000</td>\n",
              "    </tr>\n",
              "    <tr>\n",
              "      <th>1</th>\n",
              "      <td>fwd</td>\n",
              "      <td>9244.779661</td>\n",
              "    </tr>\n",
              "    <tr>\n",
              "      <th>2</th>\n",
              "      <td>rwd</td>\n",
              "      <td>19757.613333</td>\n",
              "    </tr>\n",
              "  </tbody>\n",
              "</table>\n",
              "</div>\n",
              "      <button class=\"colab-df-convert\" onclick=\"convertToInteractive('df-7071b378-2ae8-424c-9ee8-1af5f72b2be3')\"\n",
              "              title=\"Convert this dataframe to an interactive table.\"\n",
              "              style=\"display:none;\">\n",
              "        \n",
              "  <svg xmlns=\"http://www.w3.org/2000/svg\" height=\"24px\"viewBox=\"0 0 24 24\"\n",
              "       width=\"24px\">\n",
              "    <path d=\"M0 0h24v24H0V0z\" fill=\"none\"/>\n",
              "    <path d=\"M18.56 5.44l.94 2.06.94-2.06 2.06-.94-2.06-.94-.94-2.06-.94 2.06-2.06.94zm-11 1L8.5 8.5l.94-2.06 2.06-.94-2.06-.94L8.5 2.5l-.94 2.06-2.06.94zm10 10l.94 2.06.94-2.06 2.06-.94-2.06-.94-.94-2.06-.94 2.06-2.06.94z\"/><path d=\"M17.41 7.96l-1.37-1.37c-.4-.4-.92-.59-1.43-.59-.52 0-1.04.2-1.43.59L10.3 9.45l-7.72 7.72c-.78.78-.78 2.05 0 2.83L4 21.41c.39.39.9.59 1.41.59.51 0 1.02-.2 1.41-.59l7.78-7.78 2.81-2.81c.8-.78.8-2.07 0-2.86zM5.41 20L4 18.59l7.72-7.72 1.47 1.35L5.41 20z\"/>\n",
              "  </svg>\n",
              "      </button>\n",
              "      \n",
              "  <style>\n",
              "    .colab-df-container {\n",
              "      display:flex;\n",
              "      flex-wrap:wrap;\n",
              "      gap: 12px;\n",
              "    }\n",
              "\n",
              "    .colab-df-convert {\n",
              "      background-color: #E8F0FE;\n",
              "      border: none;\n",
              "      border-radius: 50%;\n",
              "      cursor: pointer;\n",
              "      display: none;\n",
              "      fill: #1967D2;\n",
              "      height: 32px;\n",
              "      padding: 0 0 0 0;\n",
              "      width: 32px;\n",
              "    }\n",
              "\n",
              "    .colab-df-convert:hover {\n",
              "      background-color: #E2EBFA;\n",
              "      box-shadow: 0px 1px 2px rgba(60, 64, 67, 0.3), 0px 1px 3px 1px rgba(60, 64, 67, 0.15);\n",
              "      fill: #174EA6;\n",
              "    }\n",
              "\n",
              "    [theme=dark] .colab-df-convert {\n",
              "      background-color: #3B4455;\n",
              "      fill: #D2E3FC;\n",
              "    }\n",
              "\n",
              "    [theme=dark] .colab-df-convert:hover {\n",
              "      background-color: #434B5C;\n",
              "      box-shadow: 0px 1px 3px 1px rgba(0, 0, 0, 0.15);\n",
              "      filter: drop-shadow(0px 1px 2px rgba(0, 0, 0, 0.3));\n",
              "      fill: #FFFFFF;\n",
              "    }\n",
              "  </style>\n",
              "\n",
              "      <script>\n",
              "        const buttonEl =\n",
              "          document.querySelector('#df-7071b378-2ae8-424c-9ee8-1af5f72b2be3 button.colab-df-convert');\n",
              "        buttonEl.style.display =\n",
              "          google.colab.kernel.accessAllowed ? 'block' : 'none';\n",
              "\n",
              "        async function convertToInteractive(key) {\n",
              "          const element = document.querySelector('#df-7071b378-2ae8-424c-9ee8-1af5f72b2be3');\n",
              "          const dataTable =\n",
              "            await google.colab.kernel.invokeFunction('convertToInteractive',\n",
              "                                                     [key], {});\n",
              "          if (!dataTable) return;\n",
              "\n",
              "          const docLinkHtml = 'Like what you see? Visit the ' +\n",
              "            '<a target=\"_blank\" href=https://colab.research.google.com/notebooks/data_table.ipynb>data table notebook</a>'\n",
              "            + ' to learn more about interactive tables.';\n",
              "          element.innerHTML = '';\n",
              "          dataTable['output_type'] = 'display_data';\n",
              "          await google.colab.output.renderOutput(dataTable, element);\n",
              "          const docLink = document.createElement('div');\n",
              "          docLink.innerHTML = docLinkHtml;\n",
              "          element.appendChild(docLink);\n",
              "        }\n",
              "      </script>\n",
              "    </div>\n",
              "  </div>\n",
              "  "
            ]
          },
          "metadata": {},
          "execution_count": 60
        }
      ]
    },
    {
      "cell_type": "markdown",
      "source": [
        "Promedio con varias columnas"
      ],
      "metadata": {
        "id": "IGKNLeQtzw__"
      }
    },
    {
      "cell_type": "code",
      "source": [
        "df_gptest = df[['drive-wheels','body-style','price']]\n",
        "grouped_test1 = df_gptest.groupby(['drive-wheels','body-style'],as_index=False).mean()\n",
        "grouped_test1"
      ],
      "metadata": {
        "colab": {
          "base_uri": "https://localhost:8080/",
          "height": 457
        },
        "id": "Iq0AWS1ptpmY",
        "outputId": "80a9b241-9311-4ac7-d446-4584269735ac"
      },
      "execution_count": 61,
      "outputs": [
        {
          "output_type": "execute_result",
          "data": {
            "text/plain": [
              "   drive-wheels   body-style         price\n",
              "0           4wd    hatchback   7603.000000\n",
              "1           4wd        sedan  12647.333333\n",
              "2           4wd        wagon   9095.750000\n",
              "3           fwd  convertible  11595.000000\n",
              "4           fwd      hardtop   8249.000000\n",
              "5           fwd    hatchback   8396.387755\n",
              "6           fwd        sedan   9811.800000\n",
              "7           fwd        wagon   9997.333333\n",
              "8           rwd  convertible  23949.600000\n",
              "9           rwd      hardtop  24202.714286\n",
              "10          rwd    hatchback  14337.777778\n",
              "11          rwd        sedan  21711.833333\n",
              "12          rwd        wagon  16994.222222"
            ],
            "text/html": [
              "\n",
              "  <div id=\"df-7c481e1e-53d9-4f0e-af12-b6da2d4648e6\">\n",
              "    <div class=\"colab-df-container\">\n",
              "      <div>\n",
              "<style scoped>\n",
              "    .dataframe tbody tr th:only-of-type {\n",
              "        vertical-align: middle;\n",
              "    }\n",
              "\n",
              "    .dataframe tbody tr th {\n",
              "        vertical-align: top;\n",
              "    }\n",
              "\n",
              "    .dataframe thead th {\n",
              "        text-align: right;\n",
              "    }\n",
              "</style>\n",
              "<table border=\"1\" class=\"dataframe\">\n",
              "  <thead>\n",
              "    <tr style=\"text-align: right;\">\n",
              "      <th></th>\n",
              "      <th>drive-wheels</th>\n",
              "      <th>body-style</th>\n",
              "      <th>price</th>\n",
              "    </tr>\n",
              "  </thead>\n",
              "  <tbody>\n",
              "    <tr>\n",
              "      <th>0</th>\n",
              "      <td>4wd</td>\n",
              "      <td>hatchback</td>\n",
              "      <td>7603.000000</td>\n",
              "    </tr>\n",
              "    <tr>\n",
              "      <th>1</th>\n",
              "      <td>4wd</td>\n",
              "      <td>sedan</td>\n",
              "      <td>12647.333333</td>\n",
              "    </tr>\n",
              "    <tr>\n",
              "      <th>2</th>\n",
              "      <td>4wd</td>\n",
              "      <td>wagon</td>\n",
              "      <td>9095.750000</td>\n",
              "    </tr>\n",
              "    <tr>\n",
              "      <th>3</th>\n",
              "      <td>fwd</td>\n",
              "      <td>convertible</td>\n",
              "      <td>11595.000000</td>\n",
              "    </tr>\n",
              "    <tr>\n",
              "      <th>4</th>\n",
              "      <td>fwd</td>\n",
              "      <td>hardtop</td>\n",
              "      <td>8249.000000</td>\n",
              "    </tr>\n",
              "    <tr>\n",
              "      <th>5</th>\n",
              "      <td>fwd</td>\n",
              "      <td>hatchback</td>\n",
              "      <td>8396.387755</td>\n",
              "    </tr>\n",
              "    <tr>\n",
              "      <th>6</th>\n",
              "      <td>fwd</td>\n",
              "      <td>sedan</td>\n",
              "      <td>9811.800000</td>\n",
              "    </tr>\n",
              "    <tr>\n",
              "      <th>7</th>\n",
              "      <td>fwd</td>\n",
              "      <td>wagon</td>\n",
              "      <td>9997.333333</td>\n",
              "    </tr>\n",
              "    <tr>\n",
              "      <th>8</th>\n",
              "      <td>rwd</td>\n",
              "      <td>convertible</td>\n",
              "      <td>23949.600000</td>\n",
              "    </tr>\n",
              "    <tr>\n",
              "      <th>9</th>\n",
              "      <td>rwd</td>\n",
              "      <td>hardtop</td>\n",
              "      <td>24202.714286</td>\n",
              "    </tr>\n",
              "    <tr>\n",
              "      <th>10</th>\n",
              "      <td>rwd</td>\n",
              "      <td>hatchback</td>\n",
              "      <td>14337.777778</td>\n",
              "    </tr>\n",
              "    <tr>\n",
              "      <th>11</th>\n",
              "      <td>rwd</td>\n",
              "      <td>sedan</td>\n",
              "      <td>21711.833333</td>\n",
              "    </tr>\n",
              "    <tr>\n",
              "      <th>12</th>\n",
              "      <td>rwd</td>\n",
              "      <td>wagon</td>\n",
              "      <td>16994.222222</td>\n",
              "    </tr>\n",
              "  </tbody>\n",
              "</table>\n",
              "</div>\n",
              "      <button class=\"colab-df-convert\" onclick=\"convertToInteractive('df-7c481e1e-53d9-4f0e-af12-b6da2d4648e6')\"\n",
              "              title=\"Convert this dataframe to an interactive table.\"\n",
              "              style=\"display:none;\">\n",
              "        \n",
              "  <svg xmlns=\"http://www.w3.org/2000/svg\" height=\"24px\"viewBox=\"0 0 24 24\"\n",
              "       width=\"24px\">\n",
              "    <path d=\"M0 0h24v24H0V0z\" fill=\"none\"/>\n",
              "    <path d=\"M18.56 5.44l.94 2.06.94-2.06 2.06-.94-2.06-.94-.94-2.06-.94 2.06-2.06.94zm-11 1L8.5 8.5l.94-2.06 2.06-.94-2.06-.94L8.5 2.5l-.94 2.06-2.06.94zm10 10l.94 2.06.94-2.06 2.06-.94-2.06-.94-.94-2.06-.94 2.06-2.06.94z\"/><path d=\"M17.41 7.96l-1.37-1.37c-.4-.4-.92-.59-1.43-.59-.52 0-1.04.2-1.43.59L10.3 9.45l-7.72 7.72c-.78.78-.78 2.05 0 2.83L4 21.41c.39.39.9.59 1.41.59.51 0 1.02-.2 1.41-.59l7.78-7.78 2.81-2.81c.8-.78.8-2.07 0-2.86zM5.41 20L4 18.59l7.72-7.72 1.47 1.35L5.41 20z\"/>\n",
              "  </svg>\n",
              "      </button>\n",
              "      \n",
              "  <style>\n",
              "    .colab-df-container {\n",
              "      display:flex;\n",
              "      flex-wrap:wrap;\n",
              "      gap: 12px;\n",
              "    }\n",
              "\n",
              "    .colab-df-convert {\n",
              "      background-color: #E8F0FE;\n",
              "      border: none;\n",
              "      border-radius: 50%;\n",
              "      cursor: pointer;\n",
              "      display: none;\n",
              "      fill: #1967D2;\n",
              "      height: 32px;\n",
              "      padding: 0 0 0 0;\n",
              "      width: 32px;\n",
              "    }\n",
              "\n",
              "    .colab-df-convert:hover {\n",
              "      background-color: #E2EBFA;\n",
              "      box-shadow: 0px 1px 2px rgba(60, 64, 67, 0.3), 0px 1px 3px 1px rgba(60, 64, 67, 0.15);\n",
              "      fill: #174EA6;\n",
              "    }\n",
              "\n",
              "    [theme=dark] .colab-df-convert {\n",
              "      background-color: #3B4455;\n",
              "      fill: #D2E3FC;\n",
              "    }\n",
              "\n",
              "    [theme=dark] .colab-df-convert:hover {\n",
              "      background-color: #434B5C;\n",
              "      box-shadow: 0px 1px 3px 1px rgba(0, 0, 0, 0.15);\n",
              "      filter: drop-shadow(0px 1px 2px rgba(0, 0, 0, 0.3));\n",
              "      fill: #FFFFFF;\n",
              "    }\n",
              "  </style>\n",
              "\n",
              "      <script>\n",
              "        const buttonEl =\n",
              "          document.querySelector('#df-7c481e1e-53d9-4f0e-af12-b6da2d4648e6 button.colab-df-convert');\n",
              "        buttonEl.style.display =\n",
              "          google.colab.kernel.accessAllowed ? 'block' : 'none';\n",
              "\n",
              "        async function convertToInteractive(key) {\n",
              "          const element = document.querySelector('#df-7c481e1e-53d9-4f0e-af12-b6da2d4648e6');\n",
              "          const dataTable =\n",
              "            await google.colab.kernel.invokeFunction('convertToInteractive',\n",
              "                                                     [key], {});\n",
              "          if (!dataTable) return;\n",
              "\n",
              "          const docLinkHtml = 'Like what you see? Visit the ' +\n",
              "            '<a target=\"_blank\" href=https://colab.research.google.com/notebooks/data_table.ipynb>data table notebook</a>'\n",
              "            + ' to learn more about interactive tables.';\n",
              "          element.innerHTML = '';\n",
              "          dataTable['output_type'] = 'display_data';\n",
              "          await google.colab.output.renderOutput(dataTable, element);\n",
              "          const docLink = document.createElement('div');\n",
              "          docLink.innerHTML = docLinkHtml;\n",
              "          element.appendChild(docLink);\n",
              "        }\n",
              "      </script>\n",
              "    </div>\n",
              "  </div>\n",
              "  "
            ]
          },
          "metadata": {},
          "execution_count": 61
        }
      ]
    },
    {
      "cell_type": "code",
      "source": [
        "grouped_pivot = grouped_test1.pivot(index='drive-wheels',columns='body-style')\n",
        "grouped_pivot"
      ],
      "metadata": {
        "colab": {
          "base_uri": "https://localhost:8080/",
          "height": 250
        },
        "id": "U1eS3FRVtq8e",
        "outputId": "771eeef7-5478-47b1-9571-dd32711492d8"
      },
      "execution_count": 62,
      "outputs": [
        {
          "output_type": "execute_result",
          "data": {
            "text/plain": [
              "                   price                                            \\\n",
              "body-style   convertible       hardtop     hatchback         sedan   \n",
              "drive-wheels                                                         \n",
              "4wd                  NaN           NaN   7603.000000  12647.333333   \n",
              "fwd              11595.0   8249.000000   8396.387755   9811.800000   \n",
              "rwd              23949.6  24202.714286  14337.777778  21711.833333   \n",
              "\n",
              "                            \n",
              "body-style           wagon  \n",
              "drive-wheels                \n",
              "4wd            9095.750000  \n",
              "fwd            9997.333333  \n",
              "rwd           16994.222222  "
            ],
            "text/html": [
              "\n",
              "  <div id=\"df-df53e6aa-b3be-4dca-b0be-168517cc2ffd\">\n",
              "    <div class=\"colab-df-container\">\n",
              "      <div>\n",
              "<style scoped>\n",
              "    .dataframe tbody tr th:only-of-type {\n",
              "        vertical-align: middle;\n",
              "    }\n",
              "\n",
              "    .dataframe tbody tr th {\n",
              "        vertical-align: top;\n",
              "    }\n",
              "\n",
              "    .dataframe thead tr th {\n",
              "        text-align: left;\n",
              "    }\n",
              "\n",
              "    .dataframe thead tr:last-of-type th {\n",
              "        text-align: right;\n",
              "    }\n",
              "</style>\n",
              "<table border=\"1\" class=\"dataframe\">\n",
              "  <thead>\n",
              "    <tr>\n",
              "      <th></th>\n",
              "      <th colspan=\"5\" halign=\"left\">price</th>\n",
              "    </tr>\n",
              "    <tr>\n",
              "      <th>body-style</th>\n",
              "      <th>convertible</th>\n",
              "      <th>hardtop</th>\n",
              "      <th>hatchback</th>\n",
              "      <th>sedan</th>\n",
              "      <th>wagon</th>\n",
              "    </tr>\n",
              "    <tr>\n",
              "      <th>drive-wheels</th>\n",
              "      <th></th>\n",
              "      <th></th>\n",
              "      <th></th>\n",
              "      <th></th>\n",
              "      <th></th>\n",
              "    </tr>\n",
              "  </thead>\n",
              "  <tbody>\n",
              "    <tr>\n",
              "      <th>4wd</th>\n",
              "      <td>NaN</td>\n",
              "      <td>NaN</td>\n",
              "      <td>7603.000000</td>\n",
              "      <td>12647.333333</td>\n",
              "      <td>9095.750000</td>\n",
              "    </tr>\n",
              "    <tr>\n",
              "      <th>fwd</th>\n",
              "      <td>11595.0</td>\n",
              "      <td>8249.000000</td>\n",
              "      <td>8396.387755</td>\n",
              "      <td>9811.800000</td>\n",
              "      <td>9997.333333</td>\n",
              "    </tr>\n",
              "    <tr>\n",
              "      <th>rwd</th>\n",
              "      <td>23949.6</td>\n",
              "      <td>24202.714286</td>\n",
              "      <td>14337.777778</td>\n",
              "      <td>21711.833333</td>\n",
              "      <td>16994.222222</td>\n",
              "    </tr>\n",
              "  </tbody>\n",
              "</table>\n",
              "</div>\n",
              "      <button class=\"colab-df-convert\" onclick=\"convertToInteractive('df-df53e6aa-b3be-4dca-b0be-168517cc2ffd')\"\n",
              "              title=\"Convert this dataframe to an interactive table.\"\n",
              "              style=\"display:none;\">\n",
              "        \n",
              "  <svg xmlns=\"http://www.w3.org/2000/svg\" height=\"24px\"viewBox=\"0 0 24 24\"\n",
              "       width=\"24px\">\n",
              "    <path d=\"M0 0h24v24H0V0z\" fill=\"none\"/>\n",
              "    <path d=\"M18.56 5.44l.94 2.06.94-2.06 2.06-.94-2.06-.94-.94-2.06-.94 2.06-2.06.94zm-11 1L8.5 8.5l.94-2.06 2.06-.94-2.06-.94L8.5 2.5l-.94 2.06-2.06.94zm10 10l.94 2.06.94-2.06 2.06-.94-2.06-.94-.94-2.06-.94 2.06-2.06.94z\"/><path d=\"M17.41 7.96l-1.37-1.37c-.4-.4-.92-.59-1.43-.59-.52 0-1.04.2-1.43.59L10.3 9.45l-7.72 7.72c-.78.78-.78 2.05 0 2.83L4 21.41c.39.39.9.59 1.41.59.51 0 1.02-.2 1.41-.59l7.78-7.78 2.81-2.81c.8-.78.8-2.07 0-2.86zM5.41 20L4 18.59l7.72-7.72 1.47 1.35L5.41 20z\"/>\n",
              "  </svg>\n",
              "      </button>\n",
              "      \n",
              "  <style>\n",
              "    .colab-df-container {\n",
              "      display:flex;\n",
              "      flex-wrap:wrap;\n",
              "      gap: 12px;\n",
              "    }\n",
              "\n",
              "    .colab-df-convert {\n",
              "      background-color: #E8F0FE;\n",
              "      border: none;\n",
              "      border-radius: 50%;\n",
              "      cursor: pointer;\n",
              "      display: none;\n",
              "      fill: #1967D2;\n",
              "      height: 32px;\n",
              "      padding: 0 0 0 0;\n",
              "      width: 32px;\n",
              "    }\n",
              "\n",
              "    .colab-df-convert:hover {\n",
              "      background-color: #E2EBFA;\n",
              "      box-shadow: 0px 1px 2px rgba(60, 64, 67, 0.3), 0px 1px 3px 1px rgba(60, 64, 67, 0.15);\n",
              "      fill: #174EA6;\n",
              "    }\n",
              "\n",
              "    [theme=dark] .colab-df-convert {\n",
              "      background-color: #3B4455;\n",
              "      fill: #D2E3FC;\n",
              "    }\n",
              "\n",
              "    [theme=dark] .colab-df-convert:hover {\n",
              "      background-color: #434B5C;\n",
              "      box-shadow: 0px 1px 3px 1px rgba(0, 0, 0, 0.15);\n",
              "      filter: drop-shadow(0px 1px 2px rgba(0, 0, 0, 0.3));\n",
              "      fill: #FFFFFF;\n",
              "    }\n",
              "  </style>\n",
              "\n",
              "      <script>\n",
              "        const buttonEl =\n",
              "          document.querySelector('#df-df53e6aa-b3be-4dca-b0be-168517cc2ffd button.colab-df-convert');\n",
              "        buttonEl.style.display =\n",
              "          google.colab.kernel.accessAllowed ? 'block' : 'none';\n",
              "\n",
              "        async function convertToInteractive(key) {\n",
              "          const element = document.querySelector('#df-df53e6aa-b3be-4dca-b0be-168517cc2ffd');\n",
              "          const dataTable =\n",
              "            await google.colab.kernel.invokeFunction('convertToInteractive',\n",
              "                                                     [key], {});\n",
              "          if (!dataTable) return;\n",
              "\n",
              "          const docLinkHtml = 'Like what you see? Visit the ' +\n",
              "            '<a target=\"_blank\" href=https://colab.research.google.com/notebooks/data_table.ipynb>data table notebook</a>'\n",
              "            + ' to learn more about interactive tables.';\n",
              "          element.innerHTML = '';\n",
              "          dataTable['output_type'] = 'display_data';\n",
              "          await google.colab.output.renderOutput(dataTable, element);\n",
              "          const docLink = document.createElement('div');\n",
              "          docLink.innerHTML = docLinkHtml;\n",
              "          element.appendChild(docLink);\n",
              "        }\n",
              "      </script>\n",
              "    </div>\n",
              "  </div>\n",
              "  "
            ]
          },
          "metadata": {},
          "execution_count": 62
        }
      ]
    },
    {
      "cell_type": "markdown",
      "source": [
        "Creación de índice del dataset y remplaza los valores nulos con 0. "
      ],
      "metadata": {
        "id": "lhB2Sdrc0T-Y"
      }
    },
    {
      "cell_type": "code",
      "source": [
        "grouped_pivot = grouped_pivot.fillna(0) #fill missing values with 0\n",
        "grouped_pivot"
      ],
      "metadata": {
        "colab": {
          "base_uri": "https://localhost:8080/",
          "height": 250
        },
        "id": "EJBmyFBCtsIh",
        "outputId": "af2df77c-736f-40f7-fb3f-b69f58f0d4d2"
      },
      "execution_count": 63,
      "outputs": [
        {
          "output_type": "execute_result",
          "data": {
            "text/plain": [
              "                   price                                            \\\n",
              "body-style   convertible       hardtop     hatchback         sedan   \n",
              "drive-wheels                                                         \n",
              "4wd                  0.0      0.000000   7603.000000  12647.333333   \n",
              "fwd              11595.0   8249.000000   8396.387755   9811.800000   \n",
              "rwd              23949.6  24202.714286  14337.777778  21711.833333   \n",
              "\n",
              "                            \n",
              "body-style           wagon  \n",
              "drive-wheels                \n",
              "4wd            9095.750000  \n",
              "fwd            9997.333333  \n",
              "rwd           16994.222222  "
            ],
            "text/html": [
              "\n",
              "  <div id=\"df-3ebe15d5-b7dd-4039-b00d-c47af85db7b2\">\n",
              "    <div class=\"colab-df-container\">\n",
              "      <div>\n",
              "<style scoped>\n",
              "    .dataframe tbody tr th:only-of-type {\n",
              "        vertical-align: middle;\n",
              "    }\n",
              "\n",
              "    .dataframe tbody tr th {\n",
              "        vertical-align: top;\n",
              "    }\n",
              "\n",
              "    .dataframe thead tr th {\n",
              "        text-align: left;\n",
              "    }\n",
              "\n",
              "    .dataframe thead tr:last-of-type th {\n",
              "        text-align: right;\n",
              "    }\n",
              "</style>\n",
              "<table border=\"1\" class=\"dataframe\">\n",
              "  <thead>\n",
              "    <tr>\n",
              "      <th></th>\n",
              "      <th colspan=\"5\" halign=\"left\">price</th>\n",
              "    </tr>\n",
              "    <tr>\n",
              "      <th>body-style</th>\n",
              "      <th>convertible</th>\n",
              "      <th>hardtop</th>\n",
              "      <th>hatchback</th>\n",
              "      <th>sedan</th>\n",
              "      <th>wagon</th>\n",
              "    </tr>\n",
              "    <tr>\n",
              "      <th>drive-wheels</th>\n",
              "      <th></th>\n",
              "      <th></th>\n",
              "      <th></th>\n",
              "      <th></th>\n",
              "      <th></th>\n",
              "    </tr>\n",
              "  </thead>\n",
              "  <tbody>\n",
              "    <tr>\n",
              "      <th>4wd</th>\n",
              "      <td>0.0</td>\n",
              "      <td>0.000000</td>\n",
              "      <td>7603.000000</td>\n",
              "      <td>12647.333333</td>\n",
              "      <td>9095.750000</td>\n",
              "    </tr>\n",
              "    <tr>\n",
              "      <th>fwd</th>\n",
              "      <td>11595.0</td>\n",
              "      <td>8249.000000</td>\n",
              "      <td>8396.387755</td>\n",
              "      <td>9811.800000</td>\n",
              "      <td>9997.333333</td>\n",
              "    </tr>\n",
              "    <tr>\n",
              "      <th>rwd</th>\n",
              "      <td>23949.6</td>\n",
              "      <td>24202.714286</td>\n",
              "      <td>14337.777778</td>\n",
              "      <td>21711.833333</td>\n",
              "      <td>16994.222222</td>\n",
              "    </tr>\n",
              "  </tbody>\n",
              "</table>\n",
              "</div>\n",
              "      <button class=\"colab-df-convert\" onclick=\"convertToInteractive('df-3ebe15d5-b7dd-4039-b00d-c47af85db7b2')\"\n",
              "              title=\"Convert this dataframe to an interactive table.\"\n",
              "              style=\"display:none;\">\n",
              "        \n",
              "  <svg xmlns=\"http://www.w3.org/2000/svg\" height=\"24px\"viewBox=\"0 0 24 24\"\n",
              "       width=\"24px\">\n",
              "    <path d=\"M0 0h24v24H0V0z\" fill=\"none\"/>\n",
              "    <path d=\"M18.56 5.44l.94 2.06.94-2.06 2.06-.94-2.06-.94-.94-2.06-.94 2.06-2.06.94zm-11 1L8.5 8.5l.94-2.06 2.06-.94-2.06-.94L8.5 2.5l-.94 2.06-2.06.94zm10 10l.94 2.06.94-2.06 2.06-.94-2.06-.94-.94-2.06-.94 2.06-2.06.94z\"/><path d=\"M17.41 7.96l-1.37-1.37c-.4-.4-.92-.59-1.43-.59-.52 0-1.04.2-1.43.59L10.3 9.45l-7.72 7.72c-.78.78-.78 2.05 0 2.83L4 21.41c.39.39.9.59 1.41.59.51 0 1.02-.2 1.41-.59l7.78-7.78 2.81-2.81c.8-.78.8-2.07 0-2.86zM5.41 20L4 18.59l7.72-7.72 1.47 1.35L5.41 20z\"/>\n",
              "  </svg>\n",
              "      </button>\n",
              "      \n",
              "  <style>\n",
              "    .colab-df-container {\n",
              "      display:flex;\n",
              "      flex-wrap:wrap;\n",
              "      gap: 12px;\n",
              "    }\n",
              "\n",
              "    .colab-df-convert {\n",
              "      background-color: #E8F0FE;\n",
              "      border: none;\n",
              "      border-radius: 50%;\n",
              "      cursor: pointer;\n",
              "      display: none;\n",
              "      fill: #1967D2;\n",
              "      height: 32px;\n",
              "      padding: 0 0 0 0;\n",
              "      width: 32px;\n",
              "    }\n",
              "\n",
              "    .colab-df-convert:hover {\n",
              "      background-color: #E2EBFA;\n",
              "      box-shadow: 0px 1px 2px rgba(60, 64, 67, 0.3), 0px 1px 3px 1px rgba(60, 64, 67, 0.15);\n",
              "      fill: #174EA6;\n",
              "    }\n",
              "\n",
              "    [theme=dark] .colab-df-convert {\n",
              "      background-color: #3B4455;\n",
              "      fill: #D2E3FC;\n",
              "    }\n",
              "\n",
              "    [theme=dark] .colab-df-convert:hover {\n",
              "      background-color: #434B5C;\n",
              "      box-shadow: 0px 1px 3px 1px rgba(0, 0, 0, 0.15);\n",
              "      filter: drop-shadow(0px 1px 2px rgba(0, 0, 0, 0.3));\n",
              "      fill: #FFFFFF;\n",
              "    }\n",
              "  </style>\n",
              "\n",
              "      <script>\n",
              "        const buttonEl =\n",
              "          document.querySelector('#df-3ebe15d5-b7dd-4039-b00d-c47af85db7b2 button.colab-df-convert');\n",
              "        buttonEl.style.display =\n",
              "          google.colab.kernel.accessAllowed ? 'block' : 'none';\n",
              "\n",
              "        async function convertToInteractive(key) {\n",
              "          const element = document.querySelector('#df-3ebe15d5-b7dd-4039-b00d-c47af85db7b2');\n",
              "          const dataTable =\n",
              "            await google.colab.kernel.invokeFunction('convertToInteractive',\n",
              "                                                     [key], {});\n",
              "          if (!dataTable) return;\n",
              "\n",
              "          const docLinkHtml = 'Like what you see? Visit the ' +\n",
              "            '<a target=\"_blank\" href=https://colab.research.google.com/notebooks/data_table.ipynb>data table notebook</a>'\n",
              "            + ' to learn more about interactive tables.';\n",
              "          element.innerHTML = '';\n",
              "          dataTable['output_type'] = 'display_data';\n",
              "          await google.colab.output.renderOutput(dataTable, element);\n",
              "          const docLink = document.createElement('div');\n",
              "          docLink.innerHTML = docLinkHtml;\n",
              "          element.appendChild(docLink);\n",
              "        }\n",
              "      </script>\n",
              "    </div>\n",
              "  </div>\n",
              "  "
            ]
          },
          "metadata": {},
          "execution_count": 63
        }
      ]
    },
    {
      "cell_type": "markdown",
      "source": [
        "#####Correlation and Causation\n",
        "\n",
        "Correlación: una medida del grado de interdependencia entre variables.\n",
        "\n",
        "Causalidad: la relación entre causa y efecto entre dos variables.\n",
        "\n",
        "Es importante saber la diferencia entre estos dos. La correlación no implica causa. Determinar la correlación es mucho más simple que determinar la causalidad, ya que la causalidad puede requerir una experimentación independiente.\n",
        "\n",
        "correlación de Pearson\n",
        "\n",
        "La Correlación de Pearson mide la dependencia lineal entre dos variables X, Y.\n",
        "\n",
        "El coeficiente resultante es un valor entre -1 y 1 inclusive, donde:\n",
        "\n",
        "1: Correlación lineal positiva perfecta.\n",
        "0: Sin correlación lineal, lo más probable es que las dos variables no se afecten entre sí.\n",
        "-1: Correlación lineal negativa perfecta.\n",
        "\n",
        "valor P\n",
        "\n",
        "¿Cuál es este valor P? El valor P es el valor de probabilidad de que la correlación entre estas dos variables sea estadísticamente significativa. Normalmente, elegimos un nivel de significancia de 0.05, lo que significa que estamos 95% seguros de que la correlación entre las variables es significativa."
      ],
      "metadata": {
        "id": "TFf8XFDBtvbK"
      }
    },
    {
      "cell_type": "code",
      "source": [
        "df.corr()"
      ],
      "metadata": {
        "colab": {
          "base_uri": "https://localhost:8080/",
          "height": 761
        },
        "id": "Cp-hoBGxtukJ",
        "outputId": "95c99c68-6cc2-4ac1-ae03-0e9b10b184e8"
      },
      "execution_count": 65,
      "outputs": [
        {
          "output_type": "execute_result",
          "data": {
            "text/plain": [
              "                   symboling  normalized-losses  wheel-base    length  \\\n",
              "symboling           1.000000           0.466264   -0.535987 -0.365404   \n",
              "normalized-losses   0.466264           1.000000   -0.056661  0.019424   \n",
              "wheel-base         -0.535987          -0.056661    1.000000  0.876024   \n",
              "length             -0.365404           0.019424    0.876024  1.000000   \n",
              "width              -0.242423           0.086802    0.814507  0.857170   \n",
              "height             -0.550160          -0.373737    0.590742  0.492063   \n",
              "curb-weight        -0.233118           0.099404    0.782097  0.880665   \n",
              "engine-size        -0.110581           0.112360    0.572027  0.685025   \n",
              "bore               -0.140019          -0.029862    0.493244  0.608971   \n",
              "stroke             -0.008245           0.055563    0.158502  0.124139   \n",
              "compression-ratio  -0.182196          -0.114713    0.250313  0.159733   \n",
              "horsepower          0.075819           0.217299    0.371147  0.579821   \n",
              "peak-rpm            0.279740           0.239543   -0.360305 -0.285970   \n",
              "city-mpg           -0.035527          -0.225016   -0.470606 -0.665192   \n",
              "highway-mpg         0.036233          -0.181877   -0.543304 -0.698142   \n",
              "price              -0.082391           0.133999    0.584642  0.690628   \n",
              "city-L/100km        0.066171           0.238567    0.476153  0.657373   \n",
              "diesel             -0.196735          -0.101546    0.307237  0.211187   \n",
              "gas                 0.196735           0.101546   -0.307237 -0.211187   \n",
              "\n",
              "                      width    height  curb-weight  engine-size      bore  \\\n",
              "symboling         -0.242423 -0.550160    -0.233118    -0.110581 -0.140019   \n",
              "normalized-losses  0.086802 -0.373737     0.099404     0.112360 -0.029862   \n",
              "wheel-base         0.814507  0.590742     0.782097     0.572027  0.493244   \n",
              "length             0.857170  0.492063     0.880665     0.685025  0.608971   \n",
              "width              1.000000  0.306002     0.866201     0.729436  0.544885   \n",
              "height             0.306002  1.000000     0.307581     0.074694  0.180449   \n",
              "curb-weight        0.866201  0.307581     1.000000     0.849072  0.644060   \n",
              "engine-size        0.729436  0.074694     0.849072     1.000000  0.572609   \n",
              "bore               0.544885  0.180449     0.644060     0.572609  1.000000   \n",
              "stroke             0.188829 -0.062704     0.167562     0.209523 -0.055390   \n",
              "compression-ratio  0.189867  0.259737     0.156433     0.028889  0.001263   \n",
              "horsepower         0.615077 -0.087027     0.757976     0.822676  0.566936   \n",
              "peak-rpm          -0.245800 -0.309974    -0.279361    -0.256733 -0.267392   \n",
              "city-mpg          -0.633531 -0.049800    -0.749543    -0.650546 -0.582027   \n",
              "highway-mpg       -0.680635 -0.104812    -0.794889    -0.679571 -0.591309   \n",
              "price              0.751265  0.135486     0.834415     0.872335  0.543155   \n",
              "city-L/100km       0.673363  0.003811     0.785353     0.745059  0.554610   \n",
              "diesel             0.244356  0.281578     0.221046     0.070779  0.054458   \n",
              "gas               -0.244356 -0.281578    -0.221046    -0.070779 -0.054458   \n",
              "\n",
              "                     stroke  compression-ratio  horsepower  peak-rpm  \\\n",
              "symboling         -0.008245          -0.182196    0.075819  0.279740   \n",
              "normalized-losses  0.055563          -0.114713    0.217299  0.239543   \n",
              "wheel-base         0.158502           0.250313    0.371147 -0.360305   \n",
              "length             0.124139           0.159733    0.579821 -0.285970   \n",
              "width              0.188829           0.189867    0.615077 -0.245800   \n",
              "height            -0.062704           0.259737   -0.087027 -0.309974   \n",
              "curb-weight        0.167562           0.156433    0.757976 -0.279361   \n",
              "engine-size        0.209523           0.028889    0.822676 -0.256733   \n",
              "bore              -0.055390           0.001263    0.566936 -0.267392   \n",
              "stroke             1.000000           0.187923    0.098462 -0.065713   \n",
              "compression-ratio  0.187923           1.000000   -0.214514 -0.435780   \n",
              "horsepower         0.098462          -0.214514    1.000000  0.107885   \n",
              "peak-rpm          -0.065713          -0.435780    0.107885  1.000000   \n",
              "city-mpg          -0.034696           0.331425   -0.822214 -0.115413   \n",
              "highway-mpg       -0.035201           0.268465   -0.804575 -0.058598   \n",
              "price              0.082310           0.071107    0.809575 -0.101616   \n",
              "city-L/100km       0.037300          -0.299372    0.889488  0.115830   \n",
              "diesel             0.241303           0.985231   -0.169053 -0.475812   \n",
              "gas               -0.241303          -0.985231    0.169053  0.475812   \n",
              "\n",
              "                   city-mpg  highway-mpg     price  city-L/100km    diesel  \\\n",
              "symboling         -0.035527     0.036233 -0.082391      0.066171 -0.196735   \n",
              "normalized-losses -0.225016    -0.181877  0.133999      0.238567 -0.101546   \n",
              "wheel-base        -0.470606    -0.543304  0.584642      0.476153  0.307237   \n",
              "length            -0.665192    -0.698142  0.690628      0.657373  0.211187   \n",
              "width             -0.633531    -0.680635  0.751265      0.673363  0.244356   \n",
              "height            -0.049800    -0.104812  0.135486      0.003811  0.281578   \n",
              "curb-weight       -0.749543    -0.794889  0.834415      0.785353  0.221046   \n",
              "engine-size       -0.650546    -0.679571  0.872335      0.745059  0.070779   \n",
              "bore              -0.582027    -0.591309  0.543155      0.554610  0.054458   \n",
              "stroke            -0.034696    -0.035201  0.082310      0.037300  0.241303   \n",
              "compression-ratio  0.331425     0.268465  0.071107     -0.299372  0.985231   \n",
              "horsepower        -0.822214    -0.804575  0.809575      0.889488 -0.169053   \n",
              "peak-rpm          -0.115413    -0.058598 -0.101616      0.115830 -0.475812   \n",
              "city-mpg           1.000000     0.972044 -0.686571     -0.949713  0.265676   \n",
              "highway-mpg        0.972044     1.000000 -0.704692     -0.930028  0.198690   \n",
              "price             -0.686571    -0.704692  1.000000      0.789898  0.110326   \n",
              "city-L/100km      -0.949713    -0.930028  0.789898      1.000000 -0.241282   \n",
              "diesel             0.265676     0.198690  0.110326     -0.241282  1.000000   \n",
              "gas               -0.265676    -0.198690 -0.110326      0.241282 -1.000000   \n",
              "\n",
              "                        gas  \n",
              "symboling          0.196735  \n",
              "normalized-losses  0.101546  \n",
              "wheel-base        -0.307237  \n",
              "length            -0.211187  \n",
              "width             -0.244356  \n",
              "height            -0.281578  \n",
              "curb-weight       -0.221046  \n",
              "engine-size       -0.070779  \n",
              "bore              -0.054458  \n",
              "stroke            -0.241303  \n",
              "compression-ratio -0.985231  \n",
              "horsepower         0.169053  \n",
              "peak-rpm           0.475812  \n",
              "city-mpg          -0.265676  \n",
              "highway-mpg       -0.198690  \n",
              "price             -0.110326  \n",
              "city-L/100km       0.241282  \n",
              "diesel            -1.000000  \n",
              "gas                1.000000  "
            ],
            "text/html": [
              "\n",
              "  <div id=\"df-44716c8e-e85c-4eee-a823-90c7c52c2cf3\">\n",
              "    <div class=\"colab-df-container\">\n",
              "      <div>\n",
              "<style scoped>\n",
              "    .dataframe tbody tr th:only-of-type {\n",
              "        vertical-align: middle;\n",
              "    }\n",
              "\n",
              "    .dataframe tbody tr th {\n",
              "        vertical-align: top;\n",
              "    }\n",
              "\n",
              "    .dataframe thead th {\n",
              "        text-align: right;\n",
              "    }\n",
              "</style>\n",
              "<table border=\"1\" class=\"dataframe\">\n",
              "  <thead>\n",
              "    <tr style=\"text-align: right;\">\n",
              "      <th></th>\n",
              "      <th>symboling</th>\n",
              "      <th>normalized-losses</th>\n",
              "      <th>wheel-base</th>\n",
              "      <th>length</th>\n",
              "      <th>width</th>\n",
              "      <th>height</th>\n",
              "      <th>curb-weight</th>\n",
              "      <th>engine-size</th>\n",
              "      <th>bore</th>\n",
              "      <th>stroke</th>\n",
              "      <th>compression-ratio</th>\n",
              "      <th>horsepower</th>\n",
              "      <th>peak-rpm</th>\n",
              "      <th>city-mpg</th>\n",
              "      <th>highway-mpg</th>\n",
              "      <th>price</th>\n",
              "      <th>city-L/100km</th>\n",
              "      <th>diesel</th>\n",
              "      <th>gas</th>\n",
              "    </tr>\n",
              "  </thead>\n",
              "  <tbody>\n",
              "    <tr>\n",
              "      <th>symboling</th>\n",
              "      <td>1.000000</td>\n",
              "      <td>0.466264</td>\n",
              "      <td>-0.535987</td>\n",
              "      <td>-0.365404</td>\n",
              "      <td>-0.242423</td>\n",
              "      <td>-0.550160</td>\n",
              "      <td>-0.233118</td>\n",
              "      <td>-0.110581</td>\n",
              "      <td>-0.140019</td>\n",
              "      <td>-0.008245</td>\n",
              "      <td>-0.182196</td>\n",
              "      <td>0.075819</td>\n",
              "      <td>0.279740</td>\n",
              "      <td>-0.035527</td>\n",
              "      <td>0.036233</td>\n",
              "      <td>-0.082391</td>\n",
              "      <td>0.066171</td>\n",
              "      <td>-0.196735</td>\n",
              "      <td>0.196735</td>\n",
              "    </tr>\n",
              "    <tr>\n",
              "      <th>normalized-losses</th>\n",
              "      <td>0.466264</td>\n",
              "      <td>1.000000</td>\n",
              "      <td>-0.056661</td>\n",
              "      <td>0.019424</td>\n",
              "      <td>0.086802</td>\n",
              "      <td>-0.373737</td>\n",
              "      <td>0.099404</td>\n",
              "      <td>0.112360</td>\n",
              "      <td>-0.029862</td>\n",
              "      <td>0.055563</td>\n",
              "      <td>-0.114713</td>\n",
              "      <td>0.217299</td>\n",
              "      <td>0.239543</td>\n",
              "      <td>-0.225016</td>\n",
              "      <td>-0.181877</td>\n",
              "      <td>0.133999</td>\n",
              "      <td>0.238567</td>\n",
              "      <td>-0.101546</td>\n",
              "      <td>0.101546</td>\n",
              "    </tr>\n",
              "    <tr>\n",
              "      <th>wheel-base</th>\n",
              "      <td>-0.535987</td>\n",
              "      <td>-0.056661</td>\n",
              "      <td>1.000000</td>\n",
              "      <td>0.876024</td>\n",
              "      <td>0.814507</td>\n",
              "      <td>0.590742</td>\n",
              "      <td>0.782097</td>\n",
              "      <td>0.572027</td>\n",
              "      <td>0.493244</td>\n",
              "      <td>0.158502</td>\n",
              "      <td>0.250313</td>\n",
              "      <td>0.371147</td>\n",
              "      <td>-0.360305</td>\n",
              "      <td>-0.470606</td>\n",
              "      <td>-0.543304</td>\n",
              "      <td>0.584642</td>\n",
              "      <td>0.476153</td>\n",
              "      <td>0.307237</td>\n",
              "      <td>-0.307237</td>\n",
              "    </tr>\n",
              "    <tr>\n",
              "      <th>length</th>\n",
              "      <td>-0.365404</td>\n",
              "      <td>0.019424</td>\n",
              "      <td>0.876024</td>\n",
              "      <td>1.000000</td>\n",
              "      <td>0.857170</td>\n",
              "      <td>0.492063</td>\n",
              "      <td>0.880665</td>\n",
              "      <td>0.685025</td>\n",
              "      <td>0.608971</td>\n",
              "      <td>0.124139</td>\n",
              "      <td>0.159733</td>\n",
              "      <td>0.579821</td>\n",
              "      <td>-0.285970</td>\n",
              "      <td>-0.665192</td>\n",
              "      <td>-0.698142</td>\n",
              "      <td>0.690628</td>\n",
              "      <td>0.657373</td>\n",
              "      <td>0.211187</td>\n",
              "      <td>-0.211187</td>\n",
              "    </tr>\n",
              "    <tr>\n",
              "      <th>width</th>\n",
              "      <td>-0.242423</td>\n",
              "      <td>0.086802</td>\n",
              "      <td>0.814507</td>\n",
              "      <td>0.857170</td>\n",
              "      <td>1.000000</td>\n",
              "      <td>0.306002</td>\n",
              "      <td>0.866201</td>\n",
              "      <td>0.729436</td>\n",
              "      <td>0.544885</td>\n",
              "      <td>0.188829</td>\n",
              "      <td>0.189867</td>\n",
              "      <td>0.615077</td>\n",
              "      <td>-0.245800</td>\n",
              "      <td>-0.633531</td>\n",
              "      <td>-0.680635</td>\n",
              "      <td>0.751265</td>\n",
              "      <td>0.673363</td>\n",
              "      <td>0.244356</td>\n",
              "      <td>-0.244356</td>\n",
              "    </tr>\n",
              "    <tr>\n",
              "      <th>height</th>\n",
              "      <td>-0.550160</td>\n",
              "      <td>-0.373737</td>\n",
              "      <td>0.590742</td>\n",
              "      <td>0.492063</td>\n",
              "      <td>0.306002</td>\n",
              "      <td>1.000000</td>\n",
              "      <td>0.307581</td>\n",
              "      <td>0.074694</td>\n",
              "      <td>0.180449</td>\n",
              "      <td>-0.062704</td>\n",
              "      <td>0.259737</td>\n",
              "      <td>-0.087027</td>\n",
              "      <td>-0.309974</td>\n",
              "      <td>-0.049800</td>\n",
              "      <td>-0.104812</td>\n",
              "      <td>0.135486</td>\n",
              "      <td>0.003811</td>\n",
              "      <td>0.281578</td>\n",
              "      <td>-0.281578</td>\n",
              "    </tr>\n",
              "    <tr>\n",
              "      <th>curb-weight</th>\n",
              "      <td>-0.233118</td>\n",
              "      <td>0.099404</td>\n",
              "      <td>0.782097</td>\n",
              "      <td>0.880665</td>\n",
              "      <td>0.866201</td>\n",
              "      <td>0.307581</td>\n",
              "      <td>1.000000</td>\n",
              "      <td>0.849072</td>\n",
              "      <td>0.644060</td>\n",
              "      <td>0.167562</td>\n",
              "      <td>0.156433</td>\n",
              "      <td>0.757976</td>\n",
              "      <td>-0.279361</td>\n",
              "      <td>-0.749543</td>\n",
              "      <td>-0.794889</td>\n",
              "      <td>0.834415</td>\n",
              "      <td>0.785353</td>\n",
              "      <td>0.221046</td>\n",
              "      <td>-0.221046</td>\n",
              "    </tr>\n",
              "    <tr>\n",
              "      <th>engine-size</th>\n",
              "      <td>-0.110581</td>\n",
              "      <td>0.112360</td>\n",
              "      <td>0.572027</td>\n",
              "      <td>0.685025</td>\n",
              "      <td>0.729436</td>\n",
              "      <td>0.074694</td>\n",
              "      <td>0.849072</td>\n",
              "      <td>1.000000</td>\n",
              "      <td>0.572609</td>\n",
              "      <td>0.209523</td>\n",
              "      <td>0.028889</td>\n",
              "      <td>0.822676</td>\n",
              "      <td>-0.256733</td>\n",
              "      <td>-0.650546</td>\n",
              "      <td>-0.679571</td>\n",
              "      <td>0.872335</td>\n",
              "      <td>0.745059</td>\n",
              "      <td>0.070779</td>\n",
              "      <td>-0.070779</td>\n",
              "    </tr>\n",
              "    <tr>\n",
              "      <th>bore</th>\n",
              "      <td>-0.140019</td>\n",
              "      <td>-0.029862</td>\n",
              "      <td>0.493244</td>\n",
              "      <td>0.608971</td>\n",
              "      <td>0.544885</td>\n",
              "      <td>0.180449</td>\n",
              "      <td>0.644060</td>\n",
              "      <td>0.572609</td>\n",
              "      <td>1.000000</td>\n",
              "      <td>-0.055390</td>\n",
              "      <td>0.001263</td>\n",
              "      <td>0.566936</td>\n",
              "      <td>-0.267392</td>\n",
              "      <td>-0.582027</td>\n",
              "      <td>-0.591309</td>\n",
              "      <td>0.543155</td>\n",
              "      <td>0.554610</td>\n",
              "      <td>0.054458</td>\n",
              "      <td>-0.054458</td>\n",
              "    </tr>\n",
              "    <tr>\n",
              "      <th>stroke</th>\n",
              "      <td>-0.008245</td>\n",
              "      <td>0.055563</td>\n",
              "      <td>0.158502</td>\n",
              "      <td>0.124139</td>\n",
              "      <td>0.188829</td>\n",
              "      <td>-0.062704</td>\n",
              "      <td>0.167562</td>\n",
              "      <td>0.209523</td>\n",
              "      <td>-0.055390</td>\n",
              "      <td>1.000000</td>\n",
              "      <td>0.187923</td>\n",
              "      <td>0.098462</td>\n",
              "      <td>-0.065713</td>\n",
              "      <td>-0.034696</td>\n",
              "      <td>-0.035201</td>\n",
              "      <td>0.082310</td>\n",
              "      <td>0.037300</td>\n",
              "      <td>0.241303</td>\n",
              "      <td>-0.241303</td>\n",
              "    </tr>\n",
              "    <tr>\n",
              "      <th>compression-ratio</th>\n",
              "      <td>-0.182196</td>\n",
              "      <td>-0.114713</td>\n",
              "      <td>0.250313</td>\n",
              "      <td>0.159733</td>\n",
              "      <td>0.189867</td>\n",
              "      <td>0.259737</td>\n",
              "      <td>0.156433</td>\n",
              "      <td>0.028889</td>\n",
              "      <td>0.001263</td>\n",
              "      <td>0.187923</td>\n",
              "      <td>1.000000</td>\n",
              "      <td>-0.214514</td>\n",
              "      <td>-0.435780</td>\n",
              "      <td>0.331425</td>\n",
              "      <td>0.268465</td>\n",
              "      <td>0.071107</td>\n",
              "      <td>-0.299372</td>\n",
              "      <td>0.985231</td>\n",
              "      <td>-0.985231</td>\n",
              "    </tr>\n",
              "    <tr>\n",
              "      <th>horsepower</th>\n",
              "      <td>0.075819</td>\n",
              "      <td>0.217299</td>\n",
              "      <td>0.371147</td>\n",
              "      <td>0.579821</td>\n",
              "      <td>0.615077</td>\n",
              "      <td>-0.087027</td>\n",
              "      <td>0.757976</td>\n",
              "      <td>0.822676</td>\n",
              "      <td>0.566936</td>\n",
              "      <td>0.098462</td>\n",
              "      <td>-0.214514</td>\n",
              "      <td>1.000000</td>\n",
              "      <td>0.107885</td>\n",
              "      <td>-0.822214</td>\n",
              "      <td>-0.804575</td>\n",
              "      <td>0.809575</td>\n",
              "      <td>0.889488</td>\n",
              "      <td>-0.169053</td>\n",
              "      <td>0.169053</td>\n",
              "    </tr>\n",
              "    <tr>\n",
              "      <th>peak-rpm</th>\n",
              "      <td>0.279740</td>\n",
              "      <td>0.239543</td>\n",
              "      <td>-0.360305</td>\n",
              "      <td>-0.285970</td>\n",
              "      <td>-0.245800</td>\n",
              "      <td>-0.309974</td>\n",
              "      <td>-0.279361</td>\n",
              "      <td>-0.256733</td>\n",
              "      <td>-0.267392</td>\n",
              "      <td>-0.065713</td>\n",
              "      <td>-0.435780</td>\n",
              "      <td>0.107885</td>\n",
              "      <td>1.000000</td>\n",
              "      <td>-0.115413</td>\n",
              "      <td>-0.058598</td>\n",
              "      <td>-0.101616</td>\n",
              "      <td>0.115830</td>\n",
              "      <td>-0.475812</td>\n",
              "      <td>0.475812</td>\n",
              "    </tr>\n",
              "    <tr>\n",
              "      <th>city-mpg</th>\n",
              "      <td>-0.035527</td>\n",
              "      <td>-0.225016</td>\n",
              "      <td>-0.470606</td>\n",
              "      <td>-0.665192</td>\n",
              "      <td>-0.633531</td>\n",
              "      <td>-0.049800</td>\n",
              "      <td>-0.749543</td>\n",
              "      <td>-0.650546</td>\n",
              "      <td>-0.582027</td>\n",
              "      <td>-0.034696</td>\n",
              "      <td>0.331425</td>\n",
              "      <td>-0.822214</td>\n",
              "      <td>-0.115413</td>\n",
              "      <td>1.000000</td>\n",
              "      <td>0.972044</td>\n",
              "      <td>-0.686571</td>\n",
              "      <td>-0.949713</td>\n",
              "      <td>0.265676</td>\n",
              "      <td>-0.265676</td>\n",
              "    </tr>\n",
              "    <tr>\n",
              "      <th>highway-mpg</th>\n",
              "      <td>0.036233</td>\n",
              "      <td>-0.181877</td>\n",
              "      <td>-0.543304</td>\n",
              "      <td>-0.698142</td>\n",
              "      <td>-0.680635</td>\n",
              "      <td>-0.104812</td>\n",
              "      <td>-0.794889</td>\n",
              "      <td>-0.679571</td>\n",
              "      <td>-0.591309</td>\n",
              "      <td>-0.035201</td>\n",
              "      <td>0.268465</td>\n",
              "      <td>-0.804575</td>\n",
              "      <td>-0.058598</td>\n",
              "      <td>0.972044</td>\n",
              "      <td>1.000000</td>\n",
              "      <td>-0.704692</td>\n",
              "      <td>-0.930028</td>\n",
              "      <td>0.198690</td>\n",
              "      <td>-0.198690</td>\n",
              "    </tr>\n",
              "    <tr>\n",
              "      <th>price</th>\n",
              "      <td>-0.082391</td>\n",
              "      <td>0.133999</td>\n",
              "      <td>0.584642</td>\n",
              "      <td>0.690628</td>\n",
              "      <td>0.751265</td>\n",
              "      <td>0.135486</td>\n",
              "      <td>0.834415</td>\n",
              "      <td>0.872335</td>\n",
              "      <td>0.543155</td>\n",
              "      <td>0.082310</td>\n",
              "      <td>0.071107</td>\n",
              "      <td>0.809575</td>\n",
              "      <td>-0.101616</td>\n",
              "      <td>-0.686571</td>\n",
              "      <td>-0.704692</td>\n",
              "      <td>1.000000</td>\n",
              "      <td>0.789898</td>\n",
              "      <td>0.110326</td>\n",
              "      <td>-0.110326</td>\n",
              "    </tr>\n",
              "    <tr>\n",
              "      <th>city-L/100km</th>\n",
              "      <td>0.066171</td>\n",
              "      <td>0.238567</td>\n",
              "      <td>0.476153</td>\n",
              "      <td>0.657373</td>\n",
              "      <td>0.673363</td>\n",
              "      <td>0.003811</td>\n",
              "      <td>0.785353</td>\n",
              "      <td>0.745059</td>\n",
              "      <td>0.554610</td>\n",
              "      <td>0.037300</td>\n",
              "      <td>-0.299372</td>\n",
              "      <td>0.889488</td>\n",
              "      <td>0.115830</td>\n",
              "      <td>-0.949713</td>\n",
              "      <td>-0.930028</td>\n",
              "      <td>0.789898</td>\n",
              "      <td>1.000000</td>\n",
              "      <td>-0.241282</td>\n",
              "      <td>0.241282</td>\n",
              "    </tr>\n",
              "    <tr>\n",
              "      <th>diesel</th>\n",
              "      <td>-0.196735</td>\n",
              "      <td>-0.101546</td>\n",
              "      <td>0.307237</td>\n",
              "      <td>0.211187</td>\n",
              "      <td>0.244356</td>\n",
              "      <td>0.281578</td>\n",
              "      <td>0.221046</td>\n",
              "      <td>0.070779</td>\n",
              "      <td>0.054458</td>\n",
              "      <td>0.241303</td>\n",
              "      <td>0.985231</td>\n",
              "      <td>-0.169053</td>\n",
              "      <td>-0.475812</td>\n",
              "      <td>0.265676</td>\n",
              "      <td>0.198690</td>\n",
              "      <td>0.110326</td>\n",
              "      <td>-0.241282</td>\n",
              "      <td>1.000000</td>\n",
              "      <td>-1.000000</td>\n",
              "    </tr>\n",
              "    <tr>\n",
              "      <th>gas</th>\n",
              "      <td>0.196735</td>\n",
              "      <td>0.101546</td>\n",
              "      <td>-0.307237</td>\n",
              "      <td>-0.211187</td>\n",
              "      <td>-0.244356</td>\n",
              "      <td>-0.281578</td>\n",
              "      <td>-0.221046</td>\n",
              "      <td>-0.070779</td>\n",
              "      <td>-0.054458</td>\n",
              "      <td>-0.241303</td>\n",
              "      <td>-0.985231</td>\n",
              "      <td>0.169053</td>\n",
              "      <td>0.475812</td>\n",
              "      <td>-0.265676</td>\n",
              "      <td>-0.198690</td>\n",
              "      <td>-0.110326</td>\n",
              "      <td>0.241282</td>\n",
              "      <td>-1.000000</td>\n",
              "      <td>1.000000</td>\n",
              "    </tr>\n",
              "  </tbody>\n",
              "</table>\n",
              "</div>\n",
              "      <button class=\"colab-df-convert\" onclick=\"convertToInteractive('df-44716c8e-e85c-4eee-a823-90c7c52c2cf3')\"\n",
              "              title=\"Convert this dataframe to an interactive table.\"\n",
              "              style=\"display:none;\">\n",
              "        \n",
              "  <svg xmlns=\"http://www.w3.org/2000/svg\" height=\"24px\"viewBox=\"0 0 24 24\"\n",
              "       width=\"24px\">\n",
              "    <path d=\"M0 0h24v24H0V0z\" fill=\"none\"/>\n",
              "    <path d=\"M18.56 5.44l.94 2.06.94-2.06 2.06-.94-2.06-.94-.94-2.06-.94 2.06-2.06.94zm-11 1L8.5 8.5l.94-2.06 2.06-.94-2.06-.94L8.5 2.5l-.94 2.06-2.06.94zm10 10l.94 2.06.94-2.06 2.06-.94-2.06-.94-.94-2.06-.94 2.06-2.06.94z\"/><path d=\"M17.41 7.96l-1.37-1.37c-.4-.4-.92-.59-1.43-.59-.52 0-1.04.2-1.43.59L10.3 9.45l-7.72 7.72c-.78.78-.78 2.05 0 2.83L4 21.41c.39.39.9.59 1.41.59.51 0 1.02-.2 1.41-.59l7.78-7.78 2.81-2.81c.8-.78.8-2.07 0-2.86zM5.41 20L4 18.59l7.72-7.72 1.47 1.35L5.41 20z\"/>\n",
              "  </svg>\n",
              "      </button>\n",
              "      \n",
              "  <style>\n",
              "    .colab-df-container {\n",
              "      display:flex;\n",
              "      flex-wrap:wrap;\n",
              "      gap: 12px;\n",
              "    }\n",
              "\n",
              "    .colab-df-convert {\n",
              "      background-color: #E8F0FE;\n",
              "      border: none;\n",
              "      border-radius: 50%;\n",
              "      cursor: pointer;\n",
              "      display: none;\n",
              "      fill: #1967D2;\n",
              "      height: 32px;\n",
              "      padding: 0 0 0 0;\n",
              "      width: 32px;\n",
              "    }\n",
              "\n",
              "    .colab-df-convert:hover {\n",
              "      background-color: #E2EBFA;\n",
              "      box-shadow: 0px 1px 2px rgba(60, 64, 67, 0.3), 0px 1px 3px 1px rgba(60, 64, 67, 0.15);\n",
              "      fill: #174EA6;\n",
              "    }\n",
              "\n",
              "    [theme=dark] .colab-df-convert {\n",
              "      background-color: #3B4455;\n",
              "      fill: #D2E3FC;\n",
              "    }\n",
              "\n",
              "    [theme=dark] .colab-df-convert:hover {\n",
              "      background-color: #434B5C;\n",
              "      box-shadow: 0px 1px 3px 1px rgba(0, 0, 0, 0.15);\n",
              "      filter: drop-shadow(0px 1px 2px rgba(0, 0, 0, 0.3));\n",
              "      fill: #FFFFFF;\n",
              "    }\n",
              "  </style>\n",
              "\n",
              "      <script>\n",
              "        const buttonEl =\n",
              "          document.querySelector('#df-44716c8e-e85c-4eee-a823-90c7c52c2cf3 button.colab-df-convert');\n",
              "        buttonEl.style.display =\n",
              "          google.colab.kernel.accessAllowed ? 'block' : 'none';\n",
              "\n",
              "        async function convertToInteractive(key) {\n",
              "          const element = document.querySelector('#df-44716c8e-e85c-4eee-a823-90c7c52c2cf3');\n",
              "          const dataTable =\n",
              "            await google.colab.kernel.invokeFunction('convertToInteractive',\n",
              "                                                     [key], {});\n",
              "          if (!dataTable) return;\n",
              "\n",
              "          const docLinkHtml = 'Like what you see? Visit the ' +\n",
              "            '<a target=\"_blank\" href=https://colab.research.google.com/notebooks/data_table.ipynb>data table notebook</a>'\n",
              "            + ' to learn more about interactive tables.';\n",
              "          element.innerHTML = '';\n",
              "          dataTable['output_type'] = 'display_data';\n",
              "          await google.colab.output.renderOutput(dataTable, element);\n",
              "          const docLink = document.createElement('div');\n",
              "          docLink.innerHTML = docLinkHtml;\n",
              "          element.appendChild(docLink);\n",
              "        }\n",
              "      </script>\n",
              "    </div>\n",
              "  </div>\n",
              "  "
            ]
          },
          "metadata": {},
          "execution_count": 65
        }
      ]
    },
    {
      "cell_type": "code",
      "source": [
        "from scipy import stats"
      ],
      "metadata": {
        "id": "SGsk4323tybb"
      },
      "execution_count": 64,
      "outputs": []
    },
    {
      "cell_type": "markdown",
      "source": [
        "Calculemos el coeficiente de correlación d y el valor P de 'distancia entre ejes' y 'precio"
      ],
      "metadata": {
        "id": "y8Gn4It309J7"
      }
    },
    {
      "cell_type": "code",
      "source": [
        "pearson_coef, p_value = stats.pearsonr(df['wheel-base'], df['price'])\n",
        "print(\"The Pearson Correlation Coefficient is\", pearson_coef, \" with a P-value of P =\", p_value) "
      ],
      "metadata": {
        "colab": {
          "base_uri": "https://localhost:8080/"
        },
        "id": "0ISAuxeuuUdS",
        "outputId": "5935b33f-c7df-4750-c4fa-81cc8111d039"
      },
      "execution_count": 69,
      "outputs": [
        {
          "output_type": "stream",
          "name": "stdout",
          "text": [
            "The Pearson Correlation Coefficient is 0.584641822265508  with a P-value of P = 8.076488270733218e-20\n"
          ]
        }
      ]
    },
    {
      "cell_type": "markdown",
      "source": [
        "###Model Development"
      ],
      "metadata": {
        "id": "G5D0fFCp1EnH"
      }
    },
    {
      "cell_type": "code",
      "source": [
        "import pandas as pd\n",
        "import numpy as np\n",
        "import matplotlib.pyplot as plt"
      ],
      "metadata": {
        "id": "bTUz_xGk1JOJ"
      },
      "execution_count": 70,
      "outputs": []
    },
    {
      "cell_type": "markdown",
      "source": [
        "Creación de objeto de tipos regresión linear"
      ],
      "metadata": {
        "id": "jz8NJ0l86DUt"
      }
    },
    {
      "cell_type": "code",
      "source": [
        "df = pd.read_csv(filename)\n",
        "df.head()"
      ],
      "metadata": {
        "colab": {
          "base_uri": "https://localhost:8080/",
          "height": 386
        },
        "id": "G9q9DG1-1N1M",
        "outputId": "7aff3c9c-77f9-4e1d-9729-e46d6468c1c7"
      },
      "execution_count": 72,
      "outputs": [
        {
          "output_type": "execute_result",
          "data": {
            "text/plain": [
              "   symboling  normalized-losses         make aspiration num-of-doors  \\\n",
              "0          3                122  alfa-romero        std          two   \n",
              "1          3                122  alfa-romero        std          two   \n",
              "2          1                122  alfa-romero        std          two   \n",
              "3          2                164         audi        std         four   \n",
              "4          2                164         audi        std         four   \n",
              "\n",
              "    body-style drive-wheels engine-location  wheel-base    length  ...  \\\n",
              "0  convertible          rwd           front        88.6  0.811148  ...   \n",
              "1  convertible          rwd           front        88.6  0.811148  ...   \n",
              "2    hatchback          rwd           front        94.5  0.822681  ...   \n",
              "3        sedan          fwd           front        99.8  0.848630  ...   \n",
              "4        sedan          4wd           front        99.4  0.848630  ...   \n",
              "\n",
              "   compression-ratio  horsepower  peak-rpm city-mpg highway-mpg    price  \\\n",
              "0                9.0       111.0    5000.0       21          27  13495.0   \n",
              "1                9.0       111.0    5000.0       21          27  16500.0   \n",
              "2                9.0       154.0    5000.0       19          26  16500.0   \n",
              "3               10.0       102.0    5500.0       24          30  13950.0   \n",
              "4                8.0       115.0    5500.0       18          22  17450.0   \n",
              "\n",
              "  city-L/100km  horsepower-binned  diesel  gas  \n",
              "0    11.190476             Medium       0    1  \n",
              "1    11.190476             Medium       0    1  \n",
              "2    12.368421             Medium       0    1  \n",
              "3     9.791667             Medium       0    1  \n",
              "4    13.055556             Medium       0    1  \n",
              "\n",
              "[5 rows x 29 columns]"
            ],
            "text/html": [
              "\n",
              "  <div id=\"df-db880568-7981-474d-97cd-18c08073338f\">\n",
              "    <div class=\"colab-df-container\">\n",
              "      <div>\n",
              "<style scoped>\n",
              "    .dataframe tbody tr th:only-of-type {\n",
              "        vertical-align: middle;\n",
              "    }\n",
              "\n",
              "    .dataframe tbody tr th {\n",
              "        vertical-align: top;\n",
              "    }\n",
              "\n",
              "    .dataframe thead th {\n",
              "        text-align: right;\n",
              "    }\n",
              "</style>\n",
              "<table border=\"1\" class=\"dataframe\">\n",
              "  <thead>\n",
              "    <tr style=\"text-align: right;\">\n",
              "      <th></th>\n",
              "      <th>symboling</th>\n",
              "      <th>normalized-losses</th>\n",
              "      <th>make</th>\n",
              "      <th>aspiration</th>\n",
              "      <th>num-of-doors</th>\n",
              "      <th>body-style</th>\n",
              "      <th>drive-wheels</th>\n",
              "      <th>engine-location</th>\n",
              "      <th>wheel-base</th>\n",
              "      <th>length</th>\n",
              "      <th>...</th>\n",
              "      <th>compression-ratio</th>\n",
              "      <th>horsepower</th>\n",
              "      <th>peak-rpm</th>\n",
              "      <th>city-mpg</th>\n",
              "      <th>highway-mpg</th>\n",
              "      <th>price</th>\n",
              "      <th>city-L/100km</th>\n",
              "      <th>horsepower-binned</th>\n",
              "      <th>diesel</th>\n",
              "      <th>gas</th>\n",
              "    </tr>\n",
              "  </thead>\n",
              "  <tbody>\n",
              "    <tr>\n",
              "      <th>0</th>\n",
              "      <td>3</td>\n",
              "      <td>122</td>\n",
              "      <td>alfa-romero</td>\n",
              "      <td>std</td>\n",
              "      <td>two</td>\n",
              "      <td>convertible</td>\n",
              "      <td>rwd</td>\n",
              "      <td>front</td>\n",
              "      <td>88.6</td>\n",
              "      <td>0.811148</td>\n",
              "      <td>...</td>\n",
              "      <td>9.0</td>\n",
              "      <td>111.0</td>\n",
              "      <td>5000.0</td>\n",
              "      <td>21</td>\n",
              "      <td>27</td>\n",
              "      <td>13495.0</td>\n",
              "      <td>11.190476</td>\n",
              "      <td>Medium</td>\n",
              "      <td>0</td>\n",
              "      <td>1</td>\n",
              "    </tr>\n",
              "    <tr>\n",
              "      <th>1</th>\n",
              "      <td>3</td>\n",
              "      <td>122</td>\n",
              "      <td>alfa-romero</td>\n",
              "      <td>std</td>\n",
              "      <td>two</td>\n",
              "      <td>convertible</td>\n",
              "      <td>rwd</td>\n",
              "      <td>front</td>\n",
              "      <td>88.6</td>\n",
              "      <td>0.811148</td>\n",
              "      <td>...</td>\n",
              "      <td>9.0</td>\n",
              "      <td>111.0</td>\n",
              "      <td>5000.0</td>\n",
              "      <td>21</td>\n",
              "      <td>27</td>\n",
              "      <td>16500.0</td>\n",
              "      <td>11.190476</td>\n",
              "      <td>Medium</td>\n",
              "      <td>0</td>\n",
              "      <td>1</td>\n",
              "    </tr>\n",
              "    <tr>\n",
              "      <th>2</th>\n",
              "      <td>1</td>\n",
              "      <td>122</td>\n",
              "      <td>alfa-romero</td>\n",
              "      <td>std</td>\n",
              "      <td>two</td>\n",
              "      <td>hatchback</td>\n",
              "      <td>rwd</td>\n",
              "      <td>front</td>\n",
              "      <td>94.5</td>\n",
              "      <td>0.822681</td>\n",
              "      <td>...</td>\n",
              "      <td>9.0</td>\n",
              "      <td>154.0</td>\n",
              "      <td>5000.0</td>\n",
              "      <td>19</td>\n",
              "      <td>26</td>\n",
              "      <td>16500.0</td>\n",
              "      <td>12.368421</td>\n",
              "      <td>Medium</td>\n",
              "      <td>0</td>\n",
              "      <td>1</td>\n",
              "    </tr>\n",
              "    <tr>\n",
              "      <th>3</th>\n",
              "      <td>2</td>\n",
              "      <td>164</td>\n",
              "      <td>audi</td>\n",
              "      <td>std</td>\n",
              "      <td>four</td>\n",
              "      <td>sedan</td>\n",
              "      <td>fwd</td>\n",
              "      <td>front</td>\n",
              "      <td>99.8</td>\n",
              "      <td>0.848630</td>\n",
              "      <td>...</td>\n",
              "      <td>10.0</td>\n",
              "      <td>102.0</td>\n",
              "      <td>5500.0</td>\n",
              "      <td>24</td>\n",
              "      <td>30</td>\n",
              "      <td>13950.0</td>\n",
              "      <td>9.791667</td>\n",
              "      <td>Medium</td>\n",
              "      <td>0</td>\n",
              "      <td>1</td>\n",
              "    </tr>\n",
              "    <tr>\n",
              "      <th>4</th>\n",
              "      <td>2</td>\n",
              "      <td>164</td>\n",
              "      <td>audi</td>\n",
              "      <td>std</td>\n",
              "      <td>four</td>\n",
              "      <td>sedan</td>\n",
              "      <td>4wd</td>\n",
              "      <td>front</td>\n",
              "      <td>99.4</td>\n",
              "      <td>0.848630</td>\n",
              "      <td>...</td>\n",
              "      <td>8.0</td>\n",
              "      <td>115.0</td>\n",
              "      <td>5500.0</td>\n",
              "      <td>18</td>\n",
              "      <td>22</td>\n",
              "      <td>17450.0</td>\n",
              "      <td>13.055556</td>\n",
              "      <td>Medium</td>\n",
              "      <td>0</td>\n",
              "      <td>1</td>\n",
              "    </tr>\n",
              "  </tbody>\n",
              "</table>\n",
              "<p>5 rows × 29 columns</p>\n",
              "</div>\n",
              "      <button class=\"colab-df-convert\" onclick=\"convertToInteractive('df-db880568-7981-474d-97cd-18c08073338f')\"\n",
              "              title=\"Convert this dataframe to an interactive table.\"\n",
              "              style=\"display:none;\">\n",
              "        \n",
              "  <svg xmlns=\"http://www.w3.org/2000/svg\" height=\"24px\"viewBox=\"0 0 24 24\"\n",
              "       width=\"24px\">\n",
              "    <path d=\"M0 0h24v24H0V0z\" fill=\"none\"/>\n",
              "    <path d=\"M18.56 5.44l.94 2.06.94-2.06 2.06-.94-2.06-.94-.94-2.06-.94 2.06-2.06.94zm-11 1L8.5 8.5l.94-2.06 2.06-.94-2.06-.94L8.5 2.5l-.94 2.06-2.06.94zm10 10l.94 2.06.94-2.06 2.06-.94-2.06-.94-.94-2.06-.94 2.06-2.06.94z\"/><path d=\"M17.41 7.96l-1.37-1.37c-.4-.4-.92-.59-1.43-.59-.52 0-1.04.2-1.43.59L10.3 9.45l-7.72 7.72c-.78.78-.78 2.05 0 2.83L4 21.41c.39.39.9.59 1.41.59.51 0 1.02-.2 1.41-.59l7.78-7.78 2.81-2.81c.8-.78.8-2.07 0-2.86zM5.41 20L4 18.59l7.72-7.72 1.47 1.35L5.41 20z\"/>\n",
              "  </svg>\n",
              "      </button>\n",
              "      \n",
              "  <style>\n",
              "    .colab-df-container {\n",
              "      display:flex;\n",
              "      flex-wrap:wrap;\n",
              "      gap: 12px;\n",
              "    }\n",
              "\n",
              "    .colab-df-convert {\n",
              "      background-color: #E8F0FE;\n",
              "      border: none;\n",
              "      border-radius: 50%;\n",
              "      cursor: pointer;\n",
              "      display: none;\n",
              "      fill: #1967D2;\n",
              "      height: 32px;\n",
              "      padding: 0 0 0 0;\n",
              "      width: 32px;\n",
              "    }\n",
              "\n",
              "    .colab-df-convert:hover {\n",
              "      background-color: #E2EBFA;\n",
              "      box-shadow: 0px 1px 2px rgba(60, 64, 67, 0.3), 0px 1px 3px 1px rgba(60, 64, 67, 0.15);\n",
              "      fill: #174EA6;\n",
              "    }\n",
              "\n",
              "    [theme=dark] .colab-df-convert {\n",
              "      background-color: #3B4455;\n",
              "      fill: #D2E3FC;\n",
              "    }\n",
              "\n",
              "    [theme=dark] .colab-df-convert:hover {\n",
              "      background-color: #434B5C;\n",
              "      box-shadow: 0px 1px 3px 1px rgba(0, 0, 0, 0.15);\n",
              "      filter: drop-shadow(0px 1px 2px rgba(0, 0, 0, 0.3));\n",
              "      fill: #FFFFFF;\n",
              "    }\n",
              "  </style>\n",
              "\n",
              "      <script>\n",
              "        const buttonEl =\n",
              "          document.querySelector('#df-db880568-7981-474d-97cd-18c08073338f button.colab-df-convert');\n",
              "        buttonEl.style.display =\n",
              "          google.colab.kernel.accessAllowed ? 'block' : 'none';\n",
              "\n",
              "        async function convertToInteractive(key) {\n",
              "          const element = document.querySelector('#df-db880568-7981-474d-97cd-18c08073338f');\n",
              "          const dataTable =\n",
              "            await google.colab.kernel.invokeFunction('convertToInteractive',\n",
              "                                                     [key], {});\n",
              "          if (!dataTable) return;\n",
              "\n",
              "          const docLinkHtml = 'Like what you see? Visit the ' +\n",
              "            '<a target=\"_blank\" href=https://colab.research.google.com/notebooks/data_table.ipynb>data table notebook</a>'\n",
              "            + ' to learn more about interactive tables.';\n",
              "          element.innerHTML = '';\n",
              "          dataTable['output_type'] = 'display_data';\n",
              "          await google.colab.output.renderOutput(dataTable, element);\n",
              "          const docLink = document.createElement('div');\n",
              "          docLink.innerHTML = docLinkHtml;\n",
              "          element.appendChild(docLink);\n",
              "        }\n",
              "      </script>\n",
              "    </div>\n",
              "  </div>\n",
              "  "
            ]
          },
          "metadata": {},
          "execution_count": 72
        }
      ]
    },
    {
      "cell_type": "code",
      "source": [
        "from sklearn.linear_model import LinearRegression"
      ],
      "metadata": {
        "id": "9iThoYoF1VFi"
      },
      "execution_count": 73,
      "outputs": []
    },
    {
      "cell_type": "code",
      "source": [
        "lm = LinearRegression()\n",
        "lm"
      ],
      "metadata": {
        "colab": {
          "base_uri": "https://localhost:8080/"
        },
        "id": "yk367NtO1Wny",
        "outputId": "122806e8-6683-4aea-8901-edd581bece06"
      },
      "execution_count": 114,
      "outputs": [
        {
          "output_type": "execute_result",
          "data": {
            "text/plain": [
              "LinearRegression()"
            ]
          },
          "metadata": {},
          "execution_count": 114
        }
      ]
    },
    {
      "cell_type": "markdown",
      "source": [
        "Asignacion de  las columas x,Y."
      ],
      "metadata": {
        "id": "aipxqox06d4G"
      }
    },
    {
      "cell_type": "code",
      "source": [
        "X = df[['highway-mpg']]\n",
        "Y = df['price']"
      ],
      "metadata": {
        "id": "8znCd_-91Xsp"
      },
      "execution_count": 115,
      "outputs": []
    },
    {
      "cell_type": "markdown",
      "source": [
        "Asingación de los valores a ala regrsion linear."
      ],
      "metadata": {
        "id": "1ml0cSoM6mvG"
      }
    },
    {
      "cell_type": "code",
      "source": [
        "lm.fit(X,Y)"
      ],
      "metadata": {
        "colab": {
          "base_uri": "https://localhost:8080/"
        },
        "id": "F1hy7Ua91YmK",
        "outputId": "e1475f27-b424-49ce-e776-2e268de58dd2"
      },
      "execution_count": 116,
      "outputs": [
        {
          "output_type": "execute_result",
          "data": {
            "text/plain": [
              "LinearRegression()"
            ]
          },
          "metadata": {},
          "execution_count": 116
        }
      ]
    },
    {
      "cell_type": "markdown",
      "source": [
        "Genracion de la prediccion con los valoes."
      ],
      "metadata": {
        "id": "yQbnBU8q6v-a"
      }
    },
    {
      "cell_type": "code",
      "source": [
        "Yhat=lm.predict(X)\n",
        "Yhat[0:5]   "
      ],
      "metadata": {
        "colab": {
          "base_uri": "https://localhost:8080/"
        },
        "id": "dPrbuHAr1ZiK",
        "outputId": "344e5327-855a-4473-deb9-e4439d3b3ab9"
      },
      "execution_count": 117,
      "outputs": [
        {
          "output_type": "execute_result",
          "data": {
            "text/plain": [
              "array([16236.50464347, 16236.50464347, 17058.23802179, 13771.3045085 ,\n",
              "       20345.17153508])"
            ]
          },
          "metadata": {},
          "execution_count": 117
        }
      ]
    },
    {
      "cell_type": "code",
      "source": [
        "lm.intercept_"
      ],
      "metadata": {
        "colab": {
          "base_uri": "https://localhost:8080/"
        },
        "id": "EmrSlKBY1buz",
        "outputId": "185f28bd-948c-4511-f794-ebcdbdc051f2"
      },
      "execution_count": 80,
      "outputs": [
        {
          "output_type": "execute_result",
          "data": {
            "text/plain": [
              "38423.3058581574"
            ]
          },
          "metadata": {},
          "execution_count": 80
        }
      ]
    },
    {
      "cell_type": "code",
      "source": [
        "lm.coef_"
      ],
      "metadata": {
        "colab": {
          "base_uri": "https://localhost:8080/"
        },
        "id": "RrorXqss1k6g",
        "outputId": "989c9dd6-dc7d-42ea-f26f-68bc179d9977"
      },
      "execution_count": 118,
      "outputs": [
        {
          "output_type": "execute_result",
          "data": {
            "text/plain": [
              "array([-821.73337832])"
            ]
          },
          "metadata": {},
          "execution_count": 118
        }
      ]
    },
    {
      "cell_type": "markdown",
      "source": [
        "######Multiple Linear Regression"
      ],
      "metadata": {
        "id": "u8Q90t2t1qO8"
      }
    },
    {
      "cell_type": "markdown",
      "source": [
        "\n",
        "La regresión lineal múltiple es muy similar a la regresión lineal simple, pero este método se utiliza para explicar la relación entre una variable de respuesta continua (dependiente) y dos o más variables predictoras (independientes). La mayoría de los modelos de regresión del mundo real involucran múltiples predictores.\n",
        "\n",
        "\n",
        "![image.png](data:image/png;base64,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)"
      ],
      "metadata": {
        "id": "batkUHBe2EqT"
      }
    },
    {
      "cell_type": "code",
      "source": [
        "Z = df[['horsepower', 'curb-weight', 'engine-size', 'highway-mpg']]"
      ],
      "metadata": {
        "id": "pWpj727d19As"
      },
      "execution_count": 81,
      "outputs": []
    },
    {
      "cell_type": "markdown",
      "source": [
        "Seleccion de variables para la prediccón."
      ],
      "metadata": {
        "id": "y2RTFBCf71Fs"
      }
    },
    {
      "cell_type": "markdown",
      "source": [
        "Generaciónn de la regresion."
      ],
      "metadata": {
        "id": "9IsGrGgq8Cp0"
      }
    },
    {
      "cell_type": "code",
      "source": [
        "lm.fit(Z, df['price'])"
      ],
      "metadata": {
        "colab": {
          "base_uri": "https://localhost:8080/"
        },
        "id": "T9mqfcZl1-2-",
        "outputId": "7312e9cf-92a0-424c-db9d-141bb0f27d9e"
      },
      "execution_count": 119,
      "outputs": [
        {
          "output_type": "execute_result",
          "data": {
            "text/plain": [
              "LinearRegression()"
            ]
          },
          "metadata": {},
          "execution_count": 119
        }
      ]
    },
    {
      "cell_type": "code",
      "source": [
        "lm.intercept_"
      ],
      "metadata": {
        "colab": {
          "base_uri": "https://localhost:8080/"
        },
        "id": "Y6-K9a1s1_tG",
        "outputId": "1e706f8f-f51a-4a6e-e321-11f4ecd17847"
      },
      "execution_count": 120,
      "outputs": [
        {
          "output_type": "execute_result",
          "data": {
            "text/plain": [
              "-15806.62462632922"
            ]
          },
          "metadata": {},
          "execution_count": 120
        }
      ]
    },
    {
      "cell_type": "code",
      "source": [
        "lm.coef_"
      ],
      "metadata": {
        "colab": {
          "base_uri": "https://localhost:8080/"
        },
        "id": "ESPDm8H02AlZ",
        "outputId": "4dbd3c54-b06a-471f-ea46-6fa2328f50ba"
      },
      "execution_count": 121,
      "outputs": [
        {
          "output_type": "execute_result",
          "data": {
            "text/plain": [
              "array([53.49574423,  4.70770099, 81.53026382, 36.05748882])"
            ]
          },
          "metadata": {},
          "execution_count": 121
        }
      ]
    },
    {
      "cell_type": "markdown",
      "source": [
        "#####Model Evaluation Using Visualization"
      ],
      "metadata": {
        "id": "rRGI_Mb62YxC"
      }
    },
    {
      "cell_type": "markdown",
      "source": [
        "Al generar el gráfico se mostrará una combinación de puntos de datos dispersos, así como la línea de regresión lineal ajustada que pasa por los datos."
      ],
      "metadata": {
        "id": "oQ24K7eE8Qz6"
      }
    },
    {
      "cell_type": "code",
      "source": [
        "import seaborn as sns\n",
        "%matplotlib inline "
      ],
      "metadata": {
        "id": "b3NdD5ps2bRe"
      },
      "execution_count": 86,
      "outputs": []
    },
    {
      "cell_type": "markdown",
      "source": [
        "Generación de la grafica de regresión."
      ],
      "metadata": {
        "id": "mHy8GG7f8wbp"
      }
    },
    {
      "cell_type": "code",
      "source": [
        "plt.figure(figsize=(width, height))\n",
        "sns.regplot(x=\"peak-rpm\", y=\"price\", data=df)\n",
        "plt.ylim(0,)"
      ],
      "metadata": {
        "colab": {
          "base_uri": "https://localhost:8080/",
          "height": 537
        },
        "id": "yFcZsGa_2mpB",
        "outputId": "a97791a3-e77c-4924-ed69-f9b1aff0cb01"
      },
      "execution_count": 88,
      "outputs": [
        {
          "output_type": "execute_result",
          "data": {
            "text/plain": [
              "(0.0, 47414.1)"
            ]
          },
          "metadata": {},
          "execution_count": 88
        },
        {
          "output_type": "display_data",
          "data": {
            "text/plain": [
              "<Figure size 864x720 with 1 Axes>"
            ],
            "image/png": "[encoded data removed]"
          },
          "metadata": {
            "needs_background": "light"
          }
        }
      ]
    },
    {
      "cell_type": "code",
      "source": [
        "Y_hat = lm.predict(Z)"
      ],
      "metadata": {
        "id": "S31yqFxR2s8s"
      },
      "execution_count": 89,
      "outputs": []
    },
    {
      "cell_type": "code",
      "source": [
        "plt.figure(figsize=(width, height))\n",
        "\n",
        "\n",
        "ax1 = sns.distplot(df['price'], hist=False, color=\"r\", label=\"Actual Value\")\n",
        "sns.distplot(Y_hat, hist=False, color=\"b\", label=\"Fitted Values\" , ax=ax1)\n",
        "\n",
        "\n",
        "plt.title('Actual vs Fitted Values for Price')\n",
        "plt.xlabel('Price (in dollars)')\n",
        "plt.ylabel('Proportion of Cars')\n",
        "\n",
        "plt.show()\n",
        "plt.close()"
      ],
      "metadata": {
        "colab": {
          "base_uri": "https://localhost:8080/",
          "height": 710
        },
        "id": "ZyPC1lHU2uWL",
        "outputId": "c0363b48-97c6-4d01-b371-a393330a724c"
      },
      "execution_count": 90,
      "outputs": [
        {
          "output_type": "stream",
          "name": "stderr",
          "text": [
            "/usr/local/lib/python3.7/dist-packages/seaborn/distributions.py:2619: FutureWarning: `distplot` is a deprecated function and will be removed in a future version. Please adapt your code to use either `displot` (a figure-level function with similar flexibility) or `kdeplot` (an axes-level function for kernel density plots).\n",
            "  warnings.warn(msg, FutureWarning)\n",
            "/usr/local/lib/python3.7/dist-packages/seaborn/distributions.py:2619: FutureWarning: `distplot` is a deprecated function and will be removed in a future version. Please adapt your code to use either `displot` (a figure-level function with similar flexibility) or `kdeplot` (an axes-level function for kernel density plots).\n",
            "  warnings.warn(msg, FutureWarning)\n"
          ]
        },
        {
          "output_type": "display_data",
          "data": {
            "text/plain": [
              "<Figure size 864x720 with 1 Axes>"
            ],
            "image/png": "[encoded data removed]"
          },
          "metadata": {
            "needs_background": "light"
          }
        }
      ]
    },
    {
      "cell_type": "markdown",
      "source": [
        "#####Polynomial Regression and Pipelines"
      ],
      "metadata": {
        "id": "6VoR1dCe9IyW"
      }
    },
    {
      "cell_type": "markdown",
      "source": [
        "\n",
        "La regresión polinomial es un caso particular del modelo de regresión lineal general o de los modelos de regresión lineal múltiple."
      ],
      "metadata": {
        "id": "fRvc9Pr_9PHA"
      }
    },
    {
      "cell_type": "markdown",
      "source": [
        "![image.png](data:image/png;base64,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)"
      ],
      "metadata": {
        "id": "dKmPvxGy2yIw"
      }
    },
    {
      "cell_type": "markdown",
      "source": [
        "Generación de función para la graficación de los valores"
      ],
      "metadata": {
        "id": "mzI8uZtK9S76"
      }
    },
    {
      "cell_type": "code",
      "source": [
        "def PlotPolly(model, independent_variable, dependent_variabble, Name):\n",
        "    x_new = np.linspace(15, 55, 100)\n",
        "    y_new = model(x_new)\n",
        "\n",
        "    plt.plot(independent_variable, dependent_variabble, '.', x_new, y_new, '-')\n",
        "    plt.title('Polynomial Fit with Matplotlib for Price ~ Length')\n",
        "    ax = plt.gca()\n",
        "    ax.set_facecolor((0.898, 0.898, 0.898))\n",
        "    fig = plt.gcf()\n",
        "    plt.xlabel(Name)\n",
        "    plt.ylabel('Price of Cars')\n",
        "\n",
        "    plt.show()\n",
        "    plt.close()"
      ],
      "metadata": {
        "id": "J6uqjec64E1m"
      },
      "execution_count": 91,
      "outputs": []
    },
    {
      "cell_type": "code",
      "source": [
        "x = df['highway-mpg']\n",
        "y = df['price']"
      ],
      "metadata": {
        "id": "4uiYpYT24GDY"
      },
      "execution_count": 92,
      "outputs": []
    },
    {
      "cell_type": "code",
      "source": [
        "f = np.polyfit(x, y, 3)\n",
        "p = np.poly1d(f)\n",
        "print(p)"
      ],
      "metadata": {
        "colab": {
          "base_uri": "https://localhost:8080/"
        },
        "id": "xq4XinMm4HDg",
        "outputId": "e0b25e08-9b5f-4f7e-d91f-c035bf5f9e52"
      },
      "execution_count": 93,
      "outputs": [
        {
          "output_type": "stream",
          "name": "stdout",
          "text": [
            "        3         2\n",
            "-1.557 x + 204.8 x - 8965 x + 1.379e+05\n"
          ]
        }
      ]
    },
    {
      "cell_type": "code",
      "source": [
        "PlotPolly(p, x, y, 'highway-mpg')"
      ],
      "metadata": {
        "colab": {
          "base_uri": "https://localhost:8080/",
          "height": 295
        },
        "id": "tbyCcMGZ4IS3",
        "outputId": "b0a64240-e43e-47df-9569-36dce4e77b2e"
      },
      "execution_count": 94,
      "outputs": [
        {
          "output_type": "display_data",
          "data": {
            "text/plain": [
              "<Figure size 432x288 with 1 Axes>"
            ],
            "image/png": "[encoded data removed]"
          },
          "metadata": {
            "needs_background": "light"
          }
        }
      ]
    },
    {
      "cell_type": "code",
      "source": [
        "np.polyfit(x, y, 3)"
      ],
      "metadata": {
        "colab": {
          "base_uri": "https://localhost:8080/"
        },
        "id": "7hNY09y54JQJ",
        "outputId": "6a74e2e8-de99-495c-cabb-1263bfd2ea07"
      },
      "execution_count": 95,
      "outputs": [
        {
          "output_type": "execute_result",
          "data": {
            "text/plain": [
              "array([-1.55663829e+00,  2.04754306e+02, -8.96543312e+03,  1.37923594e+05])"
            ]
          },
          "metadata": {},
          "execution_count": 95
        }
      ]
    },
    {
      "cell_type": "markdown",
      "source": [
        "#####MSE"
      ],
      "metadata": {
        "id": "CXqyl_Es4kBV"
      }
    },
    {
      "cell_type": "markdown",
      "source": [
        "R-cuadrado\n",
        "\n",
        "R cuadrado, también conocido como coeficiente de determinación, es una medida para indicar qué tan cerca están los datos de la línea de regresión ajustada.\n",
        "\n",
        "El valor de la R-cuadrado es el porcentaje de variación de la variable de respuesta (y) que se explica mediante un modelo lineal.\n",
        "\n",
        "Error cuadrático medio (MSE)\n",
        "\n",
        "El error cuadrático medio mide el promedio de los cuadrados de los errores. Es decir, la diferencia entre el valor real (y) y el valor estimado (ŷ)."
      ],
      "metadata": {
        "id": "guqSYSsQ5NyR"
      }
    },
    {
      "cell_type": "markdown",
      "source": [
        "![image.png](data:image/png;base64,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)"
      ],
      "metadata": {
        "id": "Vh5AnD-R5IbV"
      }
    },
    {
      "cell_type": "code",
      "source": [
        "lm.fit(X, Y)\n",
        "# Find the R^2\n",
        "print('The R-square is: ', lm.score(X, Y))"
      ],
      "metadata": {
        "colab": {
          "base_uri": "https://localhost:8080/"
        },
        "id": "9KaKSX4X4skX",
        "outputId": "c71d451d-1d83-4bf8-c59e-ab4c3d16ef0f"
      },
      "execution_count": 105,
      "outputs": [
        {
          "output_type": "stream",
          "name": "stdout",
          "text": [
            "The R-square is:  0.4965911884339176\n"
          ]
        }
      ]
    },
    {
      "cell_type": "markdown",
      "source": [
        "Regresión simple."
      ],
      "metadata": {
        "id": "MTQnokqF5YBm"
      }
    },
    {
      "cell_type": "code",
      "source": [
        "hat=lm.predict(X)\n",
        "print('The output of the first four predicted value is: ', Yhat[0:4])"
      ],
      "metadata": {
        "colab": {
          "base_uri": "https://localhost:8080/"
        },
        "id": "VMe2J3AN5Sn6",
        "outputId": "40e455bb-54a5-470d-964d-cfc19dd8c4c0"
      },
      "execution_count": 102,
      "outputs": [
        {
          "output_type": "stream",
          "name": "stdout",
          "text": [
            "The output of the first four predicted value is:  [16236.50464347 16236.50464347 17058.23802179 13771.3045085 ]\n"
          ]
        }
      ]
    },
    {
      "cell_type": "code",
      "source": [
        "from sklearn.metrics import mean_squared_error"
      ],
      "metadata": {
        "id": "GmzrKlxG5Ugk"
      },
      "execution_count": 298,
      "outputs": []
    },
    {
      "cell_type": "code",
      "source": [
        "mse = mean_squared_error(df['price'], Yhat)\n",
        "print('The mean square error of price and predicted value is: ', mse)"
      ],
      "metadata": {
        "colab": {
          "base_uri": "https://localhost:8080/"
        },
        "id": "DWnYAQ0V5V5N",
        "outputId": "5c09ccee-17da-4d01-fdb7-ac1f8e073327"
      },
      "execution_count": 104,
      "outputs": [
        {
          "output_type": "stream",
          "name": "stdout",
          "text": [
            "The mean square error of price and predicted value is:  31635042.944639888\n"
          ]
        }
      ]
    },
    {
      "cell_type": "markdown",
      "source": [
        "Regresión múltimple."
      ],
      "metadata": {
        "id": "HOHmYvhV5eVi"
      }
    },
    {
      "cell_type": "code",
      "source": [
        "# fit the model \n",
        "lm.fit(Z, df['price'])\n",
        "# Find the R^2\n",
        "print('The R-square is: ', lm.score(Z, df['price']))"
      ],
      "metadata": {
        "colab": {
          "base_uri": "https://localhost:8080/"
        },
        "id": "S1fHFB7l5jCl",
        "outputId": "e068e5d2-f67f-4a43-8b6a-dd9568997ba7"
      },
      "execution_count": 106,
      "outputs": [
        {
          "output_type": "stream",
          "name": "stdout",
          "text": [
            "The R-square is:  0.8093562806577457\n"
          ]
        }
      ]
    },
    {
      "cell_type": "code",
      "source": [
        "Y_predict_multifit = lm.predict(Z)"
      ],
      "metadata": {
        "id": "MJIwRvhW5kEE"
      },
      "execution_count": 107,
      "outputs": []
    },
    {
      "cell_type": "code",
      "source": [
        "print('The mean square error of price and predicted value using multifit is: ', \\\n",
        "      mean_squared_error(df['price'], Y_predict_multifit))"
      ],
      "metadata": {
        "colab": {
          "base_uri": "https://localhost:8080/"
        },
        "id": "X36Ezw2J5mBw",
        "outputId": "7ca20c02-2e05-4948-fa9f-b203bcc19caf"
      },
      "execution_count": 108,
      "outputs": [
        {
          "output_type": "stream",
          "name": "stdout",
          "text": [
            "The mean square error of price and predicted value using multifit is:  11980366.87072649\n"
          ]
        }
      ]
    },
    {
      "cell_type": "markdown",
      "source": [
        "\n",
        "Ajuste polinomial"
      ],
      "metadata": {
        "id": "kaLXih7U5txB"
      }
    },
    {
      "cell_type": "code",
      "source": [
        "from sklearn.metrics import r2_score"
      ],
      "metadata": {
        "id": "C8hEWsfx5v1K"
      },
      "execution_count": 111,
      "outputs": []
    },
    {
      "cell_type": "code",
      "source": [
        "r_squared = r2_score(y, p(x))\n",
        "print('The R-square value is: ', r_squared)"
      ],
      "metadata": {
        "colab": {
          "base_uri": "https://localhost:8080/"
        },
        "id": "5m18vrbH5uND",
        "outputId": "296733f2-8636-4e76-c12c-d71b4f2309e9"
      },
      "execution_count": 112,
      "outputs": [
        {
          "output_type": "stream",
          "name": "stdout",
          "text": [
            "The R-square value is:  0.674194666390652\n"
          ]
        }
      ]
    },
    {
      "cell_type": "markdown",
      "source": [
        "MSE"
      ],
      "metadata": {
        "id": "ifqi25ZV5oP3"
      }
    },
    {
      "cell_type": "code",
      "source": [
        "mean_squared_error(df['price'], p(x))"
      ],
      "metadata": {
        "colab": {
          "base_uri": "https://localhost:8080/"
        },
        "id": "-RvielUw5pXG",
        "outputId": "da8920bb-4f36-4868-ef51-a66b458b99b2"
      },
      "execution_count": 113,
      "outputs": [
        {
          "output_type": "execute_result",
          "data": {
            "text/plain": [
              "20474146.426361218"
            ]
          },
          "metadata": {},
          "execution_count": 113
        }
      ]
    },
    {
      "cell_type": "markdown",
      "source": [
        "![image.png](data:image/png;base64,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)"
      ],
      "metadata": {
        "id": "JCixM4grTWZd"
      }
    },
    {
      "cell_type": "markdown",
      "source": [
        "![image.png](data:image/png;base64,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)"
      ],
      "metadata": {
        "id": "5abk4tV7TssX"
      }
    },
    {
      "cell_type": "markdown",
      "source": [
        "![image.png](data:image/png;base64,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)"
      ],
      "metadata": {
        "id": "2J219xRyULdH"
      }
    },
    {
      "cell_type": "markdown",
      "source": [
        "![image.png](data:image/png;base64,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)"
      ],
      "metadata": {
        "id": "o1HAWV9gS6uy"
      }
    }
  ]
}